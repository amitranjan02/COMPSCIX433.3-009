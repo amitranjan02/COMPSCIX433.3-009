{
  "nbformat": 4,
  "nbformat_minor": 0,
  "metadata": {
    "colab": {
      "name": "COMPSCIX433.3-009 Assingment1.ipynb",
      "provenance": []
    },
    "kernelspec": {
      "name": "python3",
      "display_name": "Python 3"
    }
  },
  "cells": [
    {
      "cell_type": "markdown",
      "metadata": {
        "id": "8LjsWvjHELSz",
        "colab_type": "text"
      },
      "source": [
        "Q1:What\tare\tthe\tdifferent\tsteps\tof\tdata\tanalysis\tand\twhat\tis\tdone\tduring each\tstep"
      ]
    },
    {
      "cell_type": "markdown",
      "metadata": {
        "id": "reFmxl5IEbrt",
        "colab_type": "text"
      },
      "source": [
        "Q1: Ans:\n",
        "\n",
        "Step 1: Design\n",
        "\n",
        "Setting of goals\n",
        "\n",
        "This is the first step in the data modeling procedure. It’s vital that understandable, simple, short, and measurable goals are defined before any data collection begins. These objectives might be set out in question format, for example, if my business is struggling to sell its products, some relevant questions may be, “Are we overpricing our goods?” and “How is the competition’s product different to ours?”\n",
        "\n",
        "As we can appreciate, the type of data we’ll be collecting will differ hugely depending on what questions we need to be answer. Data analysis is a lengthy and sometimes costly procedure, so it’s essential that we don’t waste time and money by gathering data that isn’t relevant. It’s vital to ask the right questions, so the data modeling team knows what information you need.\n",
        "\n",
        "Setting priorities for measurement  \n",
        "Once our goals have been defined, next step is to decide what it is we are going to be measuring, and what methods we will use to measure it.\n",
        "\n",
        "Determine what you’re going to be measuring\n",
        "\n",
        "At this point, you’ll need to determine exactly what type of data you’ll be needing to answer your questions. \n",
        "All the data that’s gathered to answer the main questions and these secondary questions can be converted into useful information that will assist your company in its decision making. For instance, you may in the light of what is found decided to cut a few posts and replace some workers with machines.\n",
        "\n",
        "Choose a measurement\n",
        "\n",
        "It’s vital that we choose the criteria that’ll be utilized in the measurement of the data you’re going to collect. The reason is that the way in which the data is collected will determine how it gets analyzed later.\n",
        "You need to be asking how much time you want to take for the analysis of the project. You also need to know the units of measurement you’ll be using. For example, if you market your company’s product overseas, will your money measurements be in dollars or yen?  Regarding the employee question we discussed earlier, you would, for example, need to decide if you’re going to take the employees’s bonuses or their safety equipment costs into the picture or not.\n",
        "\n",
        "Step 2: Obtain Data\n",
        "The next phase of the data modeling procedure is the actual gathering of data. Now that you know your priorities and what it is that you’re going to be measuring, it’ll be much simpler to collect the information in an organized way.\n",
        "\n",
        "Step 3: Data Prep\n",
        "Data scrubbing, or cleansing, is the process where you’ll find, then amend or remove any incorrect or superfluous data. Some of the information that you’ve gathered may have been duplicated, it may be incomplete, or it may be redundant.\n",
        "Finally, the data scrubbing is no substitute for getting good quality data in the first place.\n",
        "Step 4: Analysis of data\n",
        "Now that you have collected the data you need, it is time to analyze it. There are several methods you can use for this, for instance, data mining, business intelligence, data visualization, or exploratory data analysis. The latter is a way in which sets of information are analyzed to determine their distinct characteristics. In this way, the data can finally be used to test your original hypothesis.\n",
        "\n",
        "Step 5: Analysis of data\n",
        "\n",
        "The data analysis part of the overall process is very labor intensive. Statistics need to be compared and contrasted, looking for similarities and differences. Different researchers prefer different methods. Some prefer to use software as the main way of analyzing the data, while others use software merely as a tool to organize and manage the information. If the data analysis and visualization tools didn’t resentment in the quality you were looking, then go back to Data Prep step and explore what else we can do to enhance the data quality to meet our needs, else we may need to request new data elements to split the data quality\n",
        "\n",
        "Step 6: Result interpretation / presentation\n",
        "Once the data has been sorted and analyzed, it can be interpreted. You will now be able to see if what has been collected is helpful in answering your original question. Does it help you with any objections that may have been raised initially? Are any of the results limiting, or inconclusive? If this is the case, you may have to conduct further research. \n",
        "Interpret the data precisely\n",
        "It is of paramount importance that the data you have gathered is meticulously and carefully interpreted. It’s extremely vital that our company has access to experts who can give you the correct results.\n",
        "\n"
      ]
    },
    {
      "cell_type": "markdown",
      "metadata": {
        "id": "XRKucc38rko0",
        "colab_type": "text"
      },
      "source": [
        "Create a vector of positive odd integers less that 100. Find if there are numbers greater than 80"
      ]
    },
    {
      "cell_type": "code",
      "metadata": {
        "id": "21FqaODdrsoV",
        "colab_type": "code",
        "colab": {}
      },
      "source": [
        "vector_list = list(range(1,100,2))\n",
        "print(\"All Odd numbers between 1 and 100 (excluding 100)\")\n",
        "print(vector_list)\n",
        "more_than_eighty = list(filter(lambda x: x > 80, vector_list))\n",
        "print(\"Odd numbers Greater than 80\")\n",
        "print(more_than_eighty)"
      ],
      "execution_count": 0,
      "outputs": []
    },
    {
      "cell_type": "markdown",
      "metadata": {
        "id": "lGlv4l4-ujla",
        "colab_type": "text"
      },
      "source": [
        "X\t=\t[“John”,\t“Jenny”,\t“Ron”\t,\t“Mary”].\t\n",
        "Give\ttwo\tways\tto\taccess\tRon.\n",
        "\n",
        "Ans: We can access Ron using the Inxed whic is '2' or using the Key Find 'Ron' Below code is an example"
      ]
    },
    {
      "cell_type": "code",
      "metadata": {
        "id": "Y3u6lbZ6uujC",
        "colab_type": "code",
        "colab": {}
      },
      "source": [
        "X\t=\t['John',\t'Jenny',\t'Ron'\t,\t'Mary']\n",
        "print(\"Access using Key\")\n",
        "print(X[2:3])\n",
        "print(\"Access using Inex\")\n",
        "print(X[2])"
      ],
      "execution_count": 0,
      "outputs": []
    },
    {
      "cell_type": "markdown",
      "metadata": {
        "id": "TyFk0pUywNg4",
        "colab_type": "text"
      },
      "source": [
        "You\thave:\t\n",
        "Vec1\t=\t[“John”,\t“Jenny”,\t“Mary”,\t“Ron”].\t\n",
        "Use\tthis\tlist\tto\tcreate\tthis\toutput\tusing\ta\tfor/in\tloop.\n",
        "Hello\tJohn!\t\tHello\tJenny!\t\tHello\tMary!\t\tHello\tRon\t\n"
      ]
    },
    {
      "cell_type": "code",
      "metadata": {
        "id": "YsFqFFmEwPcD",
        "colab_type": "code",
        "colab": {}
      },
      "source": [
        "Vec1 = ['John', 'Jenny', 'Mary', 'Ron']\n",
        "int_str = []\n",
        "final_str = []\n",
        "str1 = ' Hello '\n",
        "str2 = '!'\n",
        "for x in Vec1[:]:\n",
        "    int_str.append(str1 + x)\n",
        "\n",
        "final_str = str2.join(int_str)\n",
        "print(final_str)"
      ],
      "execution_count": 0,
      "outputs": []
    },
    {
      "cell_type": "markdown",
      "metadata": {
        "id": "cYoMwHm66lQs",
        "colab_type": "text"
      },
      "source": [
        "Create\ttwo\tlists:\t\t\"John\",\t\"Jenny\",\t\"Ron\".\t\tAnd\there\tare\t\n",
        "some\tmore:\t\"Mary\",\t\"Chris\",\t “Patrick\".\n",
        "- put\tyour\ttwo\tlists\tinto\tone\tbig\tlist\tin\tthree\tdifferent\t\n",
        "ways\n",
        "- Add\t“\tSandy”\tto\tyour\tbig\tlist\tin\t3\tdifferent\tways"
      ]
    },
    {
      "cell_type": "code",
      "metadata": {
        "id": "UHHLvpVi6mU-",
        "colab_type": "code",
        "colab": {}
      },
      "source": [
        "list1 = [ \"John\",\t\"Jenny\",\t\"Ron\"]\n",
        "list2 = [ \"Mary\", \"Chris\", \"Patrick\"]\n",
        "list3 = [\"Sandy\"]\n",
        "print(\"Join List using 1St Method\")\n",
        "print(list1 + list2)\n",
        "print(\"Append Sandy by Joining 1st Type\")\n",
        "print(list1 + list2 + list3)\n",
        "print(\"Join List using 2nd method\")\n",
        "joinedList = [*list1, *list2]\n",
        "print(joinedList)\n",
        "print(\"Append Sandy by Joining 2nd Type\")\n",
        "joinedList.insert(7, \"Sandy\")\n",
        "print(joinedList)\n",
        "print(\"Join List using 3rd method\")\n",
        "mergedlist = list(set(list1 + list2))\n",
        "print(mergedlist)\n",
        "print(\"Join List using 4th method\")\n",
        "list1.extend(list2)\n",
        "list1.extend(list3)\n",
        "print(list1)"
      ],
      "execution_count": 0,
      "outputs": []
    },
    {
      "cell_type": "markdown",
      "metadata": {
        "id": "Fa9Wg-UT_MuS",
        "colab_type": "text"
      },
      "source": [
        "def\tadd_two(A=10,\tB=11):\n",
        "C\t=\tA\t+\tB\n",
        "print('The\tvalue\tof\tA\tis:\t%d'\t%A)\n",
        "print('The\tvalue\tof\tB\tis:\t%d'\t%B)\n",
        "return\tC\n",
        "Can\tyou\tfind\tthe\tproblem\twith\tthe\tfollowing\tcall:\n",
        "Print(add_two(A=10,\t5)\n",
        "\n",
        "Ans: In Above call the function defnition has Named argument B, but while calling we are passing it as default argument. We should change the call as named param as print(add_two(A=10,B=5))"
      ]
    },
    {
      "cell_type": "code",
      "metadata": {
        "id": "EGdf8moP_TVM",
        "colab_type": "code",
        "colab": {}
      },
      "source": [
        "def add_two(A=10, B=11): \n",
        "  C = A + B \n",
        "  print('The value of A is: %d' %A) \n",
        "  print('The value of B is: %d' %B) \n",
        "  return C\n",
        "\n",
        "print(add_two(A=10,B=5))"
      ],
      "execution_count": 0,
      "outputs": []
    },
    {
      "cell_type": "markdown",
      "metadata": {
        "id": "YaqrFRxpAK8b",
        "colab_type": "text"
      },
      "source": [
        "Write\ta\tfunction\tto\treturn\tmean,\tstandard\tdeviation\tand\t\n",
        "median\tof\ta\tlist.\tVerify\twith\texample"
      ]
    },
    {
      "cell_type": "code",
      "metadata": {
        "id": "zkNxL5kzASQg",
        "colab_type": "code",
        "colab": {}
      },
      "source": [
        "import statistics\n",
        "list_of_numbers = list(range(1,200, 3))\n",
        "\n",
        "def listSummary(data): \n",
        "  data_mean = statistics.mean(data)\n",
        "  data_stddev = statistics.stdev(data)\n",
        "  data_median = statistics.median(data)\n",
        "  return data_mean, data_stddev, data_median\n",
        "\n",
        "  \n",
        "print(\"List:\", list_of_numbers)\n",
        "d_mean, d_stddev, d_median = listSummary(list_of_numbers)\n",
        "print(\"Mean: \", d_mean, \"Standard Deviation: \", d_stddev,\"Median: \", d_median)"
      ],
      "execution_count": 0,
      "outputs": []
    }
  ]
}
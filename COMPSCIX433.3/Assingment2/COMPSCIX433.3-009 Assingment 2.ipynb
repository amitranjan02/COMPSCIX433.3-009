{
 "cells": [
  {
   "cell_type": "markdown",
   "metadata": {
    "colab_type": "text",
    "id": "N7sS61paz8pt"
   },
   "source": [
    "Create\ta\tnull\tvector\tof\tsize\t20\tbut\tthe\t10th value\tof\t20"
   ]
  },
  {
   "cell_type": "code",
   "execution_count": 156,
   "metadata": {
    "colab": {},
    "colab_type": "code",
    "id": "_uVcNjR1z5dV"
   },
   "outputs": [
    {
     "name": "stdout",
     "output_type": "stream",
     "text": [
      "[ 0.  0.  0.  0.  0.  0.  0.  0.  0. 20.  0.  0.  0.  0.  0.  0.  0.  0.\n",
      "  0.  0.]\n"
     ]
    }
   ],
   "source": [
    "import numpy as np\n",
    "import pandas as pd \n",
    "\n",
    "array = np.eye( 20 ) [ 10 - 1 ] *20\n",
    "print(array)"
   ]
  },
  {
   "cell_type": "code",
   "execution_count": 157,
   "metadata": {
    "colab": {},
    "colab_type": "code",
    "id": "pZw4Cj_9QNG1"
   },
   "outputs": [
    {
     "name": "stdout",
     "output_type": "stream",
     "text": [
      "[ 0.  0.  0.  0.  0.  0.  0.  0.  0.  0. 20.  0.  0.  0.  0.  0.  0.  0.\n",
      "  0.  0.]\n"
     ]
    }
   ],
   "source": [
    "my_vect = np.zeros(20)\n",
    "# set index 10 value 1\n",
    "my_vect[np.array([10])] = 20\n",
    "print(my_vect)"
   ]
  },
  {
   "cell_type": "markdown",
   "metadata": {
    "colab_type": "text",
    "id": "kHitCDgoQgN3"
   },
   "source": [
    "Create\ta\tvector\tof\tpositive\todd\tintegers\tless\tthan\t100.\tRemove\tthe\tvalues\tgreater\tthan\t60\tand\tless\tthan\t80"
   ]
  },
  {
   "cell_type": "code",
   "execution_count": 158,
   "metadata": {
    "colab": {},
    "colab_type": "code",
    "id": "WgqHQ2oPQsTr"
   },
   "outputs": [
    {
     "name": "stdout",
     "output_type": "stream",
     "text": [
      "Original Vector: [ 1  3  5  7  9 11 13 15 17 19 21 23 25 27 29 31 33 35 37 39 41 43 45 47\n",
      " 49 51 53 55 57 59 61 63 65 67 69 71 73 75 77 79 81 83 85 87 89 91 93 95\n",
      " 97 99]\n",
      "Filtered vector:  [ 1  3  5  7  9 11 13 15 17 19 21 23 25 27 29 31 33 35 37 39 41 43 45 47\n",
      " 49 51 53 55 57 59 81 83 85 87 89 91 93 95 97 99]\n"
     ]
    }
   ],
   "source": [
    "#Vector of odd number from 1 till 99 \n",
    "q2_vect = np.arange(1,100,2)\n",
    "print(\"Original Vector:\", q2_vect)\n",
    "#Filter values to exclude number greater then 60 and less than 80\n",
    "q2_vect_final = q2_vect[np.where((q2_vect >= 80) | (q2_vect <=60))]\n",
    "print(\"Filtered vector: \",q2_vect_final)"
   ]
  },
  {
   "cell_type": "code",
   "execution_count": 159,
   "metadata": {
    "colab": {},
    "colab_type": "code",
    "id": "5KewHoTXQ3uD"
   },
   "outputs": [],
   "source": [
    "#Find the mean, standard deviation of the resulting vector in Q2"
   ]
  },
  {
   "cell_type": "code",
   "execution_count": 160,
   "metadata": {
    "colab": {},
    "colab_type": "code",
    "id": "8T-AJmriwGwY"
   },
   "outputs": [
    {
     "name": "stdout",
     "output_type": "stream",
     "text": [
      "Mean of Vector: 45.0\n",
      "Standard Deviation: 30.133038346638727\n"
     ]
    }
   ],
   "source": [
    "print(\"Mean of Vector:\" , q2_vect_final.mean())\n",
    "print(\"Standard Deviation:\", q2_vect_final.std())"
   ]
  },
  {
   "cell_type": "markdown",
   "metadata": {
    "colab_type": "text",
    "id": "zJqy9aCewGwa"
   },
   "source": [
    "Consider the following vector of values. X <-{8, 14, 9, 15, NA, 8,13, 2,9, NA} . Find the positions of the missing values and how many are there"
   ]
  },
  {
   "cell_type": "code",
   "execution_count": 161,
   "metadata": {
    "colab": {},
    "colab_type": "code",
    "id": "x8gn_t_4wGwb"
   },
   "outputs": [
    {
     "name": "stdout",
     "output_type": "stream",
     "text": [
      "Original vector:  [8 14 9 15 None 8 13 2 9 None]\n",
      "Position where NaN is in the list:  (array([4, 9]),)\n",
      "Number of NnN: 2\n",
      "Number of NnN(Alternate): 2\n"
     ]
    }
   ],
   "source": [
    "X = np.array([8, 14, 9, 15, None , 8,13, 2,9, None])\n",
    "print(\"Original vector: \", X)\n",
    "boolArr = (X == None)\n",
    "result = np.where(boolArr)\n",
    "print(\"Position where NaN is in the list: \", result)\n",
    "print(\"Number of NnN:\", len(X[boolArr]))\n",
    "print(\"Number of NnN(Alternate):\", np.sum(boolArr))"
   ]
  },
  {
   "cell_type": "markdown",
   "metadata": {
    "colab_type": "text",
    "id": "YB9fswRYwGwc"
   },
   "source": [
    "Create two matrices from the given vectors\n",
    "X1 = {2,3,7,1,6,2,3,5,1} and X2 = {3,2,9,0,7,8,5,8,2}. Find the matrix product."
   ]
  },
  {
   "cell_type": "code",
   "execution_count": 162,
   "metadata": {
    "colab": {},
    "colab_type": "code",
    "id": "H3pqONsVwGwd"
   },
   "outputs": [
    {
     "name": "stdout",
     "output_type": "stream",
     "text": [
      "[[41 81 56]\n",
      " [13 60 61]\n",
      " [14 49 69]]\n"
     ]
    }
   ],
   "source": [
    "X1 = np.array([2,3,7,1,6,2,3,5,1])\n",
    "X2 = np.array([3,2,9,0,7,8,5,8,2])\n",
    "X11 = X1.reshape(3,3)\n",
    "X22 = X2.reshape(3,3)\n",
    "print(np.matmul(X11,X22))"
   ]
  },
  {
   "cell_type": "markdown",
   "metadata": {
    "colab_type": "text",
    "id": "8C2LWdc6wGwf"
   },
   "source": [
    "From the string:\"Silver Gold Copper Platinum\"\n",
    "Use str.split, a loop, string manipulation and str.join to create the following sentence. \n",
    "Notice that the metals are in alphabetical order. \"Copper and gold and platinum and silver are only worth money.\""
   ]
  },
  {
   "cell_type": "code",
   "execution_count": 163,
   "metadata": {
    "colab": {},
    "colab_type": "code",
    "id": "LjWoDWLBwGwg"
   },
   "outputs": [
    {
     "name": "stdout",
     "output_type": "stream",
     "text": [
      "Copper and Gold and Platinum and Silver are only worth money.\n"
     ]
    }
   ],
   "source": [
    "str_text = \"Silver Gold Copper Platinum\"\n",
    "sentence = str.split(str_text, ' ')\n",
    "sentence.sort()\n",
    "sent_str = \"\"\n",
    "for i in sentence:\n",
    "    sent_str += str(i) + \" and \"\n",
    "\n",
    "sent_str = sent_str[:-4] + \"are only worth money.\"\n",
    "print (sent_str)"
   ]
  },
  {
   "cell_type": "markdown",
   "metadata": {
    "colab_type": "text",
    "id": "HDL-o2igwGwh"
   },
   "source": [
    "`x` and `y` are integers \n",
    "x=[-10-9-8-7-6-5-4-3-2-1 0\n",
    "1 2 3 4 5 6 7 89] \n",
    "y =[-10-9-8-7-6-5-4-3-2-1 0\n",
    "1 2 3 4 5 6 7 89]\n",
    "• If x is from 1 to 4, add one to y.\n",
    "• If x is not 1,2,3,4,5,6,or 7,make y equal to 7.\n",
    "• For what values of x are the following true? \n",
    ". x>0 and x<3\n",
    "• x<=0 or x>=3"
   ]
  },
  {
   "cell_type": "code",
   "execution_count": 164,
   "metadata": {
    "colab": {},
    "colab_type": "code",
    "id": "G-8wykNowGwj"
   },
   "outputs": [
    {
     "name": "stdout",
     "output_type": "stream",
     "text": [
      "Total Number of x Values between 1 and 4: [1 2 3 4]\n",
      "Added 1 to Original value of Y where condition met: [-10  -9  -8  -7  -6  -5  -4  -3  -2  -1   0   2   3   4   5   5   6   7\n",
      "   8   9]\n",
      "Updated List with y Value as 7 [-10  -9  -8  -7  -6  -5  -4  -3  -2  -1   0   7   7   7   7   7   7   7\n",
      "   8   9]\n",
      "x > 0 and x < 3:  [1 2]\n",
      "x <= 0 or x >= 3:  [-10  -9  -8  -7  -6  -5  -4  -3  -2  -1   0   3   4   5   6   7   8   9]\n"
     ]
    }
   ],
   "source": [
    "x = np.array([-10,-9,-8,-7,-6,-5,-4,-3,-2,-1, 0, 1, 2, 3, 4, 5, 6, 7, 8,9])\n",
    "y = np.array([-10,-9,-8,-7,-6,-5,-4,-3,-2,-1, 0, 1, 2, 3, 4, 5, 6, 7, 8,9])\n",
    "not_x = np.array([1,2,3,4,5,6,7])\n",
    "y1 = np.array(y)\n",
    "y2 = np.array(y)\n",
    "\n",
    "print(\"Total Number of x Values between 1 and 4:\", y[np.where((x > 0 ) & (x <= 4))])\n",
    "y1[np.where((x > 0 ) & (x <= 4))] = (y1[np.where((x > 0 ) & (x <= 4))] + 1)\n",
    "print(\"Added 1 to Original value of Y where condition met:\", y1)\n",
    "\n",
    "#If x is not 1,2,3,4,5,6,or 7,make y equal to 7.\n",
    "y2[np.where(np.in1d(x,not_x))] = 7\n",
    "print(\"Updated List with y Value as 7\", y2)\n",
    "\n",
    "x1 = np.array(x[np.where((x > 0 ) & (x < 3))])\n",
    "print(\"x > 0 and x < 3: \" , x1)\n",
    "x2 = np.array(x[np.where((x >= 3 ) | (x <= 0))])\n",
    "print(\"x <= 0 or x >= 3: \" , x2)\n"
   ]
  },
  {
   "cell_type": "markdown",
   "metadata": {
    "colab_type": "text",
    "id": "v99jPyFiwGwl"
   },
   "source": [
    "Make a 5 x 8 Numpy array of random integers from 1 - 10. \n",
    "Iterate through each row of your array and report the rows where the numbers add to an even number."
   ]
  },
  {
   "cell_type": "code",
   "execution_count": 165,
   "metadata": {
    "colab": {},
    "colab_type": "code",
    "id": "3sEuT9TswGwl"
   },
   "outputs": [
    {
     "name": "stdout",
     "output_type": "stream",
     "text": [
      "5 X 8 Array:  [[1 3 6 8 4]\n",
      " [4 7 2 5 6]\n",
      " [4 1 7 8 7]\n",
      " [8 9 9 7 4]\n",
      " [7 2 1 8 5]\n",
      " [1 7 4 1 4]\n",
      " [8 5 6 1 8]\n",
      " [2 8 7 9 5]]\n",
      "Sum Of Rows [22 24 27 37 23 17 28 31]\n",
      "Rows with sum of all numbers are even : (array([0, 1, 6]),)\n"
     ]
    }
   ],
   "source": [
    "import random\n",
    "N = 5\n",
    "M = 8\n",
    "random.seed(1)\n",
    "[[random.random()]*M for x in range(N)]\n",
    "k = np.random.randint(1,10,(M,N))\n",
    "print(\"5 X 8 Array: \", k)\n",
    "\n",
    "sum_array = np.sum(k,axis = 1)\n",
    "print(\"Sum Of Rows\", sum_array)\n",
    "print(\"Rows with sum of all numbers are even :\", np.where((sum_array % 2) == 0))"
   ]
  },
  {
   "cell_type": "markdown",
   "metadata": {
    "colab_type": "text",
    "id": "zaqtOrhmwGwp"
   },
   "source": [
    "Write a function that accumulates into a list, 5 lotto picks. Each lotto pick is a `list` of 6 numbers from 1 to 52, with no repeats. Present them sorted, and printed them like this: Your lotto picks:\n",
    "6, 9, 10, 29, 37, 43\n",
    "1, 2, 10, 29, 31, 32\n",
    "4, 16, 22, 39, 43, 44 \n",
    "4, 10, 12, 28, 37, 44 \n",
    "15, 16, 22, 24, 49, 52"
   ]
  },
  {
   "cell_type": "code",
   "execution_count": 166,
   "metadata": {
    "colab": {},
    "colab_type": "code",
    "id": "7_VHl0VZwGwq"
   },
   "outputs": [
    {
     "name": "stdout",
     "output_type": "stream",
     "text": [
      "Matrix Print:  [[ 4 10 12 21 32 46]\n",
      " [ 2 12 23 28 32 51]\n",
      " [ 1  7 25 29 37 51]\n",
      " [ 5  8 12 16 20 29]\n",
      " [ 2  8 12 30 33 43]\n",
      " [10 18 31 37 39 43]]\n",
      "4, 10, 12, 21, 32, 46\n",
      "2, 12, 23, 28, 32, 51\n",
      "1, 7, 25, 29, 37, 51\n",
      "5, 8, 12, 16, 20, 29\n",
      "2, 8, 12, 30, 33, 43\n",
      "10, 18, 31, 37, 39, 43\n"
     ]
    }
   ],
   "source": [
    "# n is number of lotto picks\n",
    "def lotto_pick(n):\n",
    "    i  = 0\n",
    "    pick_list = []\n",
    "    while(i <= n):\n",
    "        pick = np.random.choice(range(1,52),6,replace=False)\n",
    "        pick.sort()\n",
    "        pick_list.append(pick)\n",
    "        i = i + 1\n",
    "    return pick_list\n",
    "    \n",
    "retrun_list = lotto_pick(5)\n",
    "#Below line will print Matrix with [] around the values\n",
    "print(\"Matrix Print: \", np.matrix(retrun_list))\n",
    "\n",
    "# Below will print desired value as per question\n",
    "for row in retrun_list:\n",
    "    k = ', '.join([str(elem) for elem in row])\n",
    "    print(k)"
   ]
  }
 ],
 "metadata": {
  "colab": {
   "collapsed_sections": [],
   "name": "COMPSCIX433.3-009 Assingment2.ipynb",
   "private_outputs": true,
   "provenance": []
  },
  "kernelspec": {
   "display_name": "Python 3",
   "language": "python",
   "name": "python3"
  },
  "language_info": {
   "codemirror_mode": {
    "name": "ipython",
    "version": 3
   },
   "file_extension": ".py",
   "mimetype": "text/x-python",
   "name": "python",
   "nbconvert_exporter": "python",
   "pygments_lexer": "ipython3",
   "version": "3.7.3"
  }
 },
 "nbformat": 4,
 "nbformat_minor": 1
}

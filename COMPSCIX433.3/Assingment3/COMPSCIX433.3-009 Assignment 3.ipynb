{
 "cells": [
  {
   "cell_type": "markdown",
   "metadata": {
    "colab_type": "text",
    "id": "Q2M8dyCMx8Dt"
   },
   "source": [
    "### Assignment 3"
   ]
  },
  {
   "cell_type": "markdown",
   "metadata": {
    "colab_type": "text",
    "id": "goCWIUufx8Dv"
   },
   "source": [
    "Q1. Practice on random numbers   \n",
    "a. Practice by making a 3 x 4 matrix of normally distributed random numbers.  \n",
    "b. Make a 3 x 5 matrix of random numbers, uniformly distributed between 1 and 100.\n",
    "c. Paste your two matrices together so you have a 3 X 9 matrix using append.\n",
    "d. Use `concatenate` to get the same result.\n",
    "e. Check your results by using `c_result.shape` and `d_result.shape`.  Also, check `c_result == d_result`."
   ]
  },
  {
   "cell_type": "code",
   "execution_count": 8,
   "metadata": {
    "colab": {
     "base_uri": "https://localhost:8080/",
     "height": 320
    },
    "colab_type": "code",
    "executionInfo": {
     "elapsed": 1850,
     "status": "ok",
     "timestamp": 1569454607754,
     "user": {
      "displayName": "Amit Ranjan",
      "photoUrl": "https://lh3.googleusercontent.com/a-/AAuE7mCcNfOgtxVwMJsXY_E5cnfFKFuLR-dZVlAy7m91msI=s64",
      "userId": "07095095778401388820"
     },
     "user_tz": 420
    },
    "id": "rrcQkO8fx8Dx",
    "outputId": "240dadaf-2e24-4035-f400-82ab82e9e57f"
   },
   "outputs": [
    {
     "name": "stdout",
     "output_type": "stream",
     "text": [
      "[[ 1.62434536 -0.61175641 -0.52817175 -1.07296862]\n",
      " [ 0.86540763 -2.3015387   1.74481176 -0.7612069 ]\n",
      " [ 0.3190391  -0.24937038  1.46210794 -2.06014071]]\n"
     ]
    },
    {
     "data": {
      "text/plain": [
       "<Figure size 640x480 with 1 Axes>"
      ]
     },
     "metadata": {},
     "output_type": "display_data"
    }
   ],
   "source": [
    "#a\n",
    "import matplotlib.pyplot as plt\n",
    "import numpy as np\n",
    "np.random.seed(1)\n",
    "r = np.random.normal(loc = 0, scale = 1, size = (3,4))\n",
    "print(r)\n",
    "import matplotlib.pyplot as plt\n",
    "count, bins, ignored = plt.hist(r, 2)\n",
    "plt.plot(bins, np.ones_like(bins), linewidth=2, color='r')\n",
    "plt.show()"
   ]
  },
  {
   "cell_type": "code",
   "execution_count": 9,
   "metadata": {
    "colab": {
     "base_uri": "https://localhost:8080/",
     "height": 269
    },
    "colab_type": "code",
    "executionInfo": {
     "elapsed": 2414,
     "status": "ok",
     "timestamp": 1569454608328,
     "user": {
      "displayName": "Amit Ranjan",
      "photoUrl": "https://lh3.googleusercontent.com/a-/AAuE7mCcNfOgtxVwMJsXY_E5cnfFKFuLR-dZVlAy7m91msI=s64",
      "userId": "07095095778401388820"
     },
     "user_tz": 420
    },
    "id": "2Q9A9FU_x8D3",
    "outputId": "34bcb810-d644-43b8-bb50-01e5fe323b3f"
   },
   "outputs": [
    {
     "data": {
      "image/png": "[encoded data removed]",
      "text/plain": [
       "<Figure size 432x288 with 1 Axes>"
      ]
     },
     "metadata": {
      "needs_background": "light"
     },
     "output_type": "display_data"
    }
   ],
   "source": [
    "# b. Make a 3 x 5 matrix of random numbers, uniformly distributed between 1 and 100.\n",
    "import numpy as np\n",
    "import matplotlib.pyplot as plt\n",
    "s = np.random.uniform(low=1, high=100, size=(3,5))\n",
    "count, bins, ignored = plt.hist(s, 2)\n",
    "plt.plot(bins, np.ones_like(bins), linewidth=2, color='r')\n",
    "plt.show()"
   ]
  },
  {
   "cell_type": "code",
   "execution_count": 10,
   "metadata": {
    "colab": {
     "base_uri": "https://localhost:8080/",
     "height": 119
    },
    "colab_type": "code",
    "executionInfo": {
     "elapsed": 2407,
     "status": "ok",
     "timestamp": 1569454608329,
     "user": {
      "displayName": "Amit Ranjan",
      "photoUrl": "https://lh3.googleusercontent.com/a-/AAuE7mCcNfOgtxVwMJsXY_E5cnfFKFuLR-dZVlAy7m91msI=s64",
      "userId": "07095095778401388820"
     },
     "user_tz": 420
    },
    "id": "rikNXze9x8D8",
    "outputId": "8d5c10c5-fb78-458c-8326-a9dcaeb4ac27"
   },
   "outputs": [
    {
     "name": "stdout",
     "output_type": "stream",
     "text": [
      "[[ 1.62434536 -0.61175641 -0.52817175 -1.07296862 14.89830692 20.61204742\n",
      "  80.2737123  96.857896   32.02899364]\n",
      " [ 0.86540763 -2.3015387   1.74481176 -0.7612069  69.53993895 87.76252608\n",
      "  89.56605969  9.41937693  4.86642354]\n",
      " [ 0.3190391  -0.24937038  1.46210794 -2.06014071 17.81321154 87.93610784\n",
      "  10.73633655 42.68965488 95.83106348]]\n"
     ]
    }
   ],
   "source": [
    "m = np.append(r,s, axis = 1)\n",
    "print(m)"
   ]
  },
  {
   "cell_type": "code",
   "execution_count": 11,
   "metadata": {
    "colab": {
     "base_uri": "https://localhost:8080/",
     "height": 119
    },
    "colab_type": "code",
    "executionInfo": {
     "elapsed": 2400,
     "status": "ok",
     "timestamp": 1569454608330,
     "user": {
      "displayName": "Amit Ranjan",
      "photoUrl": "https://lh3.googleusercontent.com/a-/AAuE7mCcNfOgtxVwMJsXY_E5cnfFKFuLR-dZVlAy7m91msI=s64",
      "userId": "07095095778401388820"
     },
     "user_tz": 420
    },
    "id": "r8KxQwFox8D_",
    "outputId": "6f7b5dc6-262a-4c84-ec50-a79e8f3ff0d2"
   },
   "outputs": [
    {
     "name": "stdout",
     "output_type": "stream",
     "text": [
      "[[ 1.62434536 -0.61175641 -0.52817175 -1.07296862 14.89830692 20.61204742\n",
      "  80.2737123  96.857896   32.02899364]\n",
      " [ 0.86540763 -2.3015387   1.74481176 -0.7612069  69.53993895 87.76252608\n",
      "  89.56605969  9.41937693  4.86642354]\n",
      " [ 0.3190391  -0.24937038  1.46210794 -2.06014071 17.81321154 87.93610784\n",
      "  10.73633655 42.68965488 95.83106348]]\n"
     ]
    }
   ],
   "source": [
    "n = np.concatenate((r, s), axis=1)\n",
    "print(n)"
   ]
  },
  {
   "cell_type": "code",
   "execution_count": 12,
   "metadata": {
    "colab": {
     "base_uri": "https://localhost:8080/",
     "height": 119
    },
    "colab_type": "code",
    "executionInfo": {
     "elapsed": 2391,
     "status": "ok",
     "timestamp": 1569454608330,
     "user": {
      "displayName": "Amit Ranjan",
      "photoUrl": "https://lh3.googleusercontent.com/a-/AAuE7mCcNfOgtxVwMJsXY_E5cnfFKFuLR-dZVlAy7m91msI=s64",
      "userId": "07095095778401388820"
     },
     "user_tz": 420
    },
    "id": "W0Dgbohlx8EC",
    "outputId": "abd6da06-65a6-4641-cd30-f63eeb096bc2"
   },
   "outputs": [
    {
     "name": "stdout",
     "output_type": "stream",
     "text": [
      "(3, 9)\n",
      "(3, 9)\n",
      "True\n",
      "[[ True  True  True  True  True  True  True  True  True]\n",
      " [ True  True  True  True  True  True  True  True  True]\n",
      " [ True  True  True  True  True  True  True  True  True]]\n"
     ]
    }
   ],
   "source": [
    "#e. Check your results by using `c_result.shape` and `d_result.shape`.  Also, check `c_result == d_result`.\n",
    "print(m.shape)\n",
    "print(n.shape)\n",
    "print(m.shape == n.shape)\n",
    "print(m == n)"
   ]
  },
  {
   "cell_type": "markdown",
   "metadata": {
    "colab_type": "text",
    "id": "9fjPN_d8x8EE"
   },
   "source": [
    "Q2. Use a `str` method to count how many `li` substrings are in \"supercalifonialisticexpialidocious\"."
   ]
  },
  {
   "cell_type": "code",
   "execution_count": 13,
   "metadata": {
    "colab": {
     "base_uri": "https://localhost:8080/",
     "height": 34
    },
    "colab_type": "code",
    "executionInfo": {
     "elapsed": 649,
     "status": "ok",
     "timestamp": 1569455037569,
     "user": {
      "displayName": "Amit Ranjan",
      "photoUrl": "https://lh3.googleusercontent.com/a-/AAuE7mCcNfOgtxVwMJsXY_E5cnfFKFuLR-dZVlAy7m91msI=s64",
      "userId": "07095095778401388820"
     },
     "user_tz": 420
    },
    "id": "voQ0G6ZEx8EF",
    "outputId": "ea381e69-68cf-405d-d850-bcb7e73334bb"
   },
   "outputs": [
    {
     "name": "stdout",
     "output_type": "stream",
     "text": [
      "Number of Time li is in main string:  3\n"
     ]
    }
   ],
   "source": [
    "text = 'supercalifonialisticexpialidocious'\n",
    "number_of_occurance = str.count(text, 'li')\n",
    "print(\"Number of Time li is in main string: \", number_of_occurance)"
   ]
  },
  {
   "cell_type": "markdown",
   "metadata": {
    "colab_type": "text",
    "id": "uieQbcBPx8EH"
   },
   "source": [
    "Q3. From this string: \n",
    "\"silver gold copper platinum\"\n",
    "\n",
    "Use `str.split`, string manipulation, and `str.join` to create the following sentence.    \n",
    "\"Silver and gold are known as precious metals.\""
   ]
  },
  {
   "cell_type": "code",
   "execution_count": 14,
   "metadata": {
    "colab": {
     "base_uri": "https://localhost:8080/",
     "height": 34
    },
    "colab_type": "code",
    "executionInfo": {
     "elapsed": 450,
     "status": "ok",
     "timestamp": 1569458023633,
     "user": {
      "displayName": "Amit Ranjan",
      "photoUrl": "https://lh3.googleusercontent.com/a-/AAuE7mCcNfOgtxVwMJsXY_E5cnfFKFuLR-dZVlAy7m91msI=s64",
      "userId": "07095095778401388820"
     },
     "user_tz": 420
    },
    "id": "8hN8KI1j9kdF",
    "outputId": "e67ceffe-a1e8-454c-a91d-f4214f0951ed"
   },
   "outputs": [
    {
     "name": "stdout",
     "output_type": "stream",
     "text": [
      "Silver and gold are known as precious metals.\n"
     ]
    }
   ],
   "source": [
    "str_text =  'silver gold copper platinum'\n",
    "sentence = str.split(str_text, ' ')\n",
    "sentence[0] = str.capitalize(sentence[0])\n",
    "sentence_new = sentence[0:2]\n",
    "joiner_text =  ' are known as precious metals.'\n",
    "sentence_final = sentence_new[0] + ' and ' + sentence_new[1] + joiner_text\n",
    "print(sentence_final)"
   ]
  },
  {
   "cell_type": "code",
   "execution_count": 15,
   "metadata": {
    "colab": {
     "base_uri": "https://localhost:8080/",
     "height": 34
    },
    "colab_type": "code",
    "executionInfo": {
     "elapsed": 442,
     "status": "ok",
     "timestamp": 1569458978997,
     "user": {
      "displayName": "Amit Ranjan",
      "photoUrl": "https://lh3.googleusercontent.com/a-/AAuE7mCcNfOgtxVwMJsXY_E5cnfFKFuLR-dZVlAy7m91msI=s64",
      "userId": "07095095778401388820"
     },
     "user_tz": 420
    },
    "id": "VthS-isU_PyG",
    "outputId": "9e7786ac-9470-4e2d-8db9-92daa20d623f"
   },
   "outputs": [
    {
     "name": "stdout",
     "output_type": "stream",
     "text": [
      "Silver and gold are known as precious metals. \n"
     ]
    }
   ],
   "source": [
    "str_text =  'silver gold copper platinum'\n",
    "sent_str = \"\"\n",
    "sentence = str.split(str_text, ' ')\n",
    "sentence[0] = str.capitalize(sentence[0])\n",
    "joiner_text = 'and are known as precious metals.'\n",
    "joiner_list = str.split(joiner_text, ' ')\n",
    "setence_list = [sentence[0], joiner_list[0], sentence [1]]\n",
    "setence_list.extend(joiner_list[1:])\n",
    "for i in setence_list:\n",
    "    sent_str += str(i) + ' '\n",
    "print (sent_str)"
   ]
  },
  {
   "cell_type": "markdown",
   "metadata": {
    "colab_type": "text",
    "id": "fSCwEFphx8EH"
   },
   "source": [
    "Q4.  Here is a list of names: [\"Arif\", \"Zoe\", \"Leonard\", \"Josephine\", \"Sebastian\"]\n",
    "    Produce this output: 'Arif, Josephine, Leonard, Sebastian, and Zoe.'    "
   ]
  },
  {
   "cell_type": "code",
   "execution_count": 16,
   "metadata": {
    "colab": {
     "base_uri": "https://localhost:8080/",
     "height": 34
    },
    "colab_type": "code",
    "executionInfo": {
     "elapsed": 330,
     "status": "ok",
     "timestamp": 1569460309014,
     "user": {
      "displayName": "Amit Ranjan",
      "photoUrl": "https://lh3.googleusercontent.com/a-/AAuE7mCcNfOgtxVwMJsXY_E5cnfFKFuLR-dZVlAy7m91msI=s64",
      "userId": "07095095778401388820"
     },
     "user_tz": 420
    },
    "id": "OU5XCvGVDDmR",
    "outputId": "8d52634d-26dd-4b6d-9b06-a24da964f0e2"
   },
   "outputs": [
    {
     "name": "stdout",
     "output_type": "stream",
     "text": [
      "Arif, Josephine, Leonard, Sebastian, and Zoe.\n"
     ]
    }
   ],
   "source": [
    "sent_str = ''\n",
    "name = [\"Arif\", \"Zoe\", \"Leonard\", \"Josephine\", \"Sebastian\"]\n",
    "name.sort()\n",
    "string_concat = str.join(\", \", name[0:5]);\n",
    "str_new = string_concat.replace('Zoe', 'and Zoe.')\n",
    "print(str_new)"
   ]
  },
  {
   "cell_type": "markdown",
   "metadata": {
    "colab_type": "text",
    "id": "ALDnfWrFIE50"
   },
   "source": [
    "Q5. Sort the data by the salary, the last field."
   ]
  },
  {
   "cell_type": "code",
   "execution_count": 17,
   "metadata": {
    "colab": {
     "base_uri": "https://localhost:8080/",
     "height": 71
    },
    "colab_type": "code",
    "executionInfo": {
     "elapsed": 329,
     "status": "ok",
     "timestamp": 1569460865987,
     "user": {
      "displayName": "Amit Ranjan",
      "photoUrl": "https://lh3.googleusercontent.com/a-/AAuE7mCcNfOgtxVwMJsXY_E5cnfFKFuLR-dZVlAy7m91msI=s64",
      "userId": "07095095778401388820"
     },
     "user_tz": 420
    },
    "id": "CQPjJB8xx8EI",
    "outputId": "73e49c98-b07d-4b2e-f310-0188e4633e60"
   },
   "outputs": [
    {
     "name": "stdout",
     "output_type": "stream",
     "text": [
      "Method 1 Sorting:  [['Barbara Kerz' '385-573-8326' 'Gary, IN 83756' '12/15/96' '53700']\n",
      " ['Tommy Savage' '408-724-0140' 'Sunnyvale, CA 94087' '5/19/16' '68400']\n",
      " ['Lori Gortz' '327-832-5728' 'Peabody, MA 34756' '10/2/02' '70400']\n",
      " ['Betty Boop' '245-836-2837' 'Milton, PA 93756' '9/21/96' '87000']\n",
      " ['Wilhelm Kopf' '846-836-2837' 'Milton, PA 93756' '9/21/96' '87000']\n",
      " ['James Ikeda' '834-938-8376' 'Allentown, NJ 83745' '12/1/88' '90000']\n",
      " ['Lesle Kerstin' '408-456-1234' 'Boston, MA 02133' '4/22/12' '105200']\n",
      " ['Ephram Hardy' '293-259-5395' 'Joliet, IL 73858' '8/12/70' '113400']\n",
      " ['JonDeLoach' '408-253-3122' 'San Jose, CA 94086' '7/25/03' '170200']\n",
      " ['Norma Corder' '397-857-2735' 'Dearborn, MI 23874' '3/28/95' '491400']]\n",
      "Method 2 Sorting:  [['Barbara Kerz' '385-573-8326' 'Gary, IN 83756' '12/15/96' '53700']\n",
      " ['Tommy Savage' '408-724-0140' 'Sunnyvale, CA 94087' '5/19/16' '68400']\n",
      " ['Lori Gortz' '327-832-5728' 'Peabody, MA 34756' '10/2/02' '70400']\n",
      " ['Betty Boop' '245-836-2837' 'Milton, PA 93756' '9/21/96' '87000']\n",
      " ['Wilhelm Kopf' '846-836-2837' 'Milton, PA 93756' '9/21/96' '87000']\n",
      " ['James Ikeda' '834-938-8376' 'Allentown, NJ 83745' '12/1/88' '90000']\n",
      " ['Lesle Kerstin' '408-456-1234' 'Boston, MA 02133' '4/22/12' '105200']\n",
      " ['Ephram Hardy' '293-259-5395' 'Joliet, IL 73858' '8/12/70' '113400']\n",
      " ['JonDeLoach' '408-253-3122' 'San Jose, CA 94086' '7/25/03' '170200']\n",
      " ['Norma Corder' '397-857-2735' 'Dearborn, MI 23874' '3/28/95' '491400']]\n"
     ]
    }
   ],
   "source": [
    "import numpy as np\n",
    "data = [['Tommy Savage', '408-724-0140', 'Sunnyvale, CA 94087', '5/19/16', 68400], \n",
    "               ['Lesle Kerstin', '408-456-1234', 'Boston, MA 02133', '4/22/12', 105200], \n",
    "               ['JonDeLoach', '408-253-3122', 'San Jose, CA 94086', '7/25/03', 170200], \n",
    "               ['Ephram Hardy', '293-259-5395', 'Joliet, IL 73858', '8/12/70', 113400], \n",
    "               ['Betty Boop', '245-836-2837', 'Milton, PA 93756', '9/21/96', 87000], \n",
    "               ['Wilhelm Kopf', '846-836-2837', 'Milton, PA 93756', '9/21/96', 87000], \n",
    "               ['Norma Corder', '397-857-2735', 'Dearborn, MI 23874', '3/28/95', 491400], \n",
    "               ['James Ikeda', '834-938-8376', 'Allentown, NJ 83745', '12/1/88', 90000], \n",
    "               ['Lori Gortz', '327-832-5728', 'Peabody, MA 34756', '10/2/02', 70400], \n",
    "               ['Barbara Kerz', '385-573-8326', 'Gary, IN 83756', '12/15/96', 53700]]\n",
    "# Method 1: \n",
    "# I am using Matrix just for Pretty printing\n",
    "print(\"Method 1 Sorting: \", np.matrix(sorted(data, key = lambda x: x[-1])))\n",
    "# Method 2\n",
    "def Sort(sub_list): \n",
    "    sub_list.sort(key = lambda x: x[-1]) \n",
    "    return sub_list\n",
    "\n",
    "print(\"Method 2 Sorting: \", np.matrix(Sort(data)))"
   ]
  }
 ],
 "metadata": {
  "colab": {
   "collapsed_sections": [],
   "name": "COMPSCIX433.3-009 Assignment 3.ipynb",
   "provenance": []
  },
  "kernelspec": {
   "display_name": "Python 3",
   "language": "python",
   "name": "python3"
  },
  "language_info": {
   "codemirror_mode": {
    "name": "ipython",
    "version": 3
   },
   "file_extension": ".py",
   "mimetype": "text/x-python",
   "name": "python",
   "nbconvert_exporter": "python",
   "pygments_lexer": "ipython3",
   "version": "3.7.3"
  }
 },
 "nbformat": 4,
 "nbformat_minor": 1
}

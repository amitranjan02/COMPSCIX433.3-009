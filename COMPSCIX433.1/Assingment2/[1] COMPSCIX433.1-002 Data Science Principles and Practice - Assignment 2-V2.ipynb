{
 "cells": [
  {
   "cell_type": "markdown",
   "metadata": {
    "colab_type": "text",
    "id": "gjSbCAAMkciM"
   },
   "source": [
    "Assingmet Details: \n",
    "\n",
    "Import the Liraries and files. I am going to do analysis with fllowing three files:- \n",
    "\n",
    "1) title.ratings.tsv\n",
    "2) title.basics.tsv\n",
    "3) title.crew.tsv\n",
    "Goal is to do multi class classifiction for movies.\n",
    "\n",
    "Assingment Details: \n",
    "The IMDB Dataset\n",
    "Source: ​https://www.imdb.com/interfaces/\n",
    "title.ratings.tsv.gz​ contains title id to rating mapping. However, the features are structured and not flattened in a vectorized form.\n",
    "Part 1: Data Set Generation 15%\n",
    "Join ​two ​other sources (e.g. title.crew.tsv.gz, title.basics.tsv.gz, etc) to make some meaningful features for rating prediction.\n",
    "Part 2: Modeling 15%\n",
    "Train/Dev/Test random split = 80/10/10\n",
    "Model the problem as 3-class multiclass classification - split points are 3.3 and 6.6. The grade is given based on the accuracy:\n",
    ">80%: 12 points\n",
    ">85%: 13 points\n",
    ">90%: 14 points\n",
    ">95%: 15 points"
   ]
  },
  {
   "cell_type": "markdown",
   "metadata": {
    "colab_type": "text",
    "id": "h-p8lTXJkciS"
   },
   "source": [
    "IMDb Dataset Details\n",
    "\n",
    "Each dataset is contained in a gzipped, tab-separated-values (TSV) formatted file in the UTF-8 character set. The first line in each file contains headers that describe what is in each column. A ‘\\N’ is used to denote that a particular field is missing or null for that title/name. The available datasets are as follows:"
   ]
  },
  {
   "cell_type": "code",
   "execution_count": 1,
   "metadata": {
    "colab": {},
    "colab_type": "code",
    "id": "QgQkOnJikciV"
   },
   "outputs": [],
   "source": [
    "from mpl_toolkits.mplot3d import Axes3D\n",
    "from sklearn.preprocessing import StandardScaler\n",
    "import matplotlib.pyplot as plt # plotting\n",
    "import numpy as np # linear algebra\n",
    "import os # accessing directory structure\n",
    "import pandas as pd # data processing, CSV file I/O (e.g. pd.read_csv)"
   ]
  },
  {
   "cell_type": "code",
   "execution_count": 2,
   "metadata": {
    "colab": {},
    "colab_type": "code",
    "id": "gmCbWlNAkcid",
    "outputId": "be096c5c-4a25-4229-d9b4-17f1e2496ada"
   },
   "outputs": [
    {
     "name": "stderr",
     "output_type": "stream",
     "text": [
      "/Applications/anaconda3/lib/python3.7/site-packages/IPython/core/interactiveshell.py:3058: DtypeWarning: Columns (7) have mixed types. Specify dtype option on import or set low_memory=False.\n",
      "  interactivity=interactivity, compiler=compiler, result=result)\n"
     ]
    }
   ],
   "source": [
    "title_ratings =  pd.read_csv(\"https://datasets.imdbws.com/title.ratings.tsv.gz\", delimiter='\\t', date_parser = 'python', keep_default_na = True, na_values = ['\\\\N'])\n",
    "title_crew =  pd.read_csv(\"https://datasets.imdbws.com/title.crew.tsv.gz\", delimiter='\\t', date_parser = 'python', keep_default_na = True, na_values = ['\\\\N'])\n",
    "title_basics =  pd.read_csv(\"https://datasets.imdbws.com/title.basics.tsv.gz\", delimiter='\\t', date_parser = 'python', keep_default_na = True, na_values = ['\\\\N'])"
   ]
  },
  {
   "cell_type": "markdown",
   "metadata": {
    "colab_type": "text",
    "id": "rnPUzecdkcik"
   },
   "source": [
    "title.crew.tsv.gz – Contains the director and writer information for all the titles in IMDb. Fields include:\n",
    "tconst (string) - alphanumeric unique identifier of the title\n",
    "directors (array of nconsts) - director(s) of the given title\n",
    "writers (array of nconsts) – writer(s) of the given title"
   ]
  },
  {
   "cell_type": "markdown",
   "metadata": {
    "colab_type": "text",
    "id": "3ntKAmP9kcil"
   },
   "source": [
    "Load the files into memeory for processing and cleanup before Modeling"
   ]
  },
  {
   "cell_type": "code",
   "execution_count": 3,
   "metadata": {
    "colab": {},
    "colab_type": "code",
    "id": "ETsHmG5Skcim",
    "outputId": "824e5afc-4fcc-4699-b14a-2ff23d6f460b"
   },
   "outputs": [
    {
     "name": "stdout",
     "output_type": "stream",
     "text": [
      "There are 986685 rows and 3 columns\n",
      "\n",
      "\n",
      "<class 'pandas.core.frame.DataFrame'>\n",
      "RangeIndex: 986685 entries, 0 to 986684\n",
      "Data columns (total 3 columns):\n",
      "tconst           986685 non-null object\n",
      "averageRating    986685 non-null float64\n",
      "numVotes         986685 non-null int64\n",
      "dtypes: float64(1), int64(1), object(1)\n",
      "memory usage: 22.6+ MB\n",
      "Info:  None\n",
      "\n",
      "\n",
      "Head: Index(['tconst', 'averageRating', 'numVotes'], dtype='object')\n",
      "\n",
      "\n",
      "Describe:        averageRating      numVotes\n",
      "count  986685.000000  9.866850e+05\n",
      "mean        6.885898  9.575484e+02\n",
      "std         1.401430  1.565718e+04\n",
      "min         1.000000  5.000000e+00\n",
      "25%         6.100000  9.000000e+00\n",
      "50%         7.100000  2.000000e+01\n",
      "75%         7.900000  7.600000e+01\n",
      "max        10.000000  2.153177e+06\n",
      "\n",
      "\n",
      "Unique 986685\n",
      "\n",
      "\n",
      "Null Counts: tconst           0\n",
      "averageRating    0\n",
      "numVotes         0\n",
      "dtype: int64\n"
     ]
    }
   ],
   "source": [
    "nRow, nCol = title_ratings.shape\n",
    "print(f'There are {nRow} rows and {nCol} columns')\n",
    "print('\\n')\n",
    "print(\"Info: \", title_ratings.info())\n",
    "print('\\n')\n",
    "print(\"Head:\", title_ratings.columns)\n",
    "print('\\n')\n",
    "print(\"Describe:\", title_ratings.describe())\n",
    "print('\\n')\n",
    "print(\"Unique\", len(title_ratings.tconst.unique()))\n",
    "print('\\n')\n",
    "print(\"Null Counts:\", title_ratings.isna().sum())"
   ]
  },
  {
   "cell_type": "markdown",
   "metadata": {
    "colab_type": "text",
    "id": "nJVIF6h-kciq"
   },
   "source": [
    "title.basics.tsv.gz - Contains the following information for titles:\n",
    "tconst (string) - alphanumeric unique identifier of the title\n",
    "titleType (string) – the type/format of the title (e.g. movie, short, tvseries, tvepisode, video, etc)\n",
    "primaryTitle (string) – the more popular title / the title used by the filmmakers on promotional materials at the point of release\n",
    "originalTitle (string) - original title, in the original language\n",
    "isAdult (boolean) - 0: non-adult title; 1: adult title\n",
    "startYear (YYYY) – represents the release year of a title. In the case of TV Series, it is the series start year\n",
    "endYear (YYYY) – TV Series end year. ‘\\N’ for all other title types\n",
    "runtimeMinutes – primary runtime of the title, in minutes\n",
    "genres (string array) – includes up to three genres associated with the title"
   ]
  },
  {
   "cell_type": "code",
   "execution_count": 4,
   "metadata": {
    "colab": {},
    "colab_type": "code",
    "id": "V96Pjppekcir",
    "outputId": "8543c115-c84b-41c2-bfc2-52478086e373"
   },
   "outputs": [
    {
     "name": "stdout",
     "output_type": "stream",
     "text": [
      "There are 6272534 rows and 9 columns\n",
      "\n",
      "\n",
      "<class 'pandas.core.frame.DataFrame'>\n",
      "RangeIndex: 6272534 entries, 0 to 6272533\n",
      "Data columns (total 9 columns):\n",
      "tconst            object\n",
      "titleType         object\n",
      "primaryTitle      object\n",
      "originalTitle     object\n",
      "isAdult           int64\n",
      "startYear         float64\n",
      "endYear           float64\n",
      "runtimeMinutes    object\n",
      "genres            object\n",
      "dtypes: float64(2), int64(1), object(6)\n",
      "memory usage: 430.7+ MB\n",
      "Info:  None\n",
      "\n",
      "\n",
      "Head: Index(['tconst', 'titleType', 'primaryTitle', 'originalTitle', 'isAdult',\n",
      "       'startYear', 'endYear', 'runtimeMinutes', 'genres'],\n",
      "      dtype='object')\n",
      "\n",
      "\n",
      "Describe:             isAdult     startYear       endYear\n",
      "count  6.272534e+06  5.910482e+06  53891.000000\n",
      "mean   3.299894e-02  2.001401e+03   2001.610325\n",
      "std    2.546846e+00  2.121231e+01     18.910114\n",
      "min    0.000000e+00  1.874000e+03     24.000000\n",
      "25%    0.000000e+00  1.997000e+03   1993.000000\n",
      "50%    0.000000e+00  2.009000e+03   2007.000000\n",
      "75%    0.000000e+00  2.015000e+03   2015.000000\n",
      "max    2.019000e+03  2.115000e+03   2027.000000\n",
      "\n",
      "\n",
      "Unique 6272534\n",
      "\n",
      "\n",
      "Null Counts: tconst                  0\n",
      "titleType               0\n",
      "primaryTitle           11\n",
      "originalTitle         186\n",
      "isAdult                 0\n",
      "startYear          362052\n",
      "endYear           6218643\n",
      "runtimeMinutes    4416674\n",
      "genres             498287\n",
      "dtype: int64\n"
     ]
    }
   ],
   "source": [
    "nRow, nCol = title_basics.shape\n",
    "print(f'There are {nRow} rows and {nCol} columns')\n",
    "print('\\n')\n",
    "print(\"Info: \", title_basics.info())\n",
    "print('\\n')\n",
    "print(\"Head:\", title_basics.columns)\n",
    "print('\\n')\n",
    "print(\"Describe:\", title_basics.describe())\n",
    "print('\\n')\n",
    "print(\"Unique\", len(title_basics.tconst.unique()))\n",
    "print('\\n')\n",
    "print(\"Null Counts:\", title_basics.isna().sum())"
   ]
  },
  {
   "cell_type": "markdown",
   "metadata": {
    "colab_type": "text",
    "id": "AUrzKniQkciu"
   },
   "source": [
    "The Two Columns:\n",
    "endYear           5749014\n",
    "runtimeMinutes    4049153\n",
    "Has more than 50% as null values so we will drop these columns."
   ]
  },
  {
   "cell_type": "code",
   "execution_count": 5,
   "metadata": {
    "colab": {
     "base_uri": "https://localhost:8080/",
     "height": 181
    },
    "colab_type": "code",
    "executionInfo": {
     "elapsed": 460,
     "status": "error",
     "timestamp": 1572470938287,
     "user": {
      "displayName": "Amit Ranjan",
      "photoUrl": "https://lh3.googleusercontent.com/a-/AAuE7mCcNfOgtxVwMJsXY_E5cnfFKFuLR-dZVlAy7m91msI=s64",
      "userId": "07095095778401388820"
     },
     "user_tz": 420
    },
    "id": "WcBAQqSPkciv",
    "outputId": "ac4cf838-0813-4301-ccb2-ef076e6cad73"
   },
   "outputs": [
    {
     "name": "stdout",
     "output_type": "stream",
     "text": [
      "<class 'pandas.core.frame.DataFrame'>\n",
      "RangeIndex: 6272534 entries, 0 to 6272533\n",
      "Data columns (total 7 columns):\n",
      "tconst           object\n",
      "titleType        object\n",
      "primaryTitle     object\n",
      "originalTitle    object\n",
      "isAdult          int64\n",
      "startYear        float64\n",
      "genres           object\n",
      "dtypes: float64(1), int64(1), object(5)\n",
      "memory usage: 335.0+ MB\n"
     ]
    }
   ],
   "source": [
    "# More than 50% of datapoints have missing values for End year. So I am remving it for my considration.\n",
    "# runtimeMinutes is having too much variance, if I consider it for my calculation, my laptop crashes. \n",
    "#I feel, this can be valuable value to consider\n",
    "title_basics.drop(['endYear', 'runtimeMinutes'], axis=1, inplace = True)\n",
    "title_basics.info()"
   ]
  },
  {
   "cell_type": "markdown",
   "metadata": {
    "colab_type": "text",
    "id": "ovfT9KxIkcix"
   },
   "source": [
    "title.ratings.tsv.gz – Contains the IMDb rating and votes information for titles\n",
    "tconst (string) - alphanumeric unique identifier of the title\n",
    "averageRating – weighted average of all the individual user ratings\n",
    "numVotes - number of votes the title has received"
   ]
  },
  {
   "cell_type": "code",
   "execution_count": 6,
   "metadata": {
    "colab": {},
    "colab_type": "code",
    "id": "ix4JVwZwkciy",
    "outputId": "a65ded0d-1b5b-4288-940e-eed9cb08e389"
   },
   "outputs": [
    {
     "name": "stdout",
     "output_type": "stream",
     "text": [
      "There are 6272534 rows and 3 columns\n",
      "\n",
      "\n",
      "<class 'pandas.core.frame.DataFrame'>\n",
      "RangeIndex: 6272534 entries, 0 to 6272533\n",
      "Data columns (total 3 columns):\n",
      "tconst       object\n",
      "directors    object\n",
      "writers      object\n",
      "dtypes: object(3)\n",
      "memory usage: 143.6+ MB\n",
      "Info:  None\n",
      "\n",
      "\n",
      "Head: Index(['tconst', 'directors', 'writers'], dtype='object')\n",
      "\n",
      "\n",
      "Describe:            tconst  directors    writers\n",
      "count     6272534    3661455    3195482\n",
      "unique    6272534     692125     980201\n",
      "top     tt9833950  nm0565214  nm0417224\n",
      "freq            1       5969       5424\n",
      "\n",
      "\n",
      "Unique 6272534\n",
      "\n",
      "\n",
      "Null Counts: tconst             0\n",
      "directors    2611079\n",
      "writers      3077052\n",
      "dtype: int64\n"
     ]
    }
   ],
   "source": [
    "nRow, nCol = title_crew.shape\n",
    "print(f'There are {nRow} rows and {nCol} columns')\n",
    "print('\\n')\n",
    "print(\"Info: \", title_crew.info())\n",
    "print('\\n')\n",
    "print(\"Head:\", title_crew.columns)\n",
    "print('\\n')\n",
    "print(\"Describe:\", title_crew.describe())\n",
    "print('\\n')\n",
    "print(\"Unique\", len(title_crew.tconst.unique()))\n",
    "print('\\n')\n",
    "print(\"Null Counts:\", title_crew.isna().sum())"
   ]
  },
  {
   "cell_type": "code",
   "execution_count": 7,
   "metadata": {
    "colab": {},
    "colab_type": "code",
    "id": "MeW5P36skci0",
    "outputId": "ee8a76be-d404-4355-cac5-f556d1935acc"
   },
   "outputs": [
    {
     "data": {
      "text/html": [
       "<div>\n",
       "<style scoped>\n",
       "    .dataframe tbody tr th:only-of-type {\n",
       "        vertical-align: middle;\n",
       "    }\n",
       "\n",
       "    .dataframe tbody tr th {\n",
       "        vertical-align: top;\n",
       "    }\n",
       "\n",
       "    .dataframe thead th {\n",
       "        text-align: right;\n",
       "    }\n",
       "</style>\n",
       "<table border=\"1\" class=\"dataframe\">\n",
       "  <thead>\n",
       "    <tr style=\"text-align: right;\">\n",
       "      <th></th>\n",
       "      <th>tconst</th>\n",
       "      <th>directors</th>\n",
       "      <th>writers</th>\n",
       "    </tr>\n",
       "  </thead>\n",
       "  <tbody>\n",
       "    <tr>\n",
       "      <td>0</td>\n",
       "      <td>tt0000001</td>\n",
       "      <td>nm0005690</td>\n",
       "      <td>NaN</td>\n",
       "    </tr>\n",
       "    <tr>\n",
       "      <td>1</td>\n",
       "      <td>tt0000002</td>\n",
       "      <td>nm0721526</td>\n",
       "      <td>NaN</td>\n",
       "    </tr>\n",
       "    <tr>\n",
       "      <td>2</td>\n",
       "      <td>tt0000003</td>\n",
       "      <td>nm0721526</td>\n",
       "      <td>NaN</td>\n",
       "    </tr>\n",
       "    <tr>\n",
       "      <td>3</td>\n",
       "      <td>tt0000004</td>\n",
       "      <td>nm0721526</td>\n",
       "      <td>NaN</td>\n",
       "    </tr>\n",
       "    <tr>\n",
       "      <td>4</td>\n",
       "      <td>tt0000005</td>\n",
       "      <td>nm0005690</td>\n",
       "      <td>NaN</td>\n",
       "    </tr>\n",
       "  </tbody>\n",
       "</table>\n",
       "</div>"
      ],
      "text/plain": [
       "      tconst  directors writers\n",
       "0  tt0000001  nm0005690     NaN\n",
       "1  tt0000002  nm0721526     NaN\n",
       "2  tt0000003  nm0721526     NaN\n",
       "3  tt0000004  nm0721526     NaN\n",
       "4  tt0000005  nm0005690     NaN"
      ]
     },
     "execution_count": 7,
     "metadata": {},
     "output_type": "execute_result"
    }
   ],
   "source": [
    "title_crew.head()"
   ]
  },
  {
   "cell_type": "code",
   "execution_count": 8,
   "metadata": {
    "colab": {},
    "colab_type": "code",
    "id": "yD5BStWAkci2",
    "outputId": "aa782926-aeff-470a-e380-d4823212164b"
   },
   "outputs": [
    {
     "data": {
      "text/html": [
       "<div>\n",
       "<style scoped>\n",
       "    .dataframe tbody tr th:only-of-type {\n",
       "        vertical-align: middle;\n",
       "    }\n",
       "\n",
       "    .dataframe tbody tr th {\n",
       "        vertical-align: top;\n",
       "    }\n",
       "\n",
       "    .dataframe thead th {\n",
       "        text-align: right;\n",
       "    }\n",
       "</style>\n",
       "<table border=\"1\" class=\"dataframe\">\n",
       "  <thead>\n",
       "    <tr style=\"text-align: right;\">\n",
       "      <th></th>\n",
       "      <th>tconst</th>\n",
       "      <th>titleType</th>\n",
       "      <th>primaryTitle</th>\n",
       "      <th>originalTitle</th>\n",
       "      <th>isAdult</th>\n",
       "      <th>startYear</th>\n",
       "      <th>genres</th>\n",
       "    </tr>\n",
       "  </thead>\n",
       "  <tbody>\n",
       "    <tr>\n",
       "      <td>0</td>\n",
       "      <td>tt0000001</td>\n",
       "      <td>short</td>\n",
       "      <td>Carmencita</td>\n",
       "      <td>Carmencita</td>\n",
       "      <td>0</td>\n",
       "      <td>1894.0</td>\n",
       "      <td>Documentary,Short</td>\n",
       "    </tr>\n",
       "    <tr>\n",
       "      <td>1</td>\n",
       "      <td>tt0000002</td>\n",
       "      <td>short</td>\n",
       "      <td>Le clown et ses chiens</td>\n",
       "      <td>Le clown et ses chiens</td>\n",
       "      <td>0</td>\n",
       "      <td>1892.0</td>\n",
       "      <td>Animation,Short</td>\n",
       "    </tr>\n",
       "    <tr>\n",
       "      <td>2</td>\n",
       "      <td>tt0000003</td>\n",
       "      <td>short</td>\n",
       "      <td>Pauvre Pierrot</td>\n",
       "      <td>Pauvre Pierrot</td>\n",
       "      <td>0</td>\n",
       "      <td>1892.0</td>\n",
       "      <td>Animation,Comedy,Romance</td>\n",
       "    </tr>\n",
       "    <tr>\n",
       "      <td>3</td>\n",
       "      <td>tt0000004</td>\n",
       "      <td>short</td>\n",
       "      <td>Un bon bock</td>\n",
       "      <td>Un bon bock</td>\n",
       "      <td>0</td>\n",
       "      <td>1892.0</td>\n",
       "      <td>Animation,Short</td>\n",
       "    </tr>\n",
       "    <tr>\n",
       "      <td>4</td>\n",
       "      <td>tt0000005</td>\n",
       "      <td>short</td>\n",
       "      <td>Blacksmith Scene</td>\n",
       "      <td>Blacksmith Scene</td>\n",
       "      <td>0</td>\n",
       "      <td>1893.0</td>\n",
       "      <td>Comedy,Short</td>\n",
       "    </tr>\n",
       "  </tbody>\n",
       "</table>\n",
       "</div>"
      ],
      "text/plain": [
       "      tconst titleType            primaryTitle           originalTitle  \\\n",
       "0  tt0000001     short              Carmencita              Carmencita   \n",
       "1  tt0000002     short  Le clown et ses chiens  Le clown et ses chiens   \n",
       "2  tt0000003     short          Pauvre Pierrot          Pauvre Pierrot   \n",
       "3  tt0000004     short             Un bon bock             Un bon bock   \n",
       "4  tt0000005     short        Blacksmith Scene        Blacksmith Scene   \n",
       "\n",
       "   isAdult  startYear                    genres  \n",
       "0        0     1894.0         Documentary,Short  \n",
       "1        0     1892.0           Animation,Short  \n",
       "2        0     1892.0  Animation,Comedy,Romance  \n",
       "3        0     1892.0           Animation,Short  \n",
       "4        0     1893.0              Comedy,Short  "
      ]
     },
     "execution_count": 8,
     "metadata": {},
     "output_type": "execute_result"
    }
   ],
   "source": [
    "title_basics.head()"
   ]
  },
  {
   "cell_type": "code",
   "execution_count": 9,
   "metadata": {
    "colab": {},
    "colab_type": "code",
    "id": "hq8UCCJckci4",
    "outputId": "830c4aef-4912-48db-8c51-0f96fb179ed5"
   },
   "outputs": [
    {
     "data": {
      "text/html": [
       "<div>\n",
       "<style scoped>\n",
       "    .dataframe tbody tr th:only-of-type {\n",
       "        vertical-align: middle;\n",
       "    }\n",
       "\n",
       "    .dataframe tbody tr th {\n",
       "        vertical-align: top;\n",
       "    }\n",
       "\n",
       "    .dataframe thead th {\n",
       "        text-align: right;\n",
       "    }\n",
       "</style>\n",
       "<table border=\"1\" class=\"dataframe\">\n",
       "  <thead>\n",
       "    <tr style=\"text-align: right;\">\n",
       "      <th></th>\n",
       "      <th>tconst</th>\n",
       "      <th>averageRating</th>\n",
       "      <th>numVotes</th>\n",
       "    </tr>\n",
       "  </thead>\n",
       "  <tbody>\n",
       "    <tr>\n",
       "      <td>0</td>\n",
       "      <td>tt0000001</td>\n",
       "      <td>5.6</td>\n",
       "      <td>1545</td>\n",
       "    </tr>\n",
       "    <tr>\n",
       "      <td>1</td>\n",
       "      <td>tt0000002</td>\n",
       "      <td>6.1</td>\n",
       "      <td>187</td>\n",
       "    </tr>\n",
       "    <tr>\n",
       "      <td>2</td>\n",
       "      <td>tt0000003</td>\n",
       "      <td>6.5</td>\n",
       "      <td>1202</td>\n",
       "    </tr>\n",
       "    <tr>\n",
       "      <td>3</td>\n",
       "      <td>tt0000004</td>\n",
       "      <td>6.2</td>\n",
       "      <td>114</td>\n",
       "    </tr>\n",
       "    <tr>\n",
       "      <td>4</td>\n",
       "      <td>tt0000005</td>\n",
       "      <td>6.1</td>\n",
       "      <td>1924</td>\n",
       "    </tr>\n",
       "  </tbody>\n",
       "</table>\n",
       "</div>"
      ],
      "text/plain": [
       "      tconst  averageRating  numVotes\n",
       "0  tt0000001            5.6      1545\n",
       "1  tt0000002            6.1       187\n",
       "2  tt0000003            6.5      1202\n",
       "3  tt0000004            6.2       114\n",
       "4  tt0000005            6.1      1924"
      ]
     },
     "execution_count": 9,
     "metadata": {},
     "output_type": "execute_result"
    }
   ],
   "source": [
    "title_ratings.head()"
   ]
  },
  {
   "cell_type": "code",
   "execution_count": 10,
   "metadata": {
    "colab": {},
    "colab_type": "code",
    "id": "9nx_Rl-Kkci6",
    "outputId": "a939ea66-7f6f-48a3-a147-9b25d9a160c6"
   },
   "outputs": [
    {
     "name": "stdout",
     "output_type": "stream",
     "text": [
      "2611079\n",
      "0\n"
     ]
    }
   ],
   "source": [
    "print(title_crew['directors'].isna().sum())\n",
    "title_crew.dropna(inplace = True)\n",
    "print(title_crew['directors'].isna().sum())"
   ]
  },
  {
   "cell_type": "code",
   "execution_count": 11,
   "metadata": {
    "colab": {},
    "colab_type": "code",
    "id": "g2z0zLpGkci7"
   },
   "outputs": [],
   "source": [
    "import hashlib\n",
    "title_crew['hashed_directors'] = title_crew['directors'].apply(lambda x: int(hashlib.sha1(x.encode()).hexdigest(), 16) % (100))"
   ]
  },
  {
   "cell_type": "code",
   "execution_count": 12,
   "metadata": {
    "colab": {},
    "colab_type": "code",
    "id": "QZ_faWTikci9",
    "outputId": "0e87babc-8207-4d64-c0b7-095985bfb8da"
   },
   "outputs": [
    {
     "name": "stdout",
     "output_type": "stream",
     "text": [
      "<class 'pandas.core.frame.DataFrame'>\n",
      "Int64Index: 2780711 entries, 8 to 6272533\n",
      "Data columns (total 4 columns):\n",
      "tconst              object\n",
      "directors           object\n",
      "writers             object\n",
      "hashed_directors    int64\n",
      "dtypes: int64(1), object(3)\n",
      "memory usage: 106.1+ MB\n"
     ]
    }
   ],
   "source": [
    "title_crew.info()"
   ]
  },
  {
   "cell_type": "code",
   "execution_count": 13,
   "metadata": {
    "colab": {},
    "colab_type": "code",
    "id": "lpZ0EwPWkci-",
    "outputId": "e7f2083d-18ce-4ee9-8b42-464c3ae21eed"
   },
   "outputs": [
    {
     "name": "stdout",
     "output_type": "stream",
     "text": [
      "<class 'pandas.core.frame.DataFrame'>\n",
      "Int64Index: 986685 entries, 0 to 986684\n",
      "Data columns (total 9 columns):\n",
      "tconst           986685 non-null object\n",
      "titleType        986685 non-null object\n",
      "primaryTitle     986685 non-null object\n",
      "originalTitle    986682 non-null object\n",
      "isAdult          986685 non-null int64\n",
      "startYear        986562 non-null float64\n",
      "genres           965564 non-null object\n",
      "averageRating    986685 non-null float64\n",
      "numVotes         986685 non-null int64\n",
      "dtypes: float64(2), int64(2), object(5)\n",
      "memory usage: 75.3+ MB\n",
      "None\n",
      "(986685, 9)\n"
     ]
    }
   ],
   "source": [
    "#Do an Inner Join for first two datasets.\n",
    "df_int = pd.merge(title_basics, title_ratings, on='tconst', how='inner')\n",
    "print(df_int.info())\n",
    "print(df_int.shape)"
   ]
  },
  {
   "cell_type": "code",
   "execution_count": 14,
   "metadata": {
    "colab": {},
    "colab_type": "code",
    "id": "5xqIwPNIkcjA",
    "outputId": "fc76a5de-bee7-4cdc-98df-fc4b85dc5ea3"
   },
   "outputs": [
    {
     "name": "stdout",
     "output_type": "stream",
     "text": [
      "<class 'pandas.core.frame.DataFrame'>\n",
      "Int64Index: 722009 entries, 0 to 722008\n",
      "Data columns (total 12 columns):\n",
      "tconst              722009 non-null object\n",
      "titleType           722009 non-null object\n",
      "primaryTitle        722009 non-null object\n",
      "originalTitle       722009 non-null object\n",
      "isAdult             722009 non-null int64\n",
      "startYear           721942 non-null float64\n",
      "genres              709738 non-null object\n",
      "averageRating       722009 non-null float64\n",
      "numVotes            722009 non-null int64\n",
      "directors           722009 non-null object\n",
      "writers             722009 non-null object\n",
      "hashed_directors    722009 non-null int64\n",
      "dtypes: float64(2), int64(3), object(7)\n",
      "memory usage: 71.6+ MB\n",
      "None\n",
      "(722009, 12)\n"
     ]
    }
   ],
   "source": [
    "#Merged the first dataset wth final one (third)\n",
    "df = pd.merge(df_int, title_crew, on='tconst', how ='inner')\n",
    "print(df.info())\n",
    "print(df.shape)"
   ]
  },
  {
   "cell_type": "code",
   "execution_count": 15,
   "metadata": {
    "colab": {},
    "colab_type": "code",
    "id": "fQ8xTLxekcjB",
    "outputId": "dbdd2539-54d4-4132-a13c-8368de4b0956"
   },
   "outputs": [
    {
     "name": "stdout",
     "output_type": "stream",
     "text": [
      "Null Counts: tconst                  0\n",
      "titleType               0\n",
      "primaryTitle            0\n",
      "originalTitle           0\n",
      "isAdult                 0\n",
      "startYear              67\n",
      "genres              12271\n",
      "averageRating           0\n",
      "numVotes                0\n",
      "directors               0\n",
      "writers                 0\n",
      "hashed_directors        0\n",
      "dtype: int64\n"
     ]
    }
   ],
   "source": [
    "# Count Nulls in Final Dataframe\n",
    "print(\"Null Counts:\", df.isna().sum())"
   ]
  },
  {
   "cell_type": "code",
   "execution_count": 16,
   "metadata": {
    "colab": {},
    "colab_type": "code",
    "id": "FNnECMBdkcjC",
    "outputId": "3f6bace7-dd1f-4750-cef3-6921c97e4fca"
   },
   "outputs": [
    {
     "name": "stdout",
     "output_type": "stream",
     "text": [
      "There are 722009 rows and 12 columns\n",
      "\n",
      "\n",
      "<class 'pandas.core.frame.DataFrame'>\n",
      "Int64Index: 722009 entries, 0 to 722008\n",
      "Data columns (total 12 columns):\n",
      "tconst              722009 non-null object\n",
      "titleType           722009 non-null object\n",
      "primaryTitle        722009 non-null object\n",
      "originalTitle       722009 non-null object\n",
      "isAdult             722009 non-null int64\n",
      "startYear           721942 non-null float64\n",
      "genres              709738 non-null object\n",
      "averageRating       722009 non-null float64\n",
      "numVotes            722009 non-null int64\n",
      "directors           722009 non-null object\n",
      "writers             722009 non-null object\n",
      "hashed_directors    722009 non-null int64\n",
      "dtypes: float64(2), int64(3), object(7)\n",
      "memory usage: 71.6+ MB\n",
      "Info:  None\n",
      "\n",
      "\n",
      "Head: Index(['tconst', 'titleType', 'primaryTitle', 'originalTitle', 'isAdult',\n",
      "       'startYear', 'genres', 'averageRating', 'numVotes', 'directors',\n",
      "       'writers', 'hashed_directors'],\n",
      "      dtype='object')\n",
      "\n",
      "\n",
      "Describe:              isAdult      startYear  averageRating      numVotes  \\\n",
      "count  722009.000000  721942.000000  722009.000000  7.220090e+05   \n",
      "mean        0.009483    1997.615648       6.873976  1.289246e+03   \n",
      "std         0.096919      21.090158       1.377142  1.828958e+04   \n",
      "min         0.000000    1894.000000       1.000000  5.000000e+00   \n",
      "25%         0.000000    1988.000000       6.100000  1.000000e+01   \n",
      "50%         0.000000    2005.000000       7.100000  2.600000e+01   \n",
      "75%         0.000000    2013.000000       7.800000  1.170000e+02   \n",
      "max         1.000000    2019.000000      10.000000  2.153177e+06   \n",
      "\n",
      "       hashed_directors  \n",
      "count     722009.000000  \n",
      "mean          49.259973  \n",
      "std           28.686592  \n",
      "min            0.000000  \n",
      "25%           25.000000  \n",
      "50%           49.000000  \n",
      "75%           74.000000  \n",
      "max           99.000000  \n",
      "\n",
      "\n",
      "Unique 722009\n",
      "\n",
      "\n",
      "Null Counts: tconst                  0\n",
      "titleType               0\n",
      "primaryTitle            0\n",
      "originalTitle           0\n",
      "isAdult                 0\n",
      "startYear              67\n",
      "genres              12271\n",
      "averageRating           0\n",
      "numVotes                0\n",
      "directors               0\n",
      "writers                 0\n",
      "hashed_directors        0\n",
      "dtype: int64\n"
     ]
    }
   ],
   "source": [
    "# New DataFrame Features\n",
    "nRow, nCol = df.shape\n",
    "print(f'There are {nRow} rows and {nCol} columns')\n",
    "print('\\n')\n",
    "print(\"Info: \", df.info())\n",
    "print('\\n')\n",
    "print(\"Head:\", df.columns)\n",
    "print('\\n')\n",
    "print(\"Describe:\", df.describe())\n",
    "print('\\n')\n",
    "print(\"Unique\", len(df.tconst.unique()))\n",
    "print('\\n')\n",
    "print(\"Null Counts:\", df.isna().sum())"
   ]
  },
  {
   "cell_type": "code",
   "execution_count": 17,
   "metadata": {
    "colab": {},
    "colab_type": "code",
    "id": "rsefBtx9kcjE"
   },
   "outputs": [],
   "source": [
    "# originalTitle Has three NaN, so Forward Fill will be a good candidate to manage Nulls\n",
    "df['originalTitle'].fillna(method='ffill')\n",
    "# startYear Has quite a few NaN, so Mean of Values will be a good candidate to manage Nulls\n",
    "df['startYear'].fillna(df['startYear'].mean())\n",
    "# Three columns has many missing values, so dropping the missing values\n",
    "#Director was a really good predictor, but I am dropping as it has too many unique values and I am not able to process it on my laptop.\n",
    "df.dropna(subset=['genres', 'directors', 'writers', 'startYear'], inplace = True)"
   ]
  },
  {
   "cell_type": "code",
   "execution_count": 18,
   "metadata": {
    "colab": {},
    "colab_type": "code",
    "id": "mfufjUpokcjF",
    "outputId": "58404eec-7b64-449f-805c-c35aa830518b"
   },
   "outputs": [
    {
     "name": "stdout",
     "output_type": "stream",
     "text": [
      "There are 709673 rows and 12 columns\n",
      "\n",
      "\n",
      "<class 'pandas.core.frame.DataFrame'>\n",
      "Int64Index: 709673 entries, 0 to 722008\n",
      "Data columns (total 12 columns):\n",
      "tconst              709673 non-null object\n",
      "titleType           709673 non-null object\n",
      "primaryTitle        709673 non-null object\n",
      "originalTitle       709673 non-null object\n",
      "isAdult             709673 non-null int64\n",
      "startYear           709673 non-null float64\n",
      "genres              709673 non-null object\n",
      "averageRating       709673 non-null float64\n",
      "numVotes            709673 non-null int64\n",
      "directors           709673 non-null object\n",
      "writers             709673 non-null object\n",
      "hashed_directors    709673 non-null int64\n",
      "dtypes: float64(2), int64(3), object(7)\n",
      "memory usage: 70.4+ MB\n",
      "Info:  None\n",
      "\n",
      "\n",
      "Head: Index(['tconst', 'titleType', 'primaryTitle', 'originalTitle', 'isAdult',\n",
      "       'startYear', 'genres', 'averageRating', 'numVotes', 'directors',\n",
      "       'writers', 'hashed_directors'],\n",
      "      dtype='object')\n",
      "\n",
      "\n",
      "Describe:              isAdult      startYear  averageRating      numVotes  \\\n",
      "count  709673.000000  709673.000000  709673.000000  7.096730e+05   \n",
      "mean        0.009514    1997.781622       6.882773  1.311227e+03   \n",
      "std         0.097076      21.004316       1.374122  1.844708e+04   \n",
      "min         0.000000    1894.000000       1.000000  5.000000e+00   \n",
      "25%         0.000000    1988.000000       6.100000  1.000000e+01   \n",
      "50%         0.000000    2006.000000       7.100000  2.700000e+01   \n",
      "75%         0.000000    2013.000000       7.800000  1.210000e+02   \n",
      "max         1.000000    2019.000000      10.000000  2.153177e+06   \n",
      "\n",
      "       hashed_directors  \n",
      "count     709673.000000  \n",
      "mean          49.259297  \n",
      "std           28.677671  \n",
      "min            0.000000  \n",
      "25%           25.000000  \n",
      "50%           49.000000  \n",
      "75%           74.000000  \n",
      "max           99.000000  \n",
      "\n",
      "\n",
      "Unique 709673\n",
      "\n",
      "\n",
      "Null Counts: tconst              0\n",
      "titleType           0\n",
      "primaryTitle        0\n",
      "originalTitle       0\n",
      "isAdult             0\n",
      "startYear           0\n",
      "genres              0\n",
      "averageRating       0\n",
      "numVotes            0\n",
      "directors           0\n",
      "writers             0\n",
      "hashed_directors    0\n",
      "dtype: int64\n"
     ]
    }
   ],
   "source": [
    "# New DataFrame Features\n",
    "nRow, nCol = df.shape\n",
    "print(f'There are {nRow} rows and {nCol} columns')\n",
    "print('\\n')\n",
    "print(\"Info: \", df.info())\n",
    "print('\\n')\n",
    "print(\"Head:\", df.columns)\n",
    "print('\\n')\n",
    "print(\"Describe:\", df.describe())\n",
    "print('\\n')\n",
    "print(\"Unique\", len(df.tconst.unique()))\n",
    "print('\\n')\n",
    "print(\"Null Counts:\", df.isna().sum())"
   ]
  },
  {
   "cell_type": "code",
   "execution_count": 19,
   "metadata": {
    "colab": {},
    "colab_type": "code",
    "id": "DvqzXRWKkcjH",
    "outputId": "2626cb00-ecd2-4a10-ffdb-fc85796148e0"
   },
   "outputs": [
    {
     "name": "stdout",
     "output_type": "stream",
     "text": [
      "Unique directors 199752\n",
      "Unique writers 397744\n"
     ]
    }
   ],
   "source": [
    "print(\"Unique directors\", len(df.directors.unique()))\n",
    "print(\"Unique writers\", len(df.writers.unique()))"
   ]
  },
  {
   "cell_type": "code",
   "execution_count": 20,
   "metadata": {
    "colab": {},
    "colab_type": "code",
    "id": "w-vTsaV5kcjI"
   },
   "outputs": [],
   "source": [
    "# Process Columns to Fix their Catogerical Values\n",
    "df['titleType'] = df['titleType'].astype('category')\n",
    "df['isAdult'] = df['isAdult'].astype('category')\n",
    "df['genres'] = df['genres'].str.split(',')\n",
    "df['directors'] = df['directors'].str.split(',')\n",
    "df['writers'] = df['writers'].str.split(',')\n",
    "df['startYear'] = df['startYear'].astype(int)"
   ]
  },
  {
   "cell_type": "code",
   "execution_count": 21,
   "metadata": {
    "colab": {},
    "colab_type": "code",
    "id": "DtPh3CptkcjJ",
    "outputId": "2670dc8d-9098-4b83-9d4a-1d6cf77a9d02"
   },
   "outputs": [
    {
     "name": "stdout",
     "output_type": "stream",
     "text": [
      "There are 709673 rows and 12 columns\n",
      "\n",
      "\n",
      "<class 'pandas.core.frame.DataFrame'>\n",
      "Int64Index: 709673 entries, 0 to 722008\n",
      "Data columns (total 12 columns):\n",
      "tconst              709673 non-null object\n",
      "titleType           709673 non-null category\n",
      "primaryTitle        709673 non-null object\n",
      "originalTitle       709673 non-null object\n",
      "isAdult             709673 non-null category\n",
      "startYear           709673 non-null int64\n",
      "genres              709673 non-null object\n",
      "averageRating       709673 non-null float64\n",
      "numVotes            709673 non-null int64\n",
      "directors           709673 non-null object\n",
      "writers             709673 non-null object\n",
      "hashed_directors    709673 non-null int64\n",
      "dtypes: category(2), float64(1), int64(3), object(6)\n",
      "memory usage: 60.9+ MB\n",
      "Info:  None\n",
      "\n",
      "\n",
      "Head: Index(['tconst', 'titleType', 'primaryTitle', 'originalTitle', 'isAdult',\n",
      "       'startYear', 'genres', 'averageRating', 'numVotes', 'directors',\n",
      "       'writers', 'hashed_directors'],\n",
      "      dtype='object')\n",
      "\n",
      "\n",
      "Describe:            startYear  averageRating      numVotes  hashed_directors\n",
      "count  709673.000000  709673.000000  7.096730e+05     709673.000000\n",
      "mean     1997.781622       6.882773  1.311227e+03         49.259297\n",
      "std        21.004316       1.374122  1.844708e+04         28.677671\n",
      "min      1894.000000       1.000000  5.000000e+00          0.000000\n",
      "25%      1988.000000       6.100000  1.000000e+01         25.000000\n",
      "50%      2006.000000       7.100000  2.700000e+01         49.000000\n",
      "75%      2013.000000       7.800000  1.210000e+02         74.000000\n",
      "max      2019.000000      10.000000  2.153177e+06         99.000000\n",
      "\n",
      "\n",
      "Unique 709673\n",
      "\n",
      "\n",
      "Null Counts: tconst              0\n",
      "titleType           0\n",
      "primaryTitle        0\n",
      "originalTitle       0\n",
      "isAdult             0\n",
      "startYear           0\n",
      "genres              0\n",
      "averageRating       0\n",
      "numVotes            0\n",
      "directors           0\n",
      "writers             0\n",
      "hashed_directors    0\n",
      "dtype: int64\n"
     ]
    }
   ],
   "source": [
    "# New DataFrame Features\n",
    "nRow, nCol = df.shape\n",
    "print(f'There are {nRow} rows and {nCol} columns')\n",
    "print('\\n')\n",
    "print(\"Info: \", df.info())\n",
    "print('\\n')\n",
    "print(\"Head:\", df.columns)\n",
    "print('\\n')\n",
    "print(\"Describe:\", df.describe())\n",
    "print('\\n')\n",
    "print(\"Unique\", len(df.tconst.unique()))\n",
    "print('\\n')\n",
    "print(\"Null Counts:\", df.isna().sum())"
   ]
  },
  {
   "cell_type": "code",
   "execution_count": 22,
   "metadata": {
    "colab": {},
    "colab_type": "code",
    "id": "srp59i09kcjL",
    "outputId": "b96c59ea-04f2-4dd0-a512-5181978e864b"
   },
   "outputs": [
    {
     "data": {
      "image/png": "[encoded data removed]",
      "text/plain": [
       "<Figure size 1080x1080 with 4 Axes>"
      ]
     },
     "metadata": {
      "needs_background": "light"
     },
     "output_type": "display_data"
    }
   ],
   "source": [
    "import matplotlib.pyplot as plt\n",
    "\n",
    "%matplotlib inline\n",
    "plt.figure(figsize=(15,15))\n",
    "\n",
    "plt.subplot(4, 1, 1)\n",
    "plt.scatter(df['averageRating'], df['numVotes'])\n",
    "plt.subplot(4, 1, 2)\n",
    "plt.scatter(df['titleType'], df['averageRating'])\n",
    "plt.subplot(4, 1, 3)\n",
    "plt.scatter(df['startYear'], df['averageRating'])\n",
    "plt.subplot(4, 1, 4)\n",
    "plt.scatter(df['isAdult'], df['averageRating'])\n",
    "plt.show()"
   ]
  },
  {
   "cell_type": "code",
   "execution_count": 23,
   "metadata": {
    "colab": {},
    "colab_type": "code",
    "id": "k1HeVIFjkcjM",
    "outputId": "101bc950-70a5-4b91-f814-7e2e2f3c576c"
   },
   "outputs": [
    {
     "data": {
      "image/png": "[encoded data removed]",
      "text/plain": [
       "<Figure size 900x900 with 30 Axes>"
      ]
     },
     "metadata": {
      "needs_background": "light"
     },
     "output_type": "display_data"
    },
    {
     "data": {
      "text/html": [
       "<style  type=\"text/css\" >\n",
       "    #T_6ece3e40_fb8f_11e9_a4a3_f45c89bafb3brow0_col0 {\n",
       "            background-color:  #b40426;\n",
       "            color:  #f1f1f1;\n",
       "        }    #T_6ece3e40_fb8f_11e9_a4a3_f45c89bafb3brow0_col1 {\n",
       "            background-color:  #5e7de7;\n",
       "            color:  #000000;\n",
       "        }    #T_6ece3e40_fb8f_11e9_a4a3_f45c89bafb3brow0_col2 {\n",
       "            background-color:  #3f53c6;\n",
       "            color:  #f1f1f1;\n",
       "        }    #T_6ece3e40_fb8f_11e9_a4a3_f45c89bafb3brow0_col3 {\n",
       "            background-color:  #3c4ec2;\n",
       "            color:  #f1f1f1;\n",
       "        }    #T_6ece3e40_fb8f_11e9_a4a3_f45c89bafb3brow1_col0 {\n",
       "            background-color:  #5b7ae5;\n",
       "            color:  #000000;\n",
       "        }    #T_6ece3e40_fb8f_11e9_a4a3_f45c89bafb3brow1_col1 {\n",
       "            background-color:  #b40426;\n",
       "            color:  #f1f1f1;\n",
       "        }    #T_6ece3e40_fb8f_11e9_a4a3_f45c89bafb3brow1_col2 {\n",
       "            background-color:  #3f53c6;\n",
       "            color:  #f1f1f1;\n",
       "        }    #T_6ece3e40_fb8f_11e9_a4a3_f45c89bafb3brow1_col3 {\n",
       "            background-color:  #3b4cc0;\n",
       "            color:  #f1f1f1;\n",
       "        }    #T_6ece3e40_fb8f_11e9_a4a3_f45c89bafb3brow2_col0 {\n",
       "            background-color:  #3e51c5;\n",
       "            color:  #f1f1f1;\n",
       "        }    #T_6ece3e40_fb8f_11e9_a4a3_f45c89bafb3brow2_col1 {\n",
       "            background-color:  #4055c8;\n",
       "            color:  #f1f1f1;\n",
       "        }    #T_6ece3e40_fb8f_11e9_a4a3_f45c89bafb3brow2_col2 {\n",
       "            background-color:  #b40426;\n",
       "            color:  #f1f1f1;\n",
       "        }    #T_6ece3e40_fb8f_11e9_a4a3_f45c89bafb3brow2_col3 {\n",
       "            background-color:  #3b4cc0;\n",
       "            color:  #f1f1f1;\n",
       "        }    #T_6ece3e40_fb8f_11e9_a4a3_f45c89bafb3brow3_col0 {\n",
       "            background-color:  #3b4cc0;\n",
       "            color:  #f1f1f1;\n",
       "        }    #T_6ece3e40_fb8f_11e9_a4a3_f45c89bafb3brow3_col1 {\n",
       "            background-color:  #3b4cc0;\n",
       "            color:  #f1f1f1;\n",
       "        }    #T_6ece3e40_fb8f_11e9_a4a3_f45c89bafb3brow3_col2 {\n",
       "            background-color:  #3b4cc0;\n",
       "            color:  #f1f1f1;\n",
       "        }    #T_6ece3e40_fb8f_11e9_a4a3_f45c89bafb3brow3_col3 {\n",
       "            background-color:  #b40426;\n",
       "            color:  #f1f1f1;\n",
       "        }</style><table id=\"T_6ece3e40_fb8f_11e9_a4a3_f45c89bafb3b\" ><thead>    <tr>        <th class=\"blank level0\" ></th>        <th class=\"col_heading level0 col0\" >startYear</th>        <th class=\"col_heading level0 col1\" >averageRating</th>        <th class=\"col_heading level0 col2\" >numVotes</th>        <th class=\"col_heading level0 col3\" >hashed_directors</th>    </tr></thead><tbody>\n",
       "                <tr>\n",
       "                        <th id=\"T_6ece3e40_fb8f_11e9_a4a3_f45c89bafb3blevel0_row0\" class=\"row_heading level0 row0\" >startYear</th>\n",
       "                        <td id=\"T_6ece3e40_fb8f_11e9_a4a3_f45c89bafb3brow0_col0\" class=\"data row0 col0\" >1</td>\n",
       "                        <td id=\"T_6ece3e40_fb8f_11e9_a4a3_f45c89bafb3brow0_col1\" class=\"data row0 col1\" >0.109077</td>\n",
       "                        <td id=\"T_6ece3e40_fb8f_11e9_a4a3_f45c89bafb3brow0_col2\" class=\"data row0 col2\" >0.0142374</td>\n",
       "                        <td id=\"T_6ece3e40_fb8f_11e9_a4a3_f45c89bafb3brow0_col3\" class=\"data row0 col3\" >0.000519816</td>\n",
       "            </tr>\n",
       "            <tr>\n",
       "                        <th id=\"T_6ece3e40_fb8f_11e9_a4a3_f45c89bafb3blevel0_row1\" class=\"row_heading level0 row1\" >averageRating</th>\n",
       "                        <td id=\"T_6ece3e40_fb8f_11e9_a4a3_f45c89bafb3brow1_col0\" class=\"data row1 col0\" >0.109077</td>\n",
       "                        <td id=\"T_6ece3e40_fb8f_11e9_a4a3_f45c89bafb3brow1_col1\" class=\"data row1 col1\" >1</td>\n",
       "                        <td id=\"T_6ece3e40_fb8f_11e9_a4a3_f45c89bafb3brow1_col2\" class=\"data row1 col2\" >0.0160281</td>\n",
       "                        <td id=\"T_6ece3e40_fb8f_11e9_a4a3_f45c89bafb3brow1_col3\" class=\"data row1 col3\" >-0.00501063</td>\n",
       "            </tr>\n",
       "            <tr>\n",
       "                        <th id=\"T_6ece3e40_fb8f_11e9_a4a3_f45c89bafb3blevel0_row2\" class=\"row_heading level0 row2\" >numVotes</th>\n",
       "                        <td id=\"T_6ece3e40_fb8f_11e9_a4a3_f45c89bafb3brow2_col0\" class=\"data row2 col0\" >0.0142374</td>\n",
       "                        <td id=\"T_6ece3e40_fb8f_11e9_a4a3_f45c89bafb3brow2_col1\" class=\"data row2 col1\" >0.0160281</td>\n",
       "                        <td id=\"T_6ece3e40_fb8f_11e9_a4a3_f45c89bafb3brow2_col2\" class=\"data row2 col2\" >1</td>\n",
       "                        <td id=\"T_6ece3e40_fb8f_11e9_a4a3_f45c89bafb3brow2_col3\" class=\"data row2 col3\" >-0.00142059</td>\n",
       "            </tr>\n",
       "            <tr>\n",
       "                        <th id=\"T_6ece3e40_fb8f_11e9_a4a3_f45c89bafb3blevel0_row3\" class=\"row_heading level0 row3\" >hashed_directors</th>\n",
       "                        <td id=\"T_6ece3e40_fb8f_11e9_a4a3_f45c89bafb3brow3_col0\" class=\"data row3 col0\" >0.000519816</td>\n",
       "                        <td id=\"T_6ece3e40_fb8f_11e9_a4a3_f45c89bafb3brow3_col1\" class=\"data row3 col1\" >-0.00501063</td>\n",
       "                        <td id=\"T_6ece3e40_fb8f_11e9_a4a3_f45c89bafb3brow3_col2\" class=\"data row3 col2\" >-0.00142059</td>\n",
       "                        <td id=\"T_6ece3e40_fb8f_11e9_a4a3_f45c89bafb3brow3_col3\" class=\"data row3 col3\" >1</td>\n",
       "            </tr>\n",
       "    </tbody></table>"
      ],
      "text/plain": [
       "<pandas.io.formats.style.Styler at 0x1ab6173fd0>"
      ]
     },
     "execution_count": 23,
     "metadata": {},
     "output_type": "execute_result"
    }
   ],
   "source": [
    "# library for plots\n",
    "import seaborn as sns\n",
    "import matplotlib.pyplot as plt\n",
    " \n",
    "# Basic correlogram\n",
    "sns.pairplot(df)\n",
    "plt.show()\n",
    "\n",
    "corr = df.corr()\n",
    "corr.style.background_gradient(cmap='coolwarm')"
   ]
  },
  {
   "cell_type": "code",
   "execution_count": 24,
   "metadata": {
    "colab": {},
    "colab_type": "code",
    "id": "fYfDxMdCkcjN"
   },
   "outputs": [],
   "source": [
    "def convrt_to_cat_val(num):\n",
    "    x = ''\n",
    "    if 0 <= num <= 3.3:\n",
    "        x = 0\n",
    "    elif 3.3 < num <= 6.6:\n",
    "        x = 1\n",
    "    elif 6.6 < num <= 10:\n",
    "        x = 2\n",
    "    return x"
   ]
  },
  {
   "cell_type": "code",
   "execution_count": 25,
   "metadata": {
    "colab": {},
    "colab_type": "code",
    "id": "XCFO5Zf_kcjO",
    "outputId": "37b5d94d-f707-4308-cfab-6355bf81ad7e"
   },
   "outputs": [
    {
     "data": {
      "text/html": [
       "<div>\n",
       "<style scoped>\n",
       "    .dataframe tbody tr th:only-of-type {\n",
       "        vertical-align: middle;\n",
       "    }\n",
       "\n",
       "    .dataframe tbody tr th {\n",
       "        vertical-align: top;\n",
       "    }\n",
       "\n",
       "    .dataframe thead th {\n",
       "        text-align: right;\n",
       "    }\n",
       "</style>\n",
       "<table border=\"1\" class=\"dataframe\">\n",
       "  <thead>\n",
       "    <tr style=\"text-align: right;\">\n",
       "      <th></th>\n",
       "      <th>tconst</th>\n",
       "      <th>titleType</th>\n",
       "      <th>primaryTitle</th>\n",
       "      <th>originalTitle</th>\n",
       "      <th>isAdult</th>\n",
       "      <th>startYear</th>\n",
       "      <th>genres</th>\n",
       "      <th>averageRating</th>\n",
       "      <th>numVotes</th>\n",
       "      <th>directors</th>\n",
       "      <th>writers</th>\n",
       "      <th>hashed_directors</th>\n",
       "      <th>aRating_eq_bin</th>\n",
       "    </tr>\n",
       "  </thead>\n",
       "  <tbody>\n",
       "    <tr>\n",
       "      <td>0</td>\n",
       "      <td>tt0000009</td>\n",
       "      <td>movie</td>\n",
       "      <td>Miss Jerry</td>\n",
       "      <td>Miss Jerry</td>\n",
       "      <td>0</td>\n",
       "      <td>1894</td>\n",
       "      <td>[Romance]</td>\n",
       "      <td>5.4</td>\n",
       "      <td>81</td>\n",
       "      <td>[nm0085156]</td>\n",
       "      <td>[nm0085156]</td>\n",
       "      <td>99</td>\n",
       "      <td>1</td>\n",
       "    </tr>\n",
       "    <tr>\n",
       "      <td>1</td>\n",
       "      <td>tt0000036</td>\n",
       "      <td>short</td>\n",
       "      <td>Awakening of Rip</td>\n",
       "      <td>Awakening of Rip</td>\n",
       "      <td>0</td>\n",
       "      <td>1896</td>\n",
       "      <td>[Drama, Short]</td>\n",
       "      <td>4.5</td>\n",
       "      <td>450</td>\n",
       "      <td>[nm0005690]</td>\n",
       "      <td>[nm0410331]</td>\n",
       "      <td>44</td>\n",
       "      <td>1</td>\n",
       "    </tr>\n",
       "    <tr>\n",
       "      <td>2</td>\n",
       "      <td>tt0000076</td>\n",
       "      <td>short</td>\n",
       "      <td>Exit of Rip and the Dwarf</td>\n",
       "      <td>Exit of Rip and the Dwarf</td>\n",
       "      <td>0</td>\n",
       "      <td>1896</td>\n",
       "      <td>[Drama, Short]</td>\n",
       "      <td>4.5</td>\n",
       "      <td>393</td>\n",
       "      <td>[nm0005690]</td>\n",
       "      <td>[nm0410331]</td>\n",
       "      <td>44</td>\n",
       "      <td>1</td>\n",
       "    </tr>\n",
       "    <tr>\n",
       "      <td>3</td>\n",
       "      <td>tt0000091</td>\n",
       "      <td>short</td>\n",
       "      <td>The House of the Devil</td>\n",
       "      <td>Le manoir du diable</td>\n",
       "      <td>0</td>\n",
       "      <td>1896</td>\n",
       "      <td>[Horror, Short]</td>\n",
       "      <td>6.7</td>\n",
       "      <td>2495</td>\n",
       "      <td>[nm0617588]</td>\n",
       "      <td>[nm0617588]</td>\n",
       "      <td>88</td>\n",
       "      <td>2</td>\n",
       "    </tr>\n",
       "    <tr>\n",
       "      <td>4</td>\n",
       "      <td>tt0000108</td>\n",
       "      <td>short</td>\n",
       "      <td>Rip Leaving Sleepy Hollow</td>\n",
       "      <td>Rip Leaving Sleepy Hollow</td>\n",
       "      <td>0</td>\n",
       "      <td>1896</td>\n",
       "      <td>[Drama, Short]</td>\n",
       "      <td>4.4</td>\n",
       "      <td>405</td>\n",
       "      <td>[nm0005690]</td>\n",
       "      <td>[nm0410331]</td>\n",
       "      <td>44</td>\n",
       "      <td>1</td>\n",
       "    </tr>\n",
       "  </tbody>\n",
       "</table>\n",
       "</div>"
      ],
      "text/plain": [
       "      tconst titleType               primaryTitle              originalTitle  \\\n",
       "0  tt0000009     movie                 Miss Jerry                 Miss Jerry   \n",
       "1  tt0000036     short           Awakening of Rip           Awakening of Rip   \n",
       "2  tt0000076     short  Exit of Rip and the Dwarf  Exit of Rip and the Dwarf   \n",
       "3  tt0000091     short     The House of the Devil        Le manoir du diable   \n",
       "4  tt0000108     short  Rip Leaving Sleepy Hollow  Rip Leaving Sleepy Hollow   \n",
       "\n",
       "  isAdult  startYear           genres  averageRating  numVotes    directors  \\\n",
       "0       0       1894        [Romance]            5.4        81  [nm0085156]   \n",
       "1       0       1896   [Drama, Short]            4.5       450  [nm0005690]   \n",
       "2       0       1896   [Drama, Short]            4.5       393  [nm0005690]   \n",
       "3       0       1896  [Horror, Short]            6.7      2495  [nm0617588]   \n",
       "4       0       1896   [Drama, Short]            4.4       405  [nm0005690]   \n",
       "\n",
       "       writers  hashed_directors  aRating_eq_bin  \n",
       "0  [nm0085156]                99               1  \n",
       "1  [nm0410331]                44               1  \n",
       "2  [nm0410331]                44               1  \n",
       "3  [nm0617588]                88               2  \n",
       "4  [nm0410331]                44               1  "
      ]
     },
     "execution_count": 25,
     "metadata": {},
     "output_type": "execute_result"
    }
   ],
   "source": [
    "# Converting the Average Rating to Bins which are equally distributed. \n",
    "df['aRating_eq_bin'] = df['averageRating'].apply(lambda x: convrt_to_cat_val(x))\n",
    "df.head()"
   ]
  },
  {
   "cell_type": "code",
   "execution_count": 26,
   "metadata": {
    "colab": {},
    "colab_type": "code",
    "id": "eA8zATjxkcjP",
    "outputId": "61bcbdb7-38aa-4624-9d18-edf1f86447bb"
   },
   "outputs": [
    {
     "data": {
      "image/png": "[encoded data removed]",
      "text/plain": [
       "<Figure size 432x288 with 1 Axes>"
      ]
     },
     "metadata": {},
     "output_type": "display_data"
    }
   ],
   "source": [
    "import matplotlib.pyplot as plt \n",
    "import seaborn as sns\n",
    "sns.set(style=\"white\")\n",
    "sns.set(style=\"whitegrid\", color_codes=True)\n",
    "\n",
    "#draw histogram plot\n",
    "sns.countplot(df['aRating_eq_bin'], palette = 'hls')\n",
    "plt.show()"
   ]
  },
  {
   "cell_type": "code",
   "execution_count": 27,
   "metadata": {
    "colab": {},
    "colab_type": "code",
    "id": "ovkRXwRlkcjR",
    "outputId": "921f490d-255e-45d8-ee58-4cb0534bd901"
   },
   "outputs": [
    {
     "name": "stdout",
     "output_type": "stream",
     "text": [
      "<class 'pandas.core.frame.DataFrame'>\n",
      "Int64Index: 709673 entries, 0 to 722008\n",
      "Data columns (total 13 columns):\n",
      "tconst              709673 non-null object\n",
      "titleType           709673 non-null category\n",
      "primaryTitle        709673 non-null object\n",
      "originalTitle       709673 non-null object\n",
      "isAdult             709673 non-null category\n",
      "startYear           709673 non-null int64\n",
      "genres              709673 non-null object\n",
      "averageRating       709673 non-null float64\n",
      "numVotes            709673 non-null int64\n",
      "directors           709673 non-null object\n",
      "writers             709673 non-null object\n",
      "hashed_directors    709673 non-null int64\n",
      "aRating_eq_bin      709673 non-null int64\n",
      "dtypes: category(2), float64(1), int64(4), object(6)\n",
      "memory usage: 86.3+ MB\n"
     ]
    }
   ],
   "source": [
    "df.info()"
   ]
  },
  {
   "cell_type": "code",
   "execution_count": 28,
   "metadata": {
    "colab": {},
    "colab_type": "code",
    "id": "XCOD3H3jkcjS"
   },
   "outputs": [],
   "source": [
    "#Use Quantiles to slipt the Averaging ratings so each bin is equally distributed\n",
    "#Based on Discussion in class, we should not do equal eright classification.\n",
    "\n",
    "#bin_labels = ['Low', 'Medium', 'High']\n",
    "#df['aRating_qant_bin'] = pd.qcut(df.averageRating,3,labels=bin_labels)\n",
    "#print(df.head())\n",
    "#df.replace('\\\\N', np.NaN, inplace = True)\n",
    "#print(df.head())\n",
    "#print(df.info())"
   ]
  },
  {
   "cell_type": "code",
   "execution_count": 29,
   "metadata": {
    "colab": {},
    "colab_type": "code",
    "id": "-5ZFIS7ikcjW"
   },
   "outputs": [],
   "source": [
    "#import matplotlib.pyplot as plt \n",
    "#import seaborn as sns\n",
    "#sns.set(style=\"white\")\n",
    "#sns.set(style=\"whitegrid\", color_codes=True)\n",
    " \n",
    "#draw histogram plot\n",
    "#sns.countplot(df['aRating_qant_bin'], palette = 'hls')\n",
    "#plt.show()"
   ]
  },
  {
   "cell_type": "code",
   "execution_count": 30,
   "metadata": {
    "colab": {},
    "colab_type": "code",
    "id": "zTnJiuqZkcjX"
   },
   "outputs": [],
   "source": [
    "#df.count()"
   ]
  },
  {
   "cell_type": "markdown",
   "metadata": {
    "colab_type": "text",
    "id": "ohiUaG-ckcjZ"
   },
   "source": [
    "Drop Columns with no average Rating as we are going to predict Rating"
   ]
  },
  {
   "cell_type": "code",
   "execution_count": 31,
   "metadata": {
    "colab": {},
    "colab_type": "code",
    "id": "G7UzaIEZkcjZ",
    "outputId": "de5235c9-3644-4ddf-aa15-fe17daa82b47"
   },
   "outputs": [
    {
     "name": "stdout",
     "output_type": "stream",
     "text": [
      "tconst            709673\n",
      "titleType         709673\n",
      "isAdult           709673\n",
      "startYear         709673\n",
      "genres            709673\n",
      "numVotes          709673\n",
      "directors         709673\n",
      "writers           709673\n",
      "aRating_eq_bin    709673\n",
      "averageRating     709673\n",
      "dtype: int64\n"
     ]
    }
   ],
   "source": [
    "#df2 = df[df['averageRating'].notnull()][['tconst','titleType', 'primaryTitle','originalTitle', 'isAdult', 'startYear', 'endYear', 'runtimeMinutes', 'genres', 'averageRating', 'numVotes', 'directors', 'writers', 'aRating_eq_bin', 'aRating_qant_bin']]\n",
    "df2 = df[df['averageRating'].notnull()][['tconst','titleType', 'isAdult', 'startYear', 'genres', 'numVotes', 'directors', 'writers', 'aRating_eq_bin', 'averageRating']]\n",
    "print(df2.count())"
   ]
  },
  {
   "cell_type": "code",
   "execution_count": 32,
   "metadata": {
    "colab": {},
    "colab_type": "code",
    "id": "CjItHGC1kcjb",
    "outputId": "2fbf7796-3a20-4464-e4b7-e1d0521c9959"
   },
   "outputs": [
    {
     "name": "stdout",
     "output_type": "stream",
     "text": [
      "0                              [Romance]\n",
      "1                         [Drama, Short]\n",
      "2                         [Drama, Short]\n",
      "3                        [Horror, Short]\n",
      "4                         [Drama, Short]\n",
      "                       ...              \n",
      "722004                           [Drama]\n",
      "722005                           [Drama]\n",
      "722006       [Adventure, Comedy, Family]\n",
      "722007                    [Drama, Short]\n",
      "722008    [Adventure, Biography, Comedy]\n",
      "Name: genres, Length: 709673, dtype: object\n"
     ]
    }
   ],
   "source": [
    "print(df2.genres)"
   ]
  },
  {
   "cell_type": "code",
   "execution_count": 33,
   "metadata": {
    "colab": {},
    "colab_type": "code",
    "id": "iBGtKVUXkcjc",
    "outputId": "c66edace-b098-4d51-88cd-9ec012b2e118"
   },
   "outputs": [
    {
     "name": "stdout",
     "output_type": "stream",
     "text": [
      "<class 'pandas.core.frame.DataFrame'>\n",
      "Int64Index: 709673 entries, 0 to 722008\n",
      "Data columns (total 10 columns):\n",
      "tconst            709673 non-null object\n",
      "titleType         709673 non-null category\n",
      "isAdult           709673 non-null category\n",
      "startYear         709673 non-null int64\n",
      "genres            709673 non-null object\n",
      "numVotes          709673 non-null int64\n",
      "directors         709673 non-null object\n",
      "writers           709673 non-null object\n",
      "aRating_eq_bin    709673 non-null int64\n",
      "averageRating     709673 non-null float64\n",
      "dtypes: category(2), float64(1), int64(3), object(4)\n",
      "memory usage: 50.1+ MB\n",
      "None\n"
     ]
    }
   ],
   "source": [
    "print(df2.info())"
   ]
  },
  {
   "cell_type": "code",
   "execution_count": 34,
   "metadata": {
    "colab": {},
    "colab_type": "code",
    "id": "MLp_c5ckkcjd",
    "outputId": "d9ac6c57-3587-4d81-cd6b-e8b9c1420394"
   },
   "outputs": [
    {
     "data": {
      "text/html": [
       "<div>\n",
       "<style scoped>\n",
       "    .dataframe tbody tr th:only-of-type {\n",
       "        vertical-align: middle;\n",
       "    }\n",
       "\n",
       "    .dataframe tbody tr th {\n",
       "        vertical-align: top;\n",
       "    }\n",
       "\n",
       "    .dataframe thead th {\n",
       "        text-align: right;\n",
       "    }\n",
       "</style>\n",
       "<table border=\"1\" class=\"dataframe\">\n",
       "  <thead>\n",
       "    <tr style=\"text-align: right;\">\n",
       "      <th></th>\n",
       "      <th>tconst</th>\n",
       "      <th>titleType</th>\n",
       "      <th>isAdult</th>\n",
       "      <th>startYear</th>\n",
       "      <th>genres</th>\n",
       "      <th>numVotes</th>\n",
       "      <th>directors</th>\n",
       "      <th>writers</th>\n",
       "      <th>aRating_eq_bin</th>\n",
       "      <th>averageRating</th>\n",
       "    </tr>\n",
       "  </thead>\n",
       "  <tbody>\n",
       "    <tr>\n",
       "      <td>nunique</td>\n",
       "      <td>709673</td>\n",
       "      <td>10</td>\n",
       "      <td>2</td>\n",
       "      <td>126</td>\n",
       "      <td>NaN</td>\n",
       "      <td>17175</td>\n",
       "      <td>NaN</td>\n",
       "      <td>NaN</td>\n",
       "      <td>3</td>\n",
       "      <td>91</td>\n",
       "    </tr>\n",
       "    <tr>\n",
       "      <td>count</td>\n",
       "      <td>709673</td>\n",
       "      <td>709673</td>\n",
       "      <td>709673</td>\n",
       "      <td>709673</td>\n",
       "      <td>709673.0</td>\n",
       "      <td>709673</td>\n",
       "      <td>709673.0</td>\n",
       "      <td>709673.0</td>\n",
       "      <td>709673</td>\n",
       "      <td>709673</td>\n",
       "    </tr>\n",
       "    <tr>\n",
       "      <td>size</td>\n",
       "      <td>709673</td>\n",
       "      <td>709673</td>\n",
       "      <td>709673</td>\n",
       "      <td>709673</td>\n",
       "      <td>709673.0</td>\n",
       "      <td>709673</td>\n",
       "      <td>709673.0</td>\n",
       "      <td>709673.0</td>\n",
       "      <td>709673</td>\n",
       "      <td>709673</td>\n",
       "    </tr>\n",
       "  </tbody>\n",
       "</table>\n",
       "</div>"
      ],
      "text/plain": [
       "         tconst  titleType  isAdult  startYear    genres  numVotes  directors  \\\n",
       "nunique  709673         10        2        126       NaN     17175        NaN   \n",
       "count    709673     709673   709673     709673  709673.0    709673   709673.0   \n",
       "size     709673     709673   709673     709673  709673.0    709673   709673.0   \n",
       "\n",
       "          writers  aRating_eq_bin  averageRating  \n",
       "nunique       NaN               3             91  \n",
       "count    709673.0          709673         709673  \n",
       "size     709673.0          709673         709673  "
      ]
     },
     "execution_count": 34,
     "metadata": {},
     "output_type": "execute_result"
    }
   ],
   "source": [
    "df2.agg(['nunique','count','size'])\n",
    "# We have too many Primary Titles and Original Title. I feel they won't be of much help for my analysis.\n",
    "# so I am dropping off them form dataset."
   ]
  },
  {
   "cell_type": "code",
   "execution_count": 35,
   "metadata": {
    "colab": {},
    "colab_type": "code",
    "id": "SobZyV_Lkcje"
   },
   "outputs": [],
   "source": [
    "#df2.drop(columns=['primaryTitle', 'originalTitle', 'directors', 'writers', 'averageRating', 'endYear'], inplace = True)"
   ]
  },
  {
   "cell_type": "code",
   "execution_count": 36,
   "metadata": {
    "colab": {},
    "colab_type": "code",
    "id": "XPEIyw4jkcjf",
    "outputId": "4db50af8-62ea-4da3-ccd8-c9518cca8f5b"
   },
   "outputs": [
    {
     "data": {
      "text/html": [
       "<div>\n",
       "<style scoped>\n",
       "    .dataframe tbody tr th:only-of-type {\n",
       "        vertical-align: middle;\n",
       "    }\n",
       "\n",
       "    .dataframe tbody tr th {\n",
       "        vertical-align: top;\n",
       "    }\n",
       "\n",
       "    .dataframe thead th {\n",
       "        text-align: right;\n",
       "    }\n",
       "</style>\n",
       "<table border=\"1\" class=\"dataframe\">\n",
       "  <thead>\n",
       "    <tr style=\"text-align: right;\">\n",
       "      <th></th>\n",
       "      <th>tconst</th>\n",
       "      <th>titleType</th>\n",
       "      <th>isAdult</th>\n",
       "      <th>startYear</th>\n",
       "      <th>genres</th>\n",
       "      <th>numVotes</th>\n",
       "      <th>directors</th>\n",
       "      <th>writers</th>\n",
       "      <th>aRating_eq_bin</th>\n",
       "      <th>averageRating</th>\n",
       "    </tr>\n",
       "  </thead>\n",
       "  <tbody>\n",
       "    <tr>\n",
       "      <td>nunique</td>\n",
       "      <td>709673</td>\n",
       "      <td>10</td>\n",
       "      <td>2</td>\n",
       "      <td>126</td>\n",
       "      <td>NaN</td>\n",
       "      <td>17175</td>\n",
       "      <td>NaN</td>\n",
       "      <td>NaN</td>\n",
       "      <td>3</td>\n",
       "      <td>91</td>\n",
       "    </tr>\n",
       "    <tr>\n",
       "      <td>count</td>\n",
       "      <td>709673</td>\n",
       "      <td>709673</td>\n",
       "      <td>709673</td>\n",
       "      <td>709673</td>\n",
       "      <td>709673.0</td>\n",
       "      <td>709673</td>\n",
       "      <td>709673.0</td>\n",
       "      <td>709673.0</td>\n",
       "      <td>709673</td>\n",
       "      <td>709673</td>\n",
       "    </tr>\n",
       "    <tr>\n",
       "      <td>size</td>\n",
       "      <td>709673</td>\n",
       "      <td>709673</td>\n",
       "      <td>709673</td>\n",
       "      <td>709673</td>\n",
       "      <td>709673.0</td>\n",
       "      <td>709673</td>\n",
       "      <td>709673.0</td>\n",
       "      <td>709673.0</td>\n",
       "      <td>709673</td>\n",
       "      <td>709673</td>\n",
       "    </tr>\n",
       "  </tbody>\n",
       "</table>\n",
       "</div>"
      ],
      "text/plain": [
       "         tconst  titleType  isAdult  startYear    genres  numVotes  directors  \\\n",
       "nunique  709673         10        2        126       NaN     17175        NaN   \n",
       "count    709673     709673   709673     709673  709673.0    709673   709673.0   \n",
       "size     709673     709673   709673     709673  709673.0    709673   709673.0   \n",
       "\n",
       "          writers  aRating_eq_bin  averageRating  \n",
       "nunique       NaN               3             91  \n",
       "count    709673.0          709673         709673  \n",
       "size     709673.0          709673         709673  "
      ]
     },
     "execution_count": 36,
     "metadata": {},
     "output_type": "execute_result"
    }
   ],
   "source": [
    "#Verify The Rest Data\n",
    "df2.agg(['nunique','count','size'])"
   ]
  },
  {
   "cell_type": "code",
   "execution_count": 37,
   "metadata": {
    "colab": {},
    "colab_type": "code",
    "id": "ZIocGRiGkcjh"
   },
   "outputs": [],
   "source": [
    "import matplotlib.pyplot as plt\n",
    "#df2['runtimeMinutes'] = df2['runtimeMinutes'].apply(pd.to_numeric, errors='ignore')\n",
    "#df2['runtimeMinutes'] = df2['runtimeMinutes'].fillna(df2['runtimeMinutes'].mean())\n",
    "#df2['startYear'] = df2['startYear'].fillna(method='ffill')\n",
    "#df2['genres'] = df2['genres'].fillna(method='ffill')\n",
    "#print(df2['runtimeMinutes'].min())\n",
    "#print(df2['runtimeMinutes'].max())\n",
    "#plt.plot(df2['runtimeMinutes'])\n",
    "#plt.ylabel('Runtime In Minutes')\n",
    "#plt.show()\n",
    "#df2['runtimeMinutes'].plot(kind='hist')"
   ]
  },
  {
   "cell_type": "code",
   "execution_count": 38,
   "metadata": {
    "colab": {},
    "colab_type": "code",
    "id": "B2PLRCKukcjj"
   },
   "outputs": [],
   "source": [
    "#Use Quantiles to slipt the Averaging ratings so each bin is equally distributed\n",
    "#bin_labels = ['Small', 'Medium', 'Long', 'Very_Long']\n",
    "#df2['runtimeMinutes_q'] = pd.qcut(df2.runtimeMinutes,4,labels=bin_labels)\n",
    "#print(df2['runtimeMinutes_q'])"
   ]
  },
  {
   "cell_type": "code",
   "execution_count": 39,
   "metadata": {
    "colab": {},
    "colab_type": "code",
    "id": "TnjfYMg3kcjj"
   },
   "outputs": [],
   "source": [
    "#Verify Data Now\n",
    "#df2.agg(['nunique','count','size'])"
   ]
  },
  {
   "cell_type": "code",
   "execution_count": 40,
   "metadata": {
    "colab": {},
    "colab_type": "code",
    "id": "Wa8GdoIWkcjk",
    "outputId": "c7aa6786-126e-4671-a614-ea0241db2570"
   },
   "outputs": [
    {
     "name": "stdout",
     "output_type": "stream",
     "text": [
      "<class 'pandas.core.frame.DataFrame'>\n",
      "Int64Index: 709673 entries, 0 to 722008\n",
      "Data columns (total 10 columns):\n",
      "tconst            709673 non-null object\n",
      "titleType         709673 non-null category\n",
      "isAdult           709673 non-null category\n",
      "startYear         709673 non-null int64\n",
      "genres            709673 non-null object\n",
      "numVotes          709673 non-null int64\n",
      "directors         709673 non-null object\n",
      "writers           709673 non-null object\n",
      "aRating_eq_bin    709673 non-null int64\n",
      "averageRating     709673 non-null float64\n",
      "dtypes: category(2), float64(1), int64(3), object(4)\n",
      "memory usage: 50.1+ MB\n"
     ]
    },
    {
     "data": {
      "image/png": "[encoded data removed]",
      "text/plain": [
       "<Figure size 1080x1080 with 2 Axes>"
      ]
     },
     "metadata": {
      "needs_background": "light"
     },
     "output_type": "display_data"
    }
   ],
   "source": [
    "df2.info()\n",
    "import seaborn as sns\n",
    "import matplotlib.pyplot as plt\n",
    "%matplotlib inline\n",
    "plt.figure(figsize=(15,15))\n",
    "\n",
    "\n",
    "plt.subplot(2, 1, 1)\n",
    "df2_titleType = df2['titleType'].value_counts()\n",
    "sns.set(style=\"darkgrid\")\n",
    "sns.barplot(df2_titleType.index, df2_titleType.values, alpha=0.9)\n",
    "plt.title('Frequency Distribution of Tite Type')\n",
    "plt.ylabel('Number of Occurrences', fontsize=12)\n",
    "plt.xlabel('TitleType', fontsize=12)\n",
    "\n",
    "plt.subplot(2, 1, 2)\n",
    "df2_startYear = df2['startYear'].value_counts()\n",
    "sns.set(style=\"darkgrid\")\n",
    "sns.barplot(df2_startYear.index, df2_startYear.values, alpha=0.9)\n",
    "plt.title('Frequency Distribution of Start Year')\n",
    "plt.ylabel('Number of Occurrences', fontsize=12)\n",
    "plt.xlabel('Start Year', fontsize=12)\n",
    "\n",
    "#plt.subplot(3, 1, 3)\n",
    "#df2_runtimeMinutes_q = df2['runtimeMinutes_q'].value_counts()\n",
    "#sns.set(style=\"darkgrid\")\n",
    "#sns.barplot(df2_runtimeMinutes_q.index, df2_runtimeMinutes_q.values, alpha=0.9)\n",
    "#plt.title('Frequency Distribution of Movie Length')\n",
    "#plt.ylabel('Number of Occurrences', fontsize=12)\n",
    "#plt.xlabel('Movie Length', fontsize=12)\n",
    "plt.show()\n"
   ]
  },
  {
   "cell_type": "markdown",
   "metadata": {
    "colab_type": "text",
    "id": "_52-RjD0kcjl"
   },
   "source": [
    "df2['startYear'] = pd.to_numeric(df2['startYear'])\n",
    "#df2.drop(df2.index[df2['startYear']  > 1940], inplace = True)\n",
    "#df2.drop(df2.loc[df2['startYear']  < 2000].index, inplace = True)\n",
    "print(df2.shape)\n",
    "print(df2.info())\n",
    "plt.figure(figsize=(15,15))\n",
    "\n",
    "plt.subplot(2, 1, 1)\n",
    "df2_titleType2 = df2['titleType'].value_counts()\n",
    "sns.set(style=\"darkgrid\")\n",
    "sns.barplot(df2_titleType2.index, df2_titleType2.values, alpha=0.9)\n",
    "plt.title('Frequency Distribution of Tite Type')\n",
    "plt.ylabel('Number of Occurrences', fontsize=12)\n",
    "plt.xlabel('TitleType', fontsize=12)\n",
    "\n",
    "plt.subplot(2, 1, 2)\n",
    "df2_startYear2 = df2['startYear'].value_counts()\n",
    "sns.set(style=\"darkgrid\")\n",
    "sns.barplot(df2_startYear2.index, df2_startYear2.values, alpha=0.9)\n",
    "plt.title('Frequency Distribution of Start Year')\n",
    "plt.ylabel('Number of Occurrences', fontsize=12)\n",
    "plt.xlabel('Start Year', fontsize=12)\n",
    "\n",
    "#plt.subplot(3, 1, 3)\n",
    "#df2_runtimeMinutes_q2 = df2['runtimeMinutes_q'].value_counts()\n",
    "#sns.set(style=\"darkgrid\")\n",
    "#sns.barplot(df2_runtimeMinutes_q2.index, df2_runtimeMinutes_q2.values, alpha=0.9)\n",
    "#plt.title('Frequency Distribution of Movie Length')\n",
    "#plt.ylabel('Number of Occurrences', fontsize=12)\n",
    "#plt.xlabel('Movie Length', fontsize=12)\n",
    "plt.show()"
   ]
  },
  {
   "cell_type": "code",
   "execution_count": 41,
   "metadata": {
    "colab": {},
    "colab_type": "code",
    "id": "c1eBEZcJkcjl"
   },
   "outputs": [],
   "source": [
    "class MultiColumnLabelEncoder:\n",
    "    \n",
    "    def __init__(self, columns = None):\n",
    "        self.columns = columns # list of column to encode\n",
    "    def fit(self, X, y=None):\n",
    "        return self\n",
    "    def transform(self, X):\n",
    "        '''\n",
    "        Transforms columns of X specified in self.columns using\n",
    "        http://localhost:8888/notebooks/Google%20Drive/Colab%20Notebooks/COMPSCIX433.1-002/Assingment-2/%5B1%5D%20COMPSCIX433.1-002%20Data%20Science%20Principles%20and%20Practice%20-%20Assignment%202.ipynb#LabelEncoder(). If no columns specified, transforms all\n",
    "        columns in X.\n",
    "        '''\n",
    "        \n",
    "        output = X.copy()\n",
    "        \n",
    "        if self.columns is not None:\n",
    "            for col in self.columns:\n",
    "                output[col] = LabelEncoder().fit_transform(output[col])\n",
    "        else:\n",
    "            for colname, col in output.iteritems():\n",
    "                output[colname] = LabelEncoder().fit_transform(col)\n",
    "        \n",
    "        return output\n",
    "    def fit_transform(self, X, y=None):\n",
    "        return self.fit(X, y).transform(X)"
   ]
  },
  {
   "cell_type": "code",
   "execution_count": 42,
   "metadata": {
    "colab": {},
    "colab_type": "code",
    "id": "cSBvzXoxkcjm",
    "outputId": "53e2bffa-3180-4288-acd8-0c4d1358ec6c"
   },
   "outputs": [
    {
     "name": "stdout",
     "output_type": "stream",
     "text": [
      "(709673, 10)\n"
     ]
    }
   ],
   "source": [
    "print(df2.shape)"
   ]
  },
  {
   "cell_type": "code",
   "execution_count": 43,
   "metadata": {
    "colab": {},
    "colab_type": "code",
    "id": "HKTSejYGkcjn"
   },
   "outputs": [],
   "source": [
    "import pickle\n",
    "df2.to_pickle('my_df.pickle')"
   ]
  },
  {
   "cell_type": "markdown",
   "metadata": {
    "colab_type": "text",
    "id": "d84YE4nXkcjo"
   },
   "source": [
    "# Load Saved Dataframe from Pickle File"
   ]
  },
  {
   "cell_type": "code",
   "execution_count": 44,
   "metadata": {
    "colab": {},
    "colab_type": "code",
    "id": "vJ3E7II4kcjo",
    "outputId": "dccaf357-c40d-4d64-bb3e-81f050ce0fa2"
   },
   "outputs": [
    {
     "name": "stdout",
     "output_type": "stream",
     "text": [
      "Requirement already satisfied: imblearn in /Applications/anaconda3/lib/python3.7/site-packages (0.0)\n",
      "Requirement already satisfied: imbalanced-learn in /Applications/anaconda3/lib/python3.7/site-packages (from imblearn) (0.5.0)\n",
      "Requirement already satisfied: scikit-learn>=0.21 in /Applications/anaconda3/lib/python3.7/site-packages (from imbalanced-learn->imblearn) (0.21.3)\n",
      "Requirement already satisfied: numpy>=1.11 in /Applications/anaconda3/lib/python3.7/site-packages (from imbalanced-learn->imblearn) (1.17.2)\n",
      "Requirement already satisfied: joblib>=0.11 in /Applications/anaconda3/lib/python3.7/site-packages (from imbalanced-learn->imblearn) (0.13.2)\n",
      "Requirement already satisfied: scipy>=0.17 in /Applications/anaconda3/lib/python3.7/site-packages (from imbalanced-learn->imblearn) (1.3.1)\n"
     ]
    }
   ],
   "source": [
    "import pandas as pd\n",
    "import pickle\n",
    "from sklearn.model_selection import train_test_split\n",
    "!pip install imblearn\n",
    "from imblearn.over_sampling import SMOTE\n",
    "\n",
    "dfTemp = pd.read_pickle('my_df.pickle')"
   ]
  },
  {
   "cell_type": "code",
   "execution_count": 45,
   "metadata": {
    "colab": {},
    "colab_type": "code",
    "id": "3KzMxe6Pkcjp",
    "outputId": "a1e6c7b3-0efd-4419-d541-adb54e4ddcc3"
   },
   "outputs": [
    {
     "data": {
      "text/html": [
       "<div>\n",
       "<style scoped>\n",
       "    .dataframe tbody tr th:only-of-type {\n",
       "        vertical-align: middle;\n",
       "    }\n",
       "\n",
       "    .dataframe tbody tr th {\n",
       "        vertical-align: top;\n",
       "    }\n",
       "\n",
       "    .dataframe thead th {\n",
       "        text-align: right;\n",
       "    }\n",
       "</style>\n",
       "<table border=\"1\" class=\"dataframe\">\n",
       "  <thead>\n",
       "    <tr style=\"text-align: right;\">\n",
       "      <th></th>\n",
       "      <th>tconst</th>\n",
       "      <th>titleType</th>\n",
       "      <th>isAdult</th>\n",
       "      <th>startYear</th>\n",
       "      <th>genres</th>\n",
       "      <th>numVotes</th>\n",
       "      <th>directors</th>\n",
       "      <th>writers</th>\n",
       "      <th>aRating_eq_bin</th>\n",
       "      <th>averageRating</th>\n",
       "    </tr>\n",
       "  </thead>\n",
       "  <tbody>\n",
       "    <tr>\n",
       "      <td>0</td>\n",
       "      <td>tt0000009</td>\n",
       "      <td>movie</td>\n",
       "      <td>0</td>\n",
       "      <td>1894</td>\n",
       "      <td>[Romance]</td>\n",
       "      <td>81</td>\n",
       "      <td>[nm0085156]</td>\n",
       "      <td>[nm0085156]</td>\n",
       "      <td>1</td>\n",
       "      <td>5.4</td>\n",
       "    </tr>\n",
       "    <tr>\n",
       "      <td>1</td>\n",
       "      <td>tt0000036</td>\n",
       "      <td>short</td>\n",
       "      <td>0</td>\n",
       "      <td>1896</td>\n",
       "      <td>[Drama, Short]</td>\n",
       "      <td>450</td>\n",
       "      <td>[nm0005690]</td>\n",
       "      <td>[nm0410331]</td>\n",
       "      <td>1</td>\n",
       "      <td>4.5</td>\n",
       "    </tr>\n",
       "    <tr>\n",
       "      <td>2</td>\n",
       "      <td>tt0000076</td>\n",
       "      <td>short</td>\n",
       "      <td>0</td>\n",
       "      <td>1896</td>\n",
       "      <td>[Drama, Short]</td>\n",
       "      <td>393</td>\n",
       "      <td>[nm0005690]</td>\n",
       "      <td>[nm0410331]</td>\n",
       "      <td>1</td>\n",
       "      <td>4.5</td>\n",
       "    </tr>\n",
       "    <tr>\n",
       "      <td>3</td>\n",
       "      <td>tt0000091</td>\n",
       "      <td>short</td>\n",
       "      <td>0</td>\n",
       "      <td>1896</td>\n",
       "      <td>[Horror, Short]</td>\n",
       "      <td>2495</td>\n",
       "      <td>[nm0617588]</td>\n",
       "      <td>[nm0617588]</td>\n",
       "      <td>2</td>\n",
       "      <td>6.7</td>\n",
       "    </tr>\n",
       "    <tr>\n",
       "      <td>4</td>\n",
       "      <td>tt0000108</td>\n",
       "      <td>short</td>\n",
       "      <td>0</td>\n",
       "      <td>1896</td>\n",
       "      <td>[Drama, Short]</td>\n",
       "      <td>405</td>\n",
       "      <td>[nm0005690]</td>\n",
       "      <td>[nm0410331]</td>\n",
       "      <td>1</td>\n",
       "      <td>4.4</td>\n",
       "    </tr>\n",
       "  </tbody>\n",
       "</table>\n",
       "</div>"
      ],
      "text/plain": [
       "      tconst titleType isAdult  startYear           genres  numVotes  \\\n",
       "0  tt0000009     movie       0       1894        [Romance]        81   \n",
       "1  tt0000036     short       0       1896   [Drama, Short]       450   \n",
       "2  tt0000076     short       0       1896   [Drama, Short]       393   \n",
       "3  tt0000091     short       0       1896  [Horror, Short]      2495   \n",
       "4  tt0000108     short       0       1896   [Drama, Short]       405   \n",
       "\n",
       "     directors      writers  aRating_eq_bin  averageRating  \n",
       "0  [nm0085156]  [nm0085156]               1            5.4  \n",
       "1  [nm0005690]  [nm0410331]               1            4.5  \n",
       "2  [nm0005690]  [nm0410331]               1            4.5  \n",
       "3  [nm0617588]  [nm0617588]               2            6.7  \n",
       "4  [nm0005690]  [nm0410331]               1            4.4  "
      ]
     },
     "execution_count": 45,
     "metadata": {},
     "output_type": "execute_result"
    }
   ],
   "source": [
    "dfTemp.head()"
   ]
  },
  {
   "cell_type": "code",
   "execution_count": 46,
   "metadata": {
    "colab": {},
    "colab_type": "code",
    "id": "Uf6KUAdKkcjq",
    "outputId": "a0e7e9fb-adfa-4926-9fa9-b7d6b418f139"
   },
   "outputs": [
    {
     "name": "stdout",
     "output_type": "stream",
     "text": [
      "       tconst titleType isAdult  startYear     genres  numVotes    directors  \\\n",
      "0   tt2051886     movie       0       2012  [Western]       125  [nm0478713]   \n",
      "1  tt10622840     movie       0       2019  [Western]         8  [nm2483722]   \n",
      "2   tt3125566     movie       0       2013  [Western]        25  [nm5409660]   \n",
      "3   tt0066287     movie       0       1970  [Western]        23  [nm0951373]   \n",
      "4   tt0065968     movie       0       1971  [Western]       137  [nm0816807]   \n",
      "\n",
      "                  writers  aRating_eq_bin  averageRating  \n",
      "0             [nm0478713]               0            2.8  \n",
      "1             [nm2483722]               0            2.4  \n",
      "2             [nm2753792]               0            1.9  \n",
      "3             [nm0951373]               0            3.2  \n",
      "4  [nm0754575, nm1343321]               0            3.1  \n",
      "(30000, 10)\n"
     ]
    }
   ],
   "source": [
    "dfTemp1 = dfTemp.groupby([\"aRating_eq_bin\"]).apply(lambda x: x.sort_values([\"genres\"], ascending = False)).reset_index(drop=True)\n",
    "# select top N rows within each continent\n",
    "df2pk = dfTemp1.groupby(\"aRating_eq_bin\").head(10000)\n",
    "print(df2pk.head())\n",
    "print(df2pk.shape)"
   ]
  },
  {
   "cell_type": "code",
   "execution_count": 47,
   "metadata": {
    "colab": {},
    "colab_type": "code",
    "id": "VemvSRZakcjr",
    "scrolled": true
   },
   "outputs": [],
   "source": [
    "from sklearn.preprocessing import MultiLabelBinarizer\n",
    "\n",
    "mlb = MultiLabelBinarizer()\n",
    "\n",
    "df2pk = df2pk.join(pd.DataFrame(mlb.fit_transform(df2pk.pop('genres')),\n",
    "                          columns=mlb.classes_,\n",
    "                          index=df2pk.index))\n",
    "#df2pkN = df2pkN.join(pd.DataFrame(mlb.fit_transform(df2pkN.pop('genres')),\n",
    "#                          columns=mlb.classes_,\n",
    "#                          index=df2pkN.index))"
   ]
  },
  {
   "cell_type": "code",
   "execution_count": 48,
   "metadata": {
    "colab": {},
    "colab_type": "code",
    "id": "6PJfF0N8kcjs",
    "outputId": "0f11b1a5-393f-49c0-cff3-7babb3d0e8b8"
   },
   "outputs": [
    {
     "name": "stdout",
     "output_type": "stream",
     "text": [
      "(30000, 32)\n",
      "(3000, 32)\n",
      "      tconst  titleType isAdult  startYear  numVotes    directors  \\\n",
      "0  tt0902281      movie       0       2008       349  [nm0389972]   \n",
      "1  tt5936796  tvEpisode       0       2016        26  [nm1680829]   \n",
      "2  tt0529778  tvEpisode       0       1962        53  [nm0568228]   \n",
      "3  tt0594059  tvEpisode       0       1964       107  [nm0364749]   \n",
      "4  tt0754307  tvEpisode       0       1959        13  [nm0257638]   \n",
      "\n",
      "                                             writers  aRating_eq_bin  \\\n",
      "0                                        [nm2308414]               1   \n",
      "1                                        [nm1680829]               2   \n",
      "2  [nm0165899, nm0939942, nm0715554, nm0234228, n...               1   \n",
      "3       [nm0386928, nm0531990, nm0582307, nm0912766]               2   \n",
      "4                             [nm0344246, nm0480681]               2   \n",
      "\n",
      "   averageRating  Comedy  ...  News  Reality-TV  Romance  Sci-Fi  Short  \\\n",
      "0            5.0       0  ...     0           0        0       0      0   \n",
      "1            8.1       0  ...     0           0        0       0      0   \n",
      "2            6.3       0  ...     0           0        0       0      0   \n",
      "3            8.1       0  ...     0           0        0       0      0   \n",
      "4            8.3       0  ...     0           0        0       0      0   \n",
      "\n",
      "   Sport  Talk-Show  Thriller  War  Western  \n",
      "0      0          0         1    0        0  \n",
      "1      0          0         1    0        0  \n",
      "2      0          0         0    0        1  \n",
      "3      0          0         0    0        1  \n",
      "4      0          0         0    0        1  \n",
      "\n",
      "[5 rows x 32 columns]\n"
     ]
    }
   ],
   "source": [
    "#Due to memory limitation, I am slicing the dtaframe to 20% of the data.\n",
    "from sklearn.utils import shuffle\n",
    "df2pk = shuffle(df2pk)\n",
    "df3 = df2pk.sample(frac=0.10).reset_index(drop=True)\n",
    "print(df2pk.shape)\n",
    "print(df3.shape)\n",
    "print(df3.head())"
   ]
  },
  {
   "cell_type": "code",
   "execution_count": 49,
   "metadata": {
    "colab": {},
    "colab_type": "code",
    "id": "Rt2N3O8mkcjt",
    "outputId": "ab02c3e6-b535-41f4-9402-06833eeed2e9"
   },
   "outputs": [
    {
     "name": "stdout",
     "output_type": "stream",
     "text": [
      "<class 'pandas.core.frame.DataFrame'>\n",
      "RangeIndex: 3000 entries, 0 to 2999\n",
      "Data columns (total 25 columns):\n",
      "titleType      3000 non-null category\n",
      "isAdult        3000 non-null category\n",
      "Comedy         3000 non-null int64\n",
      "Crime          3000 non-null int64\n",
      "Documentary    3000 non-null int64\n",
      "Drama          3000 non-null int64\n",
      "Family         3000 non-null int64\n",
      "Fantasy        3000 non-null int64\n",
      "Film-Noir      3000 non-null int64\n",
      "Game-Show      3000 non-null int64\n",
      "History        3000 non-null int64\n",
      "Horror         3000 non-null int64\n",
      "Music          3000 non-null int64\n",
      "Musical        3000 non-null int64\n",
      "Mystery        3000 non-null int64\n",
      "News           3000 non-null int64\n",
      "Reality-TV     3000 non-null int64\n",
      "Romance        3000 non-null int64\n",
      "Sci-Fi         3000 non-null int64\n",
      "Short          3000 non-null int64\n",
      "Sport          3000 non-null int64\n",
      "Talk-Show      3000 non-null int64\n",
      "Thriller       3000 non-null int64\n",
      "War            3000 non-null int64\n",
      "Western        3000 non-null int64\n",
      "dtypes: category(2), int64(23)\n",
      "memory usage: 545.5 KB\n",
      "None\n",
      "0    1\n",
      "1    2\n",
      "2    1\n",
      "3    2\n",
      "4    2\n",
      "Name: aRating_eq_bin, dtype: int64\n"
     ]
    }
   ],
   "source": [
    "import hashlib\n",
    "X = df3.drop(columns=['startYear', 'tconst','aRating_eq_bin','writers', 'directors', 'numVotes', 'averageRating'])\n",
    "y = df3['aRating_eq_bin'].copy()\n",
    "\n",
    "#X_train = df2pkN.drop(columns=['numVotes', 'startYear', 'tconst','aRating_eq_bin','writers', 'directors', 'averageRating'])\n",
    "#y_train = df2pkN['aRating_eq_bin'].copy()\n",
    "\n",
    "\n",
    "print(X.info())\n",
    "print(y.head())\n",
    "\n",
    "#X_test, X_val, y_test, y_val = train_test_split(\n",
    "#    X, y, test_size=0.5)\n",
    "\n",
    "\n",
    "ratio_train = 0.8\n",
    "ratio_val = 0.1\n",
    "ratio_test = 0.1\n",
    "\n",
    "# Produces test split.\n",
    "x_remaining, X_test, y_remaining, y_test = train_test_split(\n",
    "    X, y, test_size=ratio_test)\n",
    "\n",
    "# Adjusts val ratio, w.r.t. remaining dataset.\n",
    "ratio_remaining = 1 - ratio_test\n",
    "ratio_val_adjusted = ratio_val / ratio_remaining\n",
    "\n",
    "# Produces train and val splits.\n",
    "X_train, X_val, y_train, y_val = train_test_split(\n",
    "    x_remaining, y_remaining, test_size=ratio_val_adjusted)"
   ]
  },
  {
   "cell_type": "code",
   "execution_count": 50,
   "metadata": {
    "colab": {},
    "colab_type": "code",
    "id": "qNn5_sgjkcjv",
    "outputId": "4bc7da4f-d6af-46b8-9c1c-5a4185ca6fad"
   },
   "outputs": [
    {
     "data": {
      "text/plain": [
       "Index(['titleType', 'isAdult', 'Comedy', 'Crime', 'Documentary', 'Drama',\n",
       "       'Family', 'Fantasy', 'Film-Noir', 'Game-Show', 'History', 'Horror',\n",
       "       'Music', 'Musical', 'Mystery', 'News', 'Reality-TV', 'Romance',\n",
       "       'Sci-Fi', 'Short', 'Sport', 'Talk-Show', 'Thriller', 'War', 'Western'],\n",
       "      dtype='object')"
      ]
     },
     "execution_count": 50,
     "metadata": {},
     "output_type": "execute_result"
    }
   ],
   "source": [
    "X_train.columns"
   ]
  },
  {
   "cell_type": "code",
   "execution_count": 51,
   "metadata": {
    "colab": {},
    "colab_type": "code",
    "id": "yIu6SeTNkcjw",
    "outputId": "07979d9a-010d-4608-c89f-da5b540bb58c"
   },
   "outputs": [
    {
     "data": {
      "text/plain": [
       "Index(['titleType', 'isAdult', 'Comedy', 'Crime', 'Documentary', 'Drama',\n",
       "       'Family', 'Fantasy', 'Film-Noir', 'Game-Show', 'History', 'Horror',\n",
       "       'Music', 'Musical', 'Mystery', 'News', 'Reality-TV', 'Romance',\n",
       "       'Sci-Fi', 'Short', 'Sport', 'Talk-Show', 'Thriller', 'War', 'Western'],\n",
       "      dtype='object')"
      ]
     },
     "execution_count": 51,
     "metadata": {},
     "output_type": "execute_result"
    }
   ],
   "source": [
    "X_test.columns"
   ]
  },
  {
   "cell_type": "markdown",
   "metadata": {
    "colab_type": "text",
    "id": "WmGNPW8Xkcjy"
   },
   "source": [
    "from sklearn.preprocessing import LabelEncoder\n",
    "le = MultiColumnLabelEncoder()\n",
    "X_train_le = le.fit_transform(X_train)\n",
    "X_test_le = le.fit_transform(X_test)\n",
    "X_train_le.head()"
   ]
  },
  {
   "cell_type": "code",
   "execution_count": 52,
   "metadata": {
    "colab": {},
    "colab_type": "code",
    "id": "MGqUAcl9kcjy",
    "outputId": "2ad0f634-d6cb-40be-bc95-b95db2d82f14"
   },
   "outputs": [
    {
     "name": "stdout",
     "output_type": "stream",
     "text": [
      "categories:  OneHotEncoder(categorical_features=None, categories=None, drop=None,\n",
      "              dtype=<class 'numpy.float64'>, handle_unknown='ignore',\n",
      "              n_values=None, sparse=True)\n"
     ]
    },
    {
     "data": {
      "text/plain": [
       "<2400x57 sparse matrix of type '<class 'numpy.float64'>'\n",
       "\twith 60000 stored elements in Compressed Sparse Row format>"
      ]
     },
     "execution_count": 52,
     "metadata": {},
     "output_type": "execute_result"
    }
   ],
   "source": [
    "from sklearn.preprocessing import OneHotEncoder\n",
    "ohe = OneHotEncoder(sparse=True, handle_unknown='ignore')\n",
    "print(\"categories: \" , ohe)\n",
    "X_train_ohe = ohe.fit_transform(X_train)\n",
    "X_train_ohe"
   ]
  },
  {
   "cell_type": "code",
   "execution_count": 53,
   "metadata": {
    "colab": {},
    "colab_type": "code",
    "id": "a-E2oQRfkcjz"
   },
   "outputs": [],
   "source": [
    "#smote = SMOTE('minority')\n",
    "#X_sm, y_sm = smote.fit_sample(X_train_ohe, y_train)"
   ]
  },
  {
   "cell_type": "code",
   "execution_count": 54,
   "metadata": {
    "colab": {},
    "colab_type": "code",
    "id": "jFYzrSkXkcj0",
    "outputId": "a9fd2856-7194-46f1-a1fa-00b1d5751dca"
   },
   "outputs": [
    {
     "data": {
      "text/plain": [
       "(2400, 57)"
      ]
     },
     "execution_count": 54,
     "metadata": {},
     "output_type": "execute_result"
    }
   ],
   "source": [
    "X_train_ohe.shape"
   ]
  },
  {
   "cell_type": "code",
   "execution_count": 55,
   "metadata": {
    "colab": {},
    "colab_type": "code",
    "id": "uWkrfVvEkcj1"
   },
   "outputs": [],
   "source": [
    "#X_sm.shape"
   ]
  },
  {
   "cell_type": "code",
   "execution_count": 56,
   "metadata": {
    "colab": {},
    "colab_type": "code",
    "id": "qnZ3JWc9kcj2",
    "outputId": "da23ee67-fcd6-43e3-a44b-f56df0b57407"
   },
   "outputs": [
    {
     "name": "stdout",
     "output_type": "stream",
     "text": [
      "  (0, 1)\t1.0\n",
      "  (0, 10)\t1.0\n",
      "  (0, 12)\t1.0\n",
      "  (0, 14)\t1.0\n",
      "  (0, 16)\t1.0\n",
      "  (0, 18)\t1.0\n",
      "  (0, 20)\t1.0\n",
      "  (0, 22)\t1.0\n",
      "  (0, 24)\t1.0\n",
      "  (0, 25)\t1.0\n",
      "  (0, 27)\t1.0\n",
      "  (0, 29)\t1.0\n",
      "  (0, 31)\t1.0\n",
      "  (0, 33)\t1.0\n",
      "  (0, 35)\t1.0\n",
      "  (0, 37)\t1.0\n",
      "  (0, 39)\t1.0\n",
      "  (0, 41)\t1.0\n",
      "  (0, 43)\t1.0\n",
      "  (0, 46)\t1.0\n",
      "  (0, 47)\t1.0\n",
      "  (0, 49)\t1.0\n",
      "  (0, 51)\t1.0\n",
      "  (0, 53)\t1.0\n",
      "  (0, 55)\t1.0\n",
      "  :\t:\n",
      "  (299, 0)\t1.0\n",
      "  (299, 10)\t1.0\n",
      "  (299, 12)\t1.0\n",
      "  (299, 14)\t1.0\n",
      "  (299, 16)\t1.0\n",
      "  (299, 18)\t1.0\n",
      "  (299, 20)\t1.0\n",
      "  (299, 22)\t1.0\n",
      "  (299, 24)\t1.0\n",
      "  (299, 25)\t1.0\n",
      "  (299, 27)\t1.0\n",
      "  (299, 29)\t1.0\n",
      "  (299, 31)\t1.0\n",
      "  (299, 33)\t1.0\n",
      "  (299, 35)\t1.0\n",
      "  (299, 37)\t1.0\n",
      "  (299, 39)\t1.0\n",
      "  (299, 41)\t1.0\n",
      "  (299, 43)\t1.0\n",
      "  (299, 45)\t1.0\n",
      "  (299, 47)\t1.0\n",
      "  (299, 49)\t1.0\n",
      "  (299, 51)\t1.0\n",
      "  (299, 53)\t1.0\n",
      "  (299, 56)\t1.0\n"
     ]
    }
   ],
   "source": [
    "X_test_ohe = ohe.transform(X_test)\n",
    "print(X_test_ohe)"
   ]
  },
  {
   "cell_type": "code",
   "execution_count": 57,
   "metadata": {
    "colab": {},
    "colab_type": "code",
    "id": "n9MeCaxYkcj3",
    "outputId": "2956cf74-339c-429c-f0d3-fde99575e8f5"
   },
   "outputs": [
    {
     "data": {
      "text/plain": [
       "(300, 57)"
      ]
     },
     "execution_count": 57,
     "metadata": {},
     "output_type": "execute_result"
    }
   ],
   "source": [
    "X_test_ohe.shape"
   ]
  },
  {
   "cell_type": "code",
   "execution_count": 58,
   "metadata": {
    "colab": {},
    "colab_type": "code",
    "id": "j2xSKLtBkcj4",
    "outputId": "693f47c9-adb6-413c-eeff-06dd5a955835"
   },
   "outputs": [
    {
     "data": {
      "text/plain": [
       "<300x57 sparse matrix of type '<class 'numpy.float64'>'\n",
       "\twith 7500 stored elements in Compressed Sparse Row format>"
      ]
     },
     "execution_count": 58,
     "metadata": {},
     "output_type": "execute_result"
    }
   ],
   "source": [
    "X_val_ohe = ohe.transform(X_val)\n",
    "X_val_ohe"
   ]
  },
  {
   "cell_type": "code",
   "execution_count": 59,
   "metadata": {
    "colab": {},
    "colab_type": "code",
    "id": "ySxmYvHAkcj6"
   },
   "outputs": [],
   "source": [
    "from sklearn.metrics import confusion_matrix\n",
    "def execute_model(names,classifiers):\n",
    "    i = 1\n",
    "    # iterate over datasets\n",
    "    results = {}\n",
    "    class_weights = class_weight.compute_class_weight('balanced',np.unique(y_train), y_train)\n",
    "    # preprocess dataset, split into training and test part\n",
    "    # X_test_ohe\n",
    "    # X_train_ohe\n",
    "    # y_train\n",
    "    # y_test\n",
    "    # iterate over classifiers\n",
    "    for name, clf in zip(names, classifiers):\n",
    "        import time        \n",
    "        cur_time = time.time()\n",
    "        clf.fit(X_train_ohe, y_train)\n",
    "        #clf.fit(X_train_ohe, y_train, sample_weight = class_weights)\n",
    "        training_time = time.time() - cur_time\n",
    "\n",
    "        cur_time = time.time()\n",
    "        score = clf.score(X_test_ohe, y_test)\n",
    "        testing_time = time.time() - cur_time\n",
    "        \n",
    "        cur_time = time.time()\n",
    "        train_accuracy = clf.score(X_train_ohe, y_train)\n",
    "        scoring = ['precision_macro', 'recall_macro']\n",
    "        scores = cross_validate(clf, X_val_ohe, y_val, scoring = scoring, cv=2)\n",
    "        sorted(scores.keys())\n",
    "        score_time = time.time() - cur_time\n",
    "        print(name)\n",
    "        print(scores)\n",
    "        #print(\"Cross Validation Accuracy: %0.2f (+/- %0.2f)\" % (scores.mean(), scores.std() * 2))\n",
    "        results[name] = [training_time, testing_time, score_time, train_accuracy, score]\n",
    "        i += 1\n",
    "        print('executing: ' + name)\n",
    "        dfk = pd.DataFrame.from_dict(\n",
    "            results, orient='index',\n",
    "            columns=['Train Time', 'Test Time', 'Cross validation Time','Train Acc', 'Test Acc'])\n",
    "    display(dfk)"
   ]
  },
  {
   "cell_type": "code",
   "execution_count": 60,
   "metadata": {
    "colab": {},
    "colab_type": "code",
    "id": "npEKjbcFkcj7"
   },
   "outputs": [],
   "source": [
    "import numpy as np\n",
    "import matplotlib.pyplot as plt\n",
    "from matplotlib.colors import ListedColormap\n",
    "from sklearn.model_selection import train_test_split\n",
    "from sklearn.preprocessing import StandardScaler\n",
    "from sklearn.datasets import fetch_20newsgroups_vectorized \n",
    "from sklearn.neural_network import MLPClassifier\n",
    "from sklearn.neighbors import KNeighborsClassifier\n",
    "from sklearn.svm import LinearSVC, SVC\n",
    "from sklearn.gaussian_process import GaussianProcessClassifier\n",
    "from sklearn.gaussian_process.kernels import RBF\n",
    "from sklearn.tree import DecisionTreeClassifier\n",
    "from sklearn.ensemble import RandomForestClassifier, AdaBoostClassifier\n",
    "from sklearn.naive_bayes import GaussianNB\n",
    "from sklearn.discriminant_analysis import QuadraticDiscriminantAnalysis\n",
    "import pandas as pd\n",
    "from sklearn.model_selection import cross_validate\n",
    "from sklearn.metrics import recall_score\n",
    "from sklearn.utils import class_weight\n",
    "h = .02  # step size in the mesh"
   ]
  },
  {
   "cell_type": "code",
   "execution_count": 61,
   "metadata": {
    "colab": {},
    "colab_type": "code",
    "id": "MVnC2eiWkcj8"
   },
   "outputs": [],
   "source": [
    "namesAll = [\"RBF SVM\", \n",
    "            \"Linear SVM\", \n",
    "            \"Decision Tree\", \n",
    "            \"Random Forest\", \n",
    "            \"Neural Net\", \n",
    "            \"AdaBoost\",\n",
    "            \"Nearest Neighbors\"]\n",
    "\n",
    "classifiersAll = [\n",
    "    SVC(gamma=1, C=2),\n",
    "    SVC(kernel=\"linear\", C=0.025),\n",
    "    DecisionTreeClassifier(max_depth=5),\n",
    "    RandomForestClassifier(max_depth=5, n_estimators=10, max_features=1),\n",
    "    MLPClassifier(alpha=1, max_iter=1000),\n",
    "    AdaBoostClassifier(),\n",
    "    KNeighborsClassifier(3)]"
   ]
  },
  {
   "cell_type": "markdown",
   "metadata": {
    "colab_type": "text",
    "id": "nkoQU93Wkcj8"
   },
   "source": [
    "#QuadraticDiscriminantAnalysis - This one Takes too long to execute and results very low Accuracy so Droppoing it off my list.\n",
    "names = [\"QDA\"]\n",
    "classifiers = [QuadraticDiscriminantAnalysis()]\n",
    "execute_model(names,classifiers)"
   ]
  },
  {
   "cell_type": "markdown",
   "metadata": {
    "colab_type": "text",
    "id": "GqFmf5yokcj9"
   },
   "source": [
    "#Naive Bayes - This one Takes too long to execute and results very low Accuracy so Droppoing it off my list.\n",
    "names = [\"Naive Bayes\"]\n",
    "classifiers = [GaussianNB()]\n",
    "execute_model(names,classifiers)"
   ]
  },
  {
   "cell_type": "markdown",
   "metadata": {
    "colab_type": "text",
    "id": "k3BOmlzTkcj9"
   },
   "source": [
    "#AdaBoostClassifier\n",
    "names = [\"AdaBoost\"]\n",
    "classifiers = [AdaBoostClassifier()]\n",
    "execute_model(names,classifiers)"
   ]
  },
  {
   "cell_type": "markdown",
   "metadata": {
    "colab_type": "text",
    "id": "VncNTctokcj9"
   },
   "source": [
    "#Neural Net\n",
    "names = [\"Neural Net\"]\n",
    "classifiers = [MLPClassifier(alpha=1, max_iter=1000)]\n",
    "execute_model(names,classifiers)"
   ]
  },
  {
   "cell_type": "markdown",
   "metadata": {
    "colab_type": "text",
    "id": "xhmMdNrGkcj9"
   },
   "source": [
    "#Random Forest\n",
    "names = [\"Random Forest\"]\n",
    "classifiers = [RandomForestClassifier(max_depth=15, n_estimators=25, max_features=78)]\n",
    "execute_model(names,classifiers)"
   ]
  },
  {
   "cell_type": "markdown",
   "metadata": {
    "colab_type": "text",
    "id": "7JZjLlD1kcj-"
   },
   "source": [
    "#Decision Tree\n",
    "names = [\"Decision Tree\"]\n",
    "classifiers = [DecisionTreeClassifier(max_depth=4)]\n",
    "execute_model(names,classifiers)"
   ]
  },
  {
   "cell_type": "markdown",
   "metadata": {
    "colab_type": "text",
    "id": "Pi92-zePkcj-"
   },
   "source": [
    "#Gaussian Process\n",
    "names = [\"Gaussian Process\"]\n",
    "classifiers = [GaussianProcessClassifier(1.0 * RBF(1.0))]\n",
    "execute_model(names,classifiers)"
   ]
  },
  {
   "cell_type": "code",
   "execution_count": 62,
   "metadata": {
    "colab": {},
    "colab_type": "code",
    "id": "NVGbHQj_kcj-",
    "outputId": "a68cdcac-b7a8-4fd0-b970-24abbba64699"
   },
   "outputs": [
    {
     "name": "stdout",
     "output_type": "stream",
     "text": [
      "XGBClassifier\n",
      "{'fit_time': array([0.17028666, 0.16216302]), 'score_time': array([0.00548625, 0.00536013]), 'test_precision_macro': array([0.7786141 , 0.66542257]), 'test_recall_macro': array([0.65956072, 0.65175209])}\n",
      "executing: XGBClassifier\n"
     ]
    },
    {
     "data": {
      "text/html": [
       "<div>\n",
       "<style scoped>\n",
       "    .dataframe tbody tr th:only-of-type {\n",
       "        vertical-align: middle;\n",
       "    }\n",
       "\n",
       "    .dataframe tbody tr th {\n",
       "        vertical-align: top;\n",
       "    }\n",
       "\n",
       "    .dataframe thead th {\n",
       "        text-align: right;\n",
       "    }\n",
       "</style>\n",
       "<table border=\"1\" class=\"dataframe\">\n",
       "  <thead>\n",
       "    <tr style=\"text-align: right;\">\n",
       "      <th></th>\n",
       "      <th>Train Time</th>\n",
       "      <th>Test Time</th>\n",
       "      <th>Cross validation Time</th>\n",
       "      <th>Train Acc</th>\n",
       "      <th>Test Acc</th>\n",
       "    </tr>\n",
       "  </thead>\n",
       "  <tbody>\n",
       "    <tr>\n",
       "      <td>XGBClassifier</td>\n",
       "      <td>2.926286</td>\n",
       "      <td>0.00648</td>\n",
       "      <td>0.372671</td>\n",
       "      <td>0.855</td>\n",
       "      <td>0.84</td>\n",
       "    </tr>\n",
       "  </tbody>\n",
       "</table>\n",
       "</div>"
      ],
      "text/plain": [
       "               Train Time  Test Time  Cross validation Time  Train Acc  \\\n",
       "XGBClassifier    2.926286    0.00648               0.372671      0.855   \n",
       "\n",
       "               Test Acc  \n",
       "XGBClassifier      0.84  "
      ]
     },
     "metadata": {},
     "output_type": "display_data"
    }
   ],
   "source": [
    "import random\n",
    "#XGBClassifier\n",
    "#https://www.kaggle.com/stuarthallows/using-xgboost-with-scikit-learn\n",
    "from xgboost import XGBClassifier as xgb\n",
    "names = [\"XGBClassifier\"]\n",
    "xgb_params = {'learning_rate': 0.25, \n",
    "              'max_depth': 15,\n",
    "              'subsample': 0.5,        \n",
    "              'colsample_bytree': 0.9,\n",
    "              'objective': 'multi:softprob',\n",
    "              'silent': 1, \n",
    "              'n_estimators':190, \n",
    "              'gamma':6,         \n",
    "              'min_child_weight':8}   \n",
    "\n",
    "params = {\n",
    "    \"colsample_bytree\": random.uniform(0.7, 0.3),\n",
    "    \"gamma\": random.uniform(0, 0.5),\n",
    "    \"learning_rate\": random.uniform(0.03, 0.3), # default 0.1 \n",
    "    \"max_depth\": random.randint(2, 9), # default 3\n",
    "    \"n_estimators\": random.randint(75, 150), # default 100\n",
    "    \"subsample\": random.uniform(0.6, 0.4)\n",
    "}\n",
    "\n",
    "classifiers = [xgb(**xgb_params, seed = 10)]\n",
    "execute_model(names,classifiers)"
   ]
  },
  {
   "cell_type": "markdown",
   "metadata": {
    "colab_type": "text",
    "id": "rpQW1eGJkcj_"
   },
   "source": [
    "#XGBClassifier\n",
    "#https://www.kaggle.com/stuarthallows/using-xgboost-with-scikit-learn\n",
    "from xgboost import XGBClassifier as xgb\n",
    "def xgb_model(train_data, train_label, test_data, test_label):\n",
    "    clf = xgb(max_depth=7,\n",
    "                           min_child_weight=1,\n",
    "                           learning_rate=0.1,\n",
    "                           n_estimators=500,\n",
    "                           silent=True,\n",
    "                           objective='binary:logistic',\n",
    "                           gamma=0,\n",
    "                           max_delta_step=0,\n",
    "                           subsample=1,\n",
    "                           colsample_bytree=1,\n",
    "                           colsample_bylevel=1,\n",
    "                           reg_alpha=0,\n",
    "                           reg_lambda=0,\n",
    "                           scale_pos_weight=1,\n",
    "                           seed=1,\n",
    "                           missing=None)\n",
    "    clf.fit(train_data, train_label, eval_metric='auc', verbose=True,\n",
    "            eval_set=[(test_data, test_label)], early_stopping_rounds=100)\n",
    "    y_pre = clf.predict(test_data)\n",
    "    y_pro = clf.predict_proba(test_data)[:, 1]\n",
    "    print(\"AUC Score : %f\" % metrics.roc_auc_score(test_label, y_pro))\n",
    "    print(\"Accuracy : %.4g\" % metrics.accuracy_score(test_label, y_pre))\n",
    "    return clf \n",
    "\n",
    "xgb_model(X_train_ohe, y_train, X_test_ohe, y_test)"
   ]
  },
  {
   "cell_type": "code",
   "execution_count": 63,
   "metadata": {
    "colab": {},
    "colab_type": "code",
    "id": "J06MNWxskcj_",
    "outputId": "66ba5d0a-ff3d-458e-b5ed-cad41a3a9c85"
   },
   "outputs": [
    {
     "name": "stdout",
     "output_type": "stream",
     "text": [
      "RBF SVM\n",
      "{'fit_time': array([0.00275207, 0.00229597]), 'score_time': array([0.00379586, 0.00381494]), 'test_precision_macro': array([0.83734183, 0.77101415]), 'test_recall_macro': array([0.83588501, 0.78132567])}\n",
      "executing: RBF SVM\n",
      "Linear SVM\n",
      "{'fit_time': array([0.00409007, 0.00401425]), 'score_time': array([0.00507188, 0.00525784]), 'test_precision_macro': array([0.81024066, 0.74357405]), 'test_recall_macro': array([0.69079457, 0.64450498])}\n",
      "executing: Linear SVM\n",
      "Decision Tree\n",
      "{'fit_time': array([0.0012691 , 0.00123024]), 'score_time': array([0.00205207, 0.00201488]), 'test_precision_macro': array([0.84188034, 0.8028481 ]), 'test_recall_macro': array([0.79134367, 0.74456887])}\n",
      "executing: Decision Tree\n",
      "Random Forest\n",
      "{'fit_time': array([0.01338172, 0.01292324]), 'score_time': array([0.00406814, 0.00403357]), 'test_precision_macro': array([0.73723973, 0.81141081]), 'test_recall_macro': array([0.68349483, 0.77165725])}\n",
      "executing: Random Forest\n",
      "Neural Net\n",
      "{'fit_time': array([1.13999414, 1.13221407]), 'score_time': array([0.0043788 , 0.00382328]), 'test_precision_macro': array([0.83169935, 0.79842415]), 'test_recall_macro': array([0.80962532, 0.77942561])}\n",
      "executing: Neural Net\n",
      "AdaBoost\n",
      "{'fit_time': array([0.08414197, 0.0811739 ]), 'score_time': array([0.0290761 , 0.02797604]), 'test_precision_macro': array([0.79453263, 0.78430049]), 'test_recall_macro': array([0.76495478, 0.75828962])}\n",
      "executing: AdaBoost\n",
      "Nearest Neighbors\n",
      "{'fit_time': array([0.00115204, 0.00100923]), 'score_time': array([0.01461792, 0.01464295]), 'test_precision_macro': array([0.83423423, 0.81336443]), 'test_recall_macro': array([0.7869509 , 0.77981235])}\n",
      "executing: Nearest Neighbors\n"
     ]
    },
    {
     "data": {
      "text/html": [
       "<div>\n",
       "<style scoped>\n",
       "    .dataframe tbody tr th:only-of-type {\n",
       "        vertical-align: middle;\n",
       "    }\n",
       "\n",
       "    .dataframe tbody tr th {\n",
       "        vertical-align: top;\n",
       "    }\n",
       "\n",
       "    .dataframe thead th {\n",
       "        text-align: right;\n",
       "    }\n",
       "</style>\n",
       "<table border=\"1\" class=\"dataframe\">\n",
       "  <thead>\n",
       "    <tr style=\"text-align: right;\">\n",
       "      <th></th>\n",
       "      <th>Train Time</th>\n",
       "      <th>Test Time</th>\n",
       "      <th>Cross validation Time</th>\n",
       "      <th>Train Acc</th>\n",
       "      <th>Test Acc</th>\n",
       "    </tr>\n",
       "  </thead>\n",
       "  <tbody>\n",
       "    <tr>\n",
       "      <td>RBF SVM</td>\n",
       "      <td>0.148382</td>\n",
       "      <td>0.021493</td>\n",
       "      <td>0.174132</td>\n",
       "      <td>0.867917</td>\n",
       "      <td>0.860000</td>\n",
       "    </tr>\n",
       "    <tr>\n",
       "      <td>Linear SVM</td>\n",
       "      <td>0.194168</td>\n",
       "      <td>0.024140</td>\n",
       "      <td>0.207774</td>\n",
       "      <td>0.827083</td>\n",
       "      <td>0.800000</td>\n",
       "    </tr>\n",
       "    <tr>\n",
       "      <td>Decision Tree</td>\n",
       "      <td>0.011138</td>\n",
       "      <td>0.000629</td>\n",
       "      <td>0.008905</td>\n",
       "      <td>0.799583</td>\n",
       "      <td>0.750000</td>\n",
       "    </tr>\n",
       "    <tr>\n",
       "      <td>Random Forest</td>\n",
       "      <td>0.018276</td>\n",
       "      <td>0.001949</td>\n",
       "      <td>0.040395</td>\n",
       "      <td>0.821667</td>\n",
       "      <td>0.780000</td>\n",
       "    </tr>\n",
       "    <tr>\n",
       "      <td>Neural Net</td>\n",
       "      <td>2.624038</td>\n",
       "      <td>0.001763</td>\n",
       "      <td>2.290966</td>\n",
       "      <td>0.860000</td>\n",
       "      <td>0.846667</td>\n",
       "    </tr>\n",
       "    <tr>\n",
       "      <td>AdaBoost</td>\n",
       "      <td>0.166597</td>\n",
       "      <td>0.014282</td>\n",
       "      <td>0.259847</td>\n",
       "      <td>0.837500</td>\n",
       "      <td>0.820000</td>\n",
       "    </tr>\n",
       "    <tr>\n",
       "      <td>Nearest Neighbors</td>\n",
       "      <td>0.001863</td>\n",
       "      <td>0.073227</td>\n",
       "      <td>0.515022</td>\n",
       "      <td>0.797083</td>\n",
       "      <td>0.786667</td>\n",
       "    </tr>\n",
       "  </tbody>\n",
       "</table>\n",
       "</div>"
      ],
      "text/plain": [
       "                   Train Time  Test Time  Cross validation Time  Train Acc  \\\n",
       "RBF SVM              0.148382   0.021493               0.174132   0.867917   \n",
       "Linear SVM           0.194168   0.024140               0.207774   0.827083   \n",
       "Decision Tree        0.011138   0.000629               0.008905   0.799583   \n",
       "Random Forest        0.018276   0.001949               0.040395   0.821667   \n",
       "Neural Net           2.624038   0.001763               2.290966   0.860000   \n",
       "AdaBoost             0.166597   0.014282               0.259847   0.837500   \n",
       "Nearest Neighbors    0.001863   0.073227               0.515022   0.797083   \n",
       "\n",
       "                   Test Acc  \n",
       "RBF SVM            0.860000  \n",
       "Linear SVM         0.800000  \n",
       "Decision Tree      0.750000  \n",
       "Random Forest      0.780000  \n",
       "Neural Net         0.846667  \n",
       "AdaBoost           0.820000  \n",
       "Nearest Neighbors  0.786667  "
      ]
     },
     "metadata": {},
     "output_type": "display_data"
    }
   ],
   "source": [
    "#Executed Multiple models together.\n",
    "execute_model(namesAll,classifiersAll)"
   ]
  }
 ],
 "metadata": {
  "colab": {
   "name": "[1] COMPSCIX433.1-002 Data Science Principles and Practice - Assignment 2-V2.ipynb",
   "provenance": []
  },
  "kernelspec": {
   "display_name": "Python 3",
   "language": "python",
   "name": "python3"
  },
  "language_info": {
   "codemirror_mode": {
    "name": "ipython",
    "version": 3
   },
   "file_extension": ".py",
   "mimetype": "text/x-python",
   "name": "python",
   "nbconvert_exporter": "python",
   "pygments_lexer": "ipython3",
   "version": "3.7.3"
  }
 },
 "nbformat": 4,
 "nbformat_minor": 1
}

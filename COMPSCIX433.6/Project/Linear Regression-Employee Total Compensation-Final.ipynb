{
 "cells": [
  {
   "cell_type": "code",
   "execution_count": 154,
   "metadata": {},
   "outputs": [],
   "source": [
    "import pandas as pd\n",
    "import numpy as np\n",
    "import matplotlib.pyplot as plt\n",
    "from sklearn import linear_model\n",
    "%matplotlib inline\n",
    "import os\n",
    "## print(os.listdir(\"../input\"))\n",
    "import seaborn as sns\n",
    "from pandas.plotting import scatter_matrix\n",
    "from sklearn.model_selection import train_test_split \n",
    "from sklearn.linear_model import LinearRegression\n",
    "import pickle \n",
    "import seaborn as sns "
   ]
  },
  {
   "cell_type": "markdown",
   "metadata": {},
   "source": [
    "### Load Data from Pickle File - Importing form pickle file"
   ]
  },
  {
   "cell_type": "code",
   "execution_count": 155,
   "metadata": {},
   "outputs": [
    {
     "name": "stdout",
     "output_type": "stream",
     "text": [
      "(713717, 23)\n"
     ]
    }
   ],
   "source": [
    "df_linearReg = pd.read_pickle('my_df.pickle')\n",
    "print(df_linearReg.shape)"
   ]
  },
  {
   "cell_type": "code",
   "execution_count": 156,
   "metadata": {},
   "outputs": [
    {
     "name": "stdout",
     "output_type": "stream",
     "text": [
      "Index(['Year Type', 'Year', 'Organization Group Code', 'Organization Group',\n",
      "       'Department Code', 'Department', 'Union Code', 'Union',\n",
      "       'Job Family Code', 'Job Family', 'Job Code', 'Job',\n",
      "       'Employee Identifier', 'Salaries', 'Overtime', 'Other Salaries',\n",
      "       'Total Salary', 'Retirement', 'Health and Dental', 'Other Benefits',\n",
      "       'Total Benefits', 'Total Compensation', 'Guaranteed Compensations'],\n",
      "      dtype='object')\n"
     ]
    }
   ],
   "source": [
    "print(df_linearReg.columns)"
   ]
  },
  {
   "cell_type": "code",
   "execution_count": 157,
   "metadata": {},
   "outputs": [
    {
     "data": {
      "text/plain": [
       "pandas.core.frame.DataFrame"
      ]
     },
     "execution_count": 157,
     "metadata": {},
     "output_type": "execute_result"
    }
   ],
   "source": [
    "type(df_linearReg)"
   ]
  },
  {
   "cell_type": "code",
   "execution_count": 158,
   "metadata": {},
   "outputs": [
    {
     "data": {
      "text/html": [
       "<div>\n",
       "<style scoped>\n",
       "    .dataframe tbody tr th:only-of-type {\n",
       "        vertical-align: middle;\n",
       "    }\n",
       "\n",
       "    .dataframe tbody tr th {\n",
       "        vertical-align: top;\n",
       "    }\n",
       "\n",
       "    .dataframe thead th {\n",
       "        text-align: right;\n",
       "    }\n",
       "</style>\n",
       "<table border=\"1\" class=\"dataframe\">\n",
       "  <thead>\n",
       "    <tr style=\"text-align: right;\">\n",
       "      <th></th>\n",
       "      <th>Year</th>\n",
       "      <th>Organization Group Code</th>\n",
       "      <th>Union Code</th>\n",
       "      <th>Employee Identifier</th>\n",
       "      <th>Salaries</th>\n",
       "      <th>Overtime</th>\n",
       "      <th>Other Salaries</th>\n",
       "      <th>Total Salary</th>\n",
       "      <th>Retirement</th>\n",
       "      <th>Health and Dental</th>\n",
       "      <th>Other Benefits</th>\n",
       "      <th>Total Benefits</th>\n",
       "      <th>Total Compensation</th>\n",
       "      <th>Guaranteed Compensations</th>\n",
       "    </tr>\n",
       "  </thead>\n",
       "  <tbody>\n",
       "    <tr>\n",
       "      <td>Year</td>\n",
       "      <td>1.000000</td>\n",
       "      <td>0.272428</td>\n",
       "      <td>0.000267</td>\n",
       "      <td>0.820786</td>\n",
       "      <td>0.021324</td>\n",
       "      <td>0.047006</td>\n",
       "      <td>-0.063583</td>\n",
       "      <td>0.021030</td>\n",
       "      <td>-0.015807</td>\n",
       "      <td>0.135772</td>\n",
       "      <td>0.044373</td>\n",
       "      <td>0.125144</td>\n",
       "      <td>0.049914</td>\n",
       "      <td>0.053241</td>\n",
       "    </tr>\n",
       "    <tr>\n",
       "      <td>Organization Group Code</td>\n",
       "      <td>0.272428</td>\n",
       "      <td>1.000000</td>\n",
       "      <td>-0.016097</td>\n",
       "      <td>0.337910</td>\n",
       "      <td>-0.182923</td>\n",
       "      <td>-0.199745</td>\n",
       "      <td>-0.192342</td>\n",
       "      <td>-0.226231</td>\n",
       "      <td>-0.208970</td>\n",
       "      <td>-0.086495</td>\n",
       "      <td>-0.018694</td>\n",
       "      <td>-0.103981</td>\n",
       "      <td>-0.198763</td>\n",
       "      <td>-0.162984</td>\n",
       "    </tr>\n",
       "    <tr>\n",
       "      <td>Union Code</td>\n",
       "      <td>0.000267</td>\n",
       "      <td>-0.016097</td>\n",
       "      <td>1.000000</td>\n",
       "      <td>-0.000050</td>\n",
       "      <td>-0.074664</td>\n",
       "      <td>0.056852</td>\n",
       "      <td>0.150896</td>\n",
       "      <td>-0.032227</td>\n",
       "      <td>-0.089034</td>\n",
       "      <td>-0.065639</td>\n",
       "      <td>-0.280619</td>\n",
       "      <td>-0.132510</td>\n",
       "      <td>-0.060356</td>\n",
       "      <td>-0.093814</td>\n",
       "    </tr>\n",
       "    <tr>\n",
       "      <td>Employee Identifier</td>\n",
       "      <td>0.820786</td>\n",
       "      <td>0.337910</td>\n",
       "      <td>-0.000050</td>\n",
       "      <td>1.000000</td>\n",
       "      <td>0.032070</td>\n",
       "      <td>0.049268</td>\n",
       "      <td>-0.057906</td>\n",
       "      <td>0.031463</td>\n",
       "      <td>0.008650</td>\n",
       "      <td>0.209840</td>\n",
       "      <td>0.043867</td>\n",
       "      <td>0.158409</td>\n",
       "      <td>0.066831</td>\n",
       "      <td>0.071043</td>\n",
       "    </tr>\n",
       "    <tr>\n",
       "      <td>Salaries</td>\n",
       "      <td>0.021324</td>\n",
       "      <td>-0.182923</td>\n",
       "      <td>-0.074664</td>\n",
       "      <td>0.032070</td>\n",
       "      <td>1.000000</td>\n",
       "      <td>0.263628</td>\n",
       "      <td>0.350111</td>\n",
       "      <td>0.960856</td>\n",
       "      <td>0.948719</td>\n",
       "      <td>0.595185</td>\n",
       "      <td>0.721336</td>\n",
       "      <td>0.899072</td>\n",
       "      <td>0.968723</td>\n",
       "      <td>0.991165</td>\n",
       "    </tr>\n",
       "    <tr>\n",
       "      <td>Overtime</td>\n",
       "      <td>0.047006</td>\n",
       "      <td>-0.199745</td>\n",
       "      <td>0.056852</td>\n",
       "      <td>0.049268</td>\n",
       "      <td>0.263628</td>\n",
       "      <td>1.000000</td>\n",
       "      <td>0.356168</td>\n",
       "      <td>0.497833</td>\n",
       "      <td>0.310390</td>\n",
       "      <td>0.260118</td>\n",
       "      <td>0.078670</td>\n",
       "      <td>0.294249</td>\n",
       "      <td>0.455202</td>\n",
       "      <td>0.278637</td>\n",
       "    </tr>\n",
       "    <tr>\n",
       "      <td>Other Salaries</td>\n",
       "      <td>-0.063583</td>\n",
       "      <td>-0.192342</td>\n",
       "      <td>0.150896</td>\n",
       "      <td>-0.057906</td>\n",
       "      <td>0.350111</td>\n",
       "      <td>0.356168</td>\n",
       "      <td>1.000000</td>\n",
       "      <td>0.505904</td>\n",
       "      <td>0.376403</td>\n",
       "      <td>0.177665</td>\n",
       "      <td>0.080782</td>\n",
       "      <td>0.284654</td>\n",
       "      <td>0.458670</td>\n",
       "      <td>0.337892</td>\n",
       "    </tr>\n",
       "    <tr>\n",
       "      <td>Total Salary</td>\n",
       "      <td>0.021030</td>\n",
       "      <td>-0.226231</td>\n",
       "      <td>-0.032227</td>\n",
       "      <td>0.031463</td>\n",
       "      <td>0.960856</td>\n",
       "      <td>0.497833</td>\n",
       "      <td>0.505904</td>\n",
       "      <td>1.000000</td>\n",
       "      <td>0.930811</td>\n",
       "      <td>0.591519</td>\n",
       "      <td>0.646309</td>\n",
       "      <td>0.873130</td>\n",
       "      <td>0.991155</td>\n",
       "      <td>0.955169</td>\n",
       "    </tr>\n",
       "    <tr>\n",
       "      <td>Retirement</td>\n",
       "      <td>-0.015807</td>\n",
       "      <td>-0.208970</td>\n",
       "      <td>-0.089034</td>\n",
       "      <td>0.008650</td>\n",
       "      <td>0.948719</td>\n",
       "      <td>0.310390</td>\n",
       "      <td>0.376403</td>\n",
       "      <td>0.930811</td>\n",
       "      <td>1.000000</td>\n",
       "      <td>0.618693</td>\n",
       "      <td>0.672923</td>\n",
       "      <td>0.923645</td>\n",
       "      <td>0.952776</td>\n",
       "      <td>0.961749</td>\n",
       "    </tr>\n",
       "    <tr>\n",
       "      <td>Health and Dental</td>\n",
       "      <td>0.135772</td>\n",
       "      <td>-0.086495</td>\n",
       "      <td>-0.065639</td>\n",
       "      <td>0.209840</td>\n",
       "      <td>0.595185</td>\n",
       "      <td>0.260118</td>\n",
       "      <td>0.177665</td>\n",
       "      <td>0.591519</td>\n",
       "      <td>0.618693</td>\n",
       "      <td>1.000000</td>\n",
       "      <td>0.422480</td>\n",
       "      <td>0.783721</td>\n",
       "      <td>0.659041</td>\n",
       "      <td>0.665245</td>\n",
       "    </tr>\n",
       "    <tr>\n",
       "      <td>Other Benefits</td>\n",
       "      <td>0.044373</td>\n",
       "      <td>-0.018694</td>\n",
       "      <td>-0.280619</td>\n",
       "      <td>0.043867</td>\n",
       "      <td>0.721336</td>\n",
       "      <td>0.078670</td>\n",
       "      <td>0.080782</td>\n",
       "      <td>0.646309</td>\n",
       "      <td>0.672923</td>\n",
       "      <td>0.422480</td>\n",
       "      <td>1.000000</td>\n",
       "      <td>0.744509</td>\n",
       "      <td>0.689648</td>\n",
       "      <td>0.744040</td>\n",
       "    </tr>\n",
       "    <tr>\n",
       "      <td>Total Benefits</td>\n",
       "      <td>0.125144</td>\n",
       "      <td>-0.103981</td>\n",
       "      <td>-0.132510</td>\n",
       "      <td>0.158409</td>\n",
       "      <td>0.899072</td>\n",
       "      <td>0.294249</td>\n",
       "      <td>0.284654</td>\n",
       "      <td>0.873130</td>\n",
       "      <td>0.923645</td>\n",
       "      <td>0.783721</td>\n",
       "      <td>0.744509</td>\n",
       "      <td>1.000000</td>\n",
       "      <td>0.930102</td>\n",
       "      <td>0.949197</td>\n",
       "    </tr>\n",
       "    <tr>\n",
       "      <td>Total Compensation</td>\n",
       "      <td>0.049914</td>\n",
       "      <td>-0.198763</td>\n",
       "      <td>-0.060356</td>\n",
       "      <td>0.066831</td>\n",
       "      <td>0.968723</td>\n",
       "      <td>0.455202</td>\n",
       "      <td>0.458670</td>\n",
       "      <td>0.991155</td>\n",
       "      <td>0.952776</td>\n",
       "      <td>0.659041</td>\n",
       "      <td>0.689648</td>\n",
       "      <td>0.930102</td>\n",
       "      <td>1.000000</td>\n",
       "      <td>0.978085</td>\n",
       "    </tr>\n",
       "    <tr>\n",
       "      <td>Guaranteed Compensations</td>\n",
       "      <td>0.053241</td>\n",
       "      <td>-0.162984</td>\n",
       "      <td>-0.093814</td>\n",
       "      <td>0.071043</td>\n",
       "      <td>0.991165</td>\n",
       "      <td>0.278637</td>\n",
       "      <td>0.337892</td>\n",
       "      <td>0.955169</td>\n",
       "      <td>0.961749</td>\n",
       "      <td>0.665245</td>\n",
       "      <td>0.744040</td>\n",
       "      <td>0.949197</td>\n",
       "      <td>0.978085</td>\n",
       "      <td>1.000000</td>\n",
       "    </tr>\n",
       "  </tbody>\n",
       "</table>\n",
       "</div>"
      ],
      "text/plain": [
       "                              Year  Organization Group Code  Union Code  \\\n",
       "Year                      1.000000                 0.272428    0.000267   \n",
       "Organization Group Code   0.272428                 1.000000   -0.016097   \n",
       "Union Code                0.000267                -0.016097    1.000000   \n",
       "Employee Identifier       0.820786                 0.337910   -0.000050   \n",
       "Salaries                  0.021324                -0.182923   -0.074664   \n",
       "Overtime                  0.047006                -0.199745    0.056852   \n",
       "Other Salaries           -0.063583                -0.192342    0.150896   \n",
       "Total Salary              0.021030                -0.226231   -0.032227   \n",
       "Retirement               -0.015807                -0.208970   -0.089034   \n",
       "Health and Dental         0.135772                -0.086495   -0.065639   \n",
       "Other Benefits            0.044373                -0.018694   -0.280619   \n",
       "Total Benefits            0.125144                -0.103981   -0.132510   \n",
       "Total Compensation        0.049914                -0.198763   -0.060356   \n",
       "Guaranteed Compensations  0.053241                -0.162984   -0.093814   \n",
       "\n",
       "                          Employee Identifier  Salaries  Overtime  \\\n",
       "Year                                 0.820786  0.021324  0.047006   \n",
       "Organization Group Code              0.337910 -0.182923 -0.199745   \n",
       "Union Code                          -0.000050 -0.074664  0.056852   \n",
       "Employee Identifier                  1.000000  0.032070  0.049268   \n",
       "Salaries                             0.032070  1.000000  0.263628   \n",
       "Overtime                             0.049268  0.263628  1.000000   \n",
       "Other Salaries                      -0.057906  0.350111  0.356168   \n",
       "Total Salary                         0.031463  0.960856  0.497833   \n",
       "Retirement                           0.008650  0.948719  0.310390   \n",
       "Health and Dental                    0.209840  0.595185  0.260118   \n",
       "Other Benefits                       0.043867  0.721336  0.078670   \n",
       "Total Benefits                       0.158409  0.899072  0.294249   \n",
       "Total Compensation                   0.066831  0.968723  0.455202   \n",
       "Guaranteed Compensations             0.071043  0.991165  0.278637   \n",
       "\n",
       "                          Other Salaries  Total Salary  Retirement  \\\n",
       "Year                           -0.063583      0.021030   -0.015807   \n",
       "Organization Group Code        -0.192342     -0.226231   -0.208970   \n",
       "Union Code                      0.150896     -0.032227   -0.089034   \n",
       "Employee Identifier            -0.057906      0.031463    0.008650   \n",
       "Salaries                        0.350111      0.960856    0.948719   \n",
       "Overtime                        0.356168      0.497833    0.310390   \n",
       "Other Salaries                  1.000000      0.505904    0.376403   \n",
       "Total Salary                    0.505904      1.000000    0.930811   \n",
       "Retirement                      0.376403      0.930811    1.000000   \n",
       "Health and Dental               0.177665      0.591519    0.618693   \n",
       "Other Benefits                  0.080782      0.646309    0.672923   \n",
       "Total Benefits                  0.284654      0.873130    0.923645   \n",
       "Total Compensation              0.458670      0.991155    0.952776   \n",
       "Guaranteed Compensations        0.337892      0.955169    0.961749   \n",
       "\n",
       "                          Health and Dental  Other Benefits  Total Benefits  \\\n",
       "Year                               0.135772        0.044373        0.125144   \n",
       "Organization Group Code           -0.086495       -0.018694       -0.103981   \n",
       "Union Code                        -0.065639       -0.280619       -0.132510   \n",
       "Employee Identifier                0.209840        0.043867        0.158409   \n",
       "Salaries                           0.595185        0.721336        0.899072   \n",
       "Overtime                           0.260118        0.078670        0.294249   \n",
       "Other Salaries                     0.177665        0.080782        0.284654   \n",
       "Total Salary                       0.591519        0.646309        0.873130   \n",
       "Retirement                         0.618693        0.672923        0.923645   \n",
       "Health and Dental                  1.000000        0.422480        0.783721   \n",
       "Other Benefits                     0.422480        1.000000        0.744509   \n",
       "Total Benefits                     0.783721        0.744509        1.000000   \n",
       "Total Compensation                 0.659041        0.689648        0.930102   \n",
       "Guaranteed Compensations           0.665245        0.744040        0.949197   \n",
       "\n",
       "                          Total Compensation  Guaranteed Compensations  \n",
       "Year                                0.049914                  0.053241  \n",
       "Organization Group Code            -0.198763                 -0.162984  \n",
       "Union Code                         -0.060356                 -0.093814  \n",
       "Employee Identifier                 0.066831                  0.071043  \n",
       "Salaries                            0.968723                  0.991165  \n",
       "Overtime                            0.455202                  0.278637  \n",
       "Other Salaries                      0.458670                  0.337892  \n",
       "Total Salary                        0.991155                  0.955169  \n",
       "Retirement                          0.952776                  0.961749  \n",
       "Health and Dental                   0.659041                  0.665245  \n",
       "Other Benefits                      0.689648                  0.744040  \n",
       "Total Benefits                      0.930102                  0.949197  \n",
       "Total Compensation                  1.000000                  0.978085  \n",
       "Guaranteed Compensations            0.978085                  1.000000  "
      ]
     },
     "execution_count": 158,
     "metadata": {},
     "output_type": "execute_result"
    }
   ],
   "source": [
    "df_linearReg.corr()"
   ]
  },
  {
   "cell_type": "markdown",
   "metadata": {},
   "source": [
    "## Based on the above correlation, we're picking 'Health and Dental','Other Benefits' & 'Salary' as x-axis\n",
    "# and will predict the 'Total Compensation'"
   ]
  },
  {
   "cell_type": "code",
   "execution_count": 159,
   "metadata": {},
   "outputs": [
    {
     "name": "stdout",
     "output_type": "stream",
     "text": [
      "<class 'pandas.core.frame.DataFrame'>\n",
      "Int64Index: 713717 entries, 0 to 835306\n",
      "Data columns (total 23 columns):\n",
      "Year Type                   713717 non-null object\n",
      "Year                        713717 non-null int64\n",
      "Organization Group Code     713717 non-null int64\n",
      "Organization Group          713717 non-null object\n",
      "Department Code             686417 non-null object\n",
      "Department                  429330 non-null object\n",
      "Union Code                  713156 non-null float64\n",
      "Union                       713156 non-null object\n",
      "Job Family Code             713717 non-null object\n",
      "Job Family                  713717 non-null object\n",
      "Job Code                    713717 non-null object\n",
      "Job                         713717 non-null object\n",
      "Employee Identifier         713717 non-null int64\n",
      "Salaries                    713717 non-null float64\n",
      "Overtime                    713717 non-null float64\n",
      "Other Salaries              713717 non-null float64\n",
      "Total Salary                713717 non-null float64\n",
      "Retirement                  713717 non-null float64\n",
      "Health and Dental           713717 non-null float64\n",
      "Other Benefits              713717 non-null float64\n",
      "Total Benefits              713717 non-null float64\n",
      "Total Compensation          713717 non-null float64\n",
      "Guaranteed Compensations    713717 non-null float64\n",
      "dtypes: float64(11), int64(3), object(9)\n",
      "memory usage: 130.7+ MB\n",
      "None\n"
     ]
    }
   ],
   "source": [
    "print(df_linearReg.info()) # checking to see the dataset so that any type conversions can be done"
   ]
  },
  {
   "cell_type": "markdown",
   "metadata": {},
   "source": [
    "### Data Cleanup "
   ]
  },
  {
   "cell_type": "markdown",
   "metadata": {},
   "source": [
    "## Cleaning Nulls in the dataset"
   ]
  },
  {
   "cell_type": "code",
   "execution_count": 160,
   "metadata": {},
   "outputs": [
    {
     "data": {
      "text/plain": [
       "Year Type                        0\n",
       "Year                             0\n",
       "Organization Group Code          0\n",
       "Organization Group               0\n",
       "Department Code              27300\n",
       "Department                  284387\n",
       "Union Code                     561\n",
       "Union                          561\n",
       "Job Family Code                  0\n",
       "Job Family                       0\n",
       "Job Code                         0\n",
       "Job                              0\n",
       "Employee Identifier              0\n",
       "Salaries                         0\n",
       "Overtime                         0\n",
       "Other Salaries                   0\n",
       "Total Salary                     0\n",
       "Retirement                       0\n",
       "Health and Dental                0\n",
       "Other Benefits                   0\n",
       "Total Benefits                   0\n",
       "Total Compensation               0\n",
       "Guaranteed Compensations         0\n",
       "dtype: int64"
      ]
     },
     "execution_count": 160,
     "metadata": {},
     "output_type": "execute_result"
    }
   ],
   "source": [
    "df_linearReg.isnull().sum()\n"
   ]
  },
  {
   "cell_type": "markdown",
   "metadata": {},
   "source": [
    "## Drop all records whose Department code is NULL and Union Code is NULL"
   ]
  },
  {
   "cell_type": "code",
   "execution_count": 161,
   "metadata": {},
   "outputs": [
    {
     "data": {
      "text/plain": [
       "Year Type                   0\n",
       "Year                        0\n",
       "Organization Group Code     0\n",
       "Organization Group          0\n",
       "Department Code             0\n",
       "Department                  0\n",
       "Union Code                  0\n",
       "Union                       0\n",
       "Job Family Code             0\n",
       "Job Family                  0\n",
       "Job Code                    0\n",
       "Job                         0\n",
       "Employee Identifier         0\n",
       "Salaries                    0\n",
       "Overtime                    0\n",
       "Other Salaries              0\n",
       "Total Salary                0\n",
       "Retirement                  0\n",
       "Health and Dental           0\n",
       "Other Benefits              0\n",
       "Total Benefits              0\n",
       "Total Compensation          0\n",
       "Guaranteed Compensations    0\n",
       "dtype: int64"
      ]
     },
     "execution_count": 161,
     "metadata": {},
     "output_type": "execute_result"
    }
   ],
   "source": [
    "df_linearReg.dropna(subset=['Department'], how='all', inplace=True)\n",
    "df_linearReg.dropna(subset=['Union Code'], how='all', inplace=True)\n",
    "df_linearReg.isnull().sum()"
   ]
  },
  {
   "cell_type": "markdown",
   "metadata": {},
   "source": [
    "## Multi LinearRegression to predict the Total Compensation using Salaries, Health and Dental and Other Benefits. Two of them have ~65% corelation while Salaries had 96% corelation"
   ]
  },
  {
   "cell_type": "code",
   "execution_count": 162,
   "metadata": {},
   "outputs": [],
   "source": [
    "df_xaxis = df_linearReg['Salaries'] # x-axis\n",
    "df_x1axis = df_linearReg['Health and Dental']\n",
    "df_x2axis = df_linearReg['Other Benefits']\n",
    "# Assigning "
   ]
  },
  {
   "cell_type": "code",
   "execution_count": 163,
   "metadata": {},
   "outputs": [
    {
     "data": {
      "text/plain": [
       "300572    323901.54\n",
       "300574     41429.63\n",
       "300575     60354.03\n",
       "300579     45472.00\n",
       "300580     48035.03\n",
       "Name: Salaries, dtype: float64"
      ]
     },
     "execution_count": 163,
     "metadata": {},
     "output_type": "execute_result"
    }
   ],
   "source": [
    "df_xaxis.head()"
   ]
  },
  {
   "cell_type": "code",
   "execution_count": 164,
   "metadata": {
    "scrolled": true
   },
   "outputs": [
    {
     "data": {
      "text/plain": [
       "300572    430227.43\n",
       "300574     75680.27\n",
       "300575     84258.79\n",
       "300579     77525.56\n",
       "300580     89057.52\n",
       "Name: Total Compensation, dtype: float64"
      ]
     },
     "execution_count": 164,
     "metadata": {},
     "output_type": "execute_result"
    }
   ],
   "source": [
    "df_yaxis = df_linearReg['Total Compensation'] # y-axis\n",
    "df_yaxis.head()\n"
   ]
  },
  {
   "cell_type": "code",
   "execution_count": 165,
   "metadata": {},
   "outputs": [],
   "source": [
    "#Checking the average values of Total Compensation Columns - We see below that the Average is somewhere around"
   ]
  },
  {
   "cell_type": "code",
   "execution_count": 166,
   "metadata": {},
   "outputs": [
    {
     "data": {
      "text/plain": [
       "<matplotlib.axes._subplots.AxesSubplot at 0x1ac00e84908>"
      ]
     },
     "execution_count": 166,
     "metadata": {},
     "output_type": "execute_result"
    },
    {
     "data": {
      "image/png": "[encoded data removed]",
      "text/plain": [
       "<Figure size 1080x720 with 1 Axes>"
      ]
     },
     "metadata": {
      "needs_background": "light"
     },
     "output_type": "display_data"
    }
   ],
   "source": [
    "plt.figure(figsize=(15,10))\n",
    "plt.tight_layout()\n",
    "sns.distplot(df_linearReg['Total Compensation'], bins = 20)"
   ]
  },
  {
   "cell_type": "code",
   "execution_count": 167,
   "metadata": {},
   "outputs": [
    {
     "data": {
      "text/plain": [
       "<matplotlib.axes._subplots.AxesSubplot at 0x1ac00ea4da0>"
      ]
     },
     "execution_count": 167,
     "metadata": {},
     "output_type": "execute_result"
    },
    {
     "data": {
      "image/png": "[encoded data removed]",
      "text/plain": [
       "<Figure size 432x288 with 1 Axes>"
      ]
     },
     "metadata": {
      "needs_background": "light"
     },
     "output_type": "display_data"
    }
   ],
   "source": [
    "df_linearReg['Total Compensation'].hist(bins=15)"
   ]
  },
  {
   "cell_type": "code",
   "execution_count": 168,
   "metadata": {},
   "outputs": [],
   "source": [
    "# Normalizing values by dividing the x  and y co-rodinates by 1000,000"
   ]
  },
  {
   "cell_type": "code",
   "execution_count": 169,
   "metadata": {},
   "outputs": [],
   "source": [
    "df_xaxis = df_xaxis.apply(lambda x:x/100000)\n",
    "df_x1axis = df_x1axis.apply(lambda x:x/100000)\n",
    "df_x2axis = df_x2axis.apply(lambda x:x/100000)\n",
    "df_yaxis = df_yaxis.apply(lambda x:x/100000)"
   ]
  },
  {
   "cell_type": "code",
   "execution_count": 170,
   "metadata": {},
   "outputs": [],
   "source": [
    "x = np.array([df_xaxis, df_x1axis, df_x2axis]).T\n",
    "\n",
    "y = np.array([df_yaxis]).T"
   ]
  },
  {
   "cell_type": "code",
   "execution_count": null,
   "metadata": {},
   "outputs": [],
   "source": []
  },
  {
   "cell_type": "code",
   "execution_count": 171,
   "metadata": {},
   "outputs": [
    {
     "name": "stdout",
     "output_type": "stream",
     "text": [
      "LinearRegression(copy_X=True, fit_intercept=True, n_jobs=None, normalize=False)\n"
     ]
    }
   ],
   "source": [
    "reg_eidentifier = linear_model.LinearRegression()\n",
    "print(reg_eidentifier)"
   ]
  },
  {
   "cell_type": "code",
   "execution_count": 172,
   "metadata": {},
   "outputs": [],
   "source": [
    "x_train, x_test, y_train, y_test = train_test_split(x, \\\n",
    "                                                    y, \\\n",
    "                                                    test_size=0.2, \\\n",
    "                                                    random_state=42)"
   ]
  },
  {
   "cell_type": "code",
   "execution_count": 173,
   "metadata": {},
   "outputs": [
    {
     "data": {
      "text/plain": [
       "LinearRegression(copy_X=True, fit_intercept=True, n_jobs=None, normalize=False)"
      ]
     },
     "execution_count": 173,
     "metadata": {},
     "output_type": "execute_result"
    }
   ],
   "source": [
    "reg_eidentifier.fit(x_train, y_train)"
   ]
  },
  {
   "cell_type": "code",
   "execution_count": 174,
   "metadata": {},
   "outputs": [
    {
     "name": "stdout",
     "output_type": "stream",
     "text": [
      "[[ 1.34940543  1.91321068 -0.58442695]]\n",
      "[-0.02209658]\n",
      "0.9538962761393598\n",
      "0.9548621362298281\n"
     ]
    }
   ],
   "source": [
    "print(reg_eidentifier.coef_) # co-effecient/slope\n",
    "print(reg_eidentifier.intercept_)  # constant value/Y-Intercept\n",
    "print(reg_eidentifier.score(x_train, y_train)) \n",
    "print(reg_eidentifier.score(x_test, y_test))"
   ]
  },
  {
   "cell_type": "code",
   "execution_count": 175,
   "metadata": {},
   "outputs": [],
   "source": [
    "y_pred_compensation = reg_eidentifier.predict(x_test)\n"
   ]
  },
  {
   "cell_type": "markdown",
   "metadata": {},
   "source": [
    "## Creating a data frame with two columns to show the Actual vs the Predicted values"
   ]
  },
  {
   "cell_type": "code",
   "execution_count": 176,
   "metadata": {},
   "outputs": [
    {
     "name": "stdout",
     "output_type": "stream",
     "text": [
      "         Actual  Predicted\n",
      "0      1.039961   0.928117\n",
      "1      1.831466   1.923939\n",
      "2      1.193484   1.075463\n",
      "3      1.408170   1.387170\n",
      "4      0.473508   0.515319\n",
      "...         ...        ...\n",
      "85749  0.154004   0.190057\n",
      "85750  1.031555   0.814901\n",
      "85751  0.045936   0.028842\n",
      "85752  1.663983   1.813181\n",
      "85753  1.739922   1.712103\n",
      "\n",
      "[85754 rows x 2 columns]\n"
     ]
    }
   ],
   "source": [
    "df_graph = pd.DataFrame({'Actual':y_test.flatten(), 'Predicted':y_pred_compensation.flatten()})\n",
    "print(df_graph)"
   ]
  },
  {
   "cell_type": "code",
   "execution_count": 183,
   "metadata": {
    "scrolled": true
   },
   "outputs": [
    {
     "data": {
      "image/png": "[encoded data removed]",
      "text/plain": [
       "<Figure size 864x720 with 1 Axes>"
      ]
     },
     "metadata": {
      "needs_background": "light"
     },
     "output_type": "display_data"
    }
   ],
   "source": [
    "df_graph_new = df_graph.head(30)\n",
    "df_graph_new.head()\n",
    "df_graph_new.plot(kind='bar',figsize=(12,10))\n",
    "plt.title(\"Actual vs Predicted Total Compensation\")\n",
    "plt.ylabel(\"Total Compensation in 100,000s\")\n",
    "plt.show()\n",
    "\n"
   ]
  },
  {
   "cell_type": "markdown",
   "metadata": {},
   "source": [
    "## Calculate Mean Squared Error\n"
   ]
  },
  {
   "cell_type": "code",
   "execution_count": 184,
   "metadata": {},
   "outputs": [
    {
     "name": "stdout",
     "output_type": "stream",
     "text": [
      "0.019874367340531336\n"
     ]
    }
   ],
   "source": [
    "mse = np.mean((y_pred_compensation-y_test)**2)\n",
    "print(mse)"
   ]
  },
  {
   "cell_type": "code",
   "execution_count": 185,
   "metadata": {},
   "outputs": [
    {
     "data": {
      "text/plain": [
       "0.9526888307902542"
      ]
     },
     "execution_count": 185,
     "metadata": {},
     "output_type": "execute_result"
    }
   ],
   "source": [
    "from sklearn.metrics import r2_score\n",
    "r2_score(y_pred_compensation,y_test)\n",
    "# another way to capture r**2 error"
   ]
  },
  {
   "cell_type": "code",
   "execution_count": null,
   "metadata": {},
   "outputs": [],
   "source": []
  }
 ],
 "metadata": {
  "kernelspec": {
   "display_name": "Python 3",
   "language": "python",
   "name": "python3"
  },
  "language_info": {
   "codemirror_mode": {
    "name": "ipython",
    "version": 3
   },
   "file_extension": ".py",
   "mimetype": "text/x-python",
   "name": "python",
   "nbconvert_exporter": "python",
   "pygments_lexer": "ipython3",
   "version": "3.7.3"
  }
 },
 "nbformat": 4,
 "nbformat_minor": 2
}

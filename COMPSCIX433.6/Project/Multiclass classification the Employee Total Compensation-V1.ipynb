{
 "cells": [
  {
   "cell_type": "code",
   "execution_count": 1,
   "metadata": {},
   "outputs": [],
   "source": [
    "import pandas as pd\n",
    "import numpy as np\n",
    "import matplotlib.pyplot as plt\n",
    "%matplotlib inline\n",
    "import os\n",
    "## print(os.listdir(\"../input\"))\n",
    "import seaborn as sns\n",
    "from pandas.plotting import scatter_matrix\n",
    "from mpl_toolkits.mplot3d import Axes3D\n",
    "from sklearn.preprocessing import StandardScaler, MinMaxScaler, FunctionTransformer, OneHotEncoder, KBinsDiscretizer, MaxAbsScaler, LabelEncoder\n",
    "from sklearn.pipeline import Pipeline, FeatureUnion\n",
    "from sklearn.impute import SimpleImputer\n",
    "from sklearn.model_selection import GridSearchCV, cross_val_score, train_test_split as split\n",
    "from sklearn.metrics import confusion_matrix, classification_report, accuracy_score\n",
    "from sklearn.linear_model import LinearRegression\n",
    "from sklearn.tree import DecisionTreeRegressor\n",
    "from sklearn.ensemble import RandomForestRegressor\n",
    "from sklearn.mixture import GaussianMixture\n",
    "from time import time\n",
    "import pickle "
   ]
  },
  {
   "cell_type": "markdown",
   "metadata": {},
   "source": [
    "### Load Data from Pickle File"
   ]
  },
  {
   "cell_type": "code",
   "execution_count": 2,
   "metadata": {},
   "outputs": [
    {
     "name": "stdout",
     "output_type": "stream",
     "text": [
      "(713717, 23)\n"
     ]
    }
   ],
   "source": [
    "df = pd.read_pickle('my_df.pickle')\n",
    "print(df.shape)"
   ]
  },
  {
   "cell_type": "code",
   "execution_count": 3,
   "metadata": {},
   "outputs": [
    {
     "name": "stdout",
     "output_type": "stream",
     "text": [
      "Index(['Year Type', 'Year', 'Organization Group Code', 'Organization Group',\n",
      "       'Department Code', 'Department', 'Union Code', 'Union',\n",
      "       'Job Family Code', 'Job Family', 'Job Code', 'Job',\n",
      "       'Employee Identifier', 'Salaries', 'Overtime', 'Other Salaries',\n",
      "       'Total Salary', 'Retirement', 'Health and Dental', 'Other Benefits',\n",
      "       'Total Benefits', 'Total Compensation', 'Guaranteed Compensations'],\n",
      "      dtype='object')\n"
     ]
    }
   ],
   "source": [
    "print(df.columns)"
   ]
  },
  {
   "cell_type": "code",
   "execution_count": 4,
   "metadata": {},
   "outputs": [
    {
     "name": "stdout",
     "output_type": "stream",
     "text": [
      "<class 'pandas.core.frame.DataFrame'>\n",
      "Int64Index: 713717 entries, 0 to 835306\n",
      "Data columns (total 23 columns):\n",
      "Year Type                   713717 non-null object\n",
      "Year                        713717 non-null int64\n",
      "Organization Group Code     713717 non-null int64\n",
      "Organization Group          713717 non-null object\n",
      "Department Code             686417 non-null object\n",
      "Department                  429330 non-null object\n",
      "Union Code                  713156 non-null float64\n",
      "Union                       713156 non-null object\n",
      "Job Family Code             713717 non-null object\n",
      "Job Family                  713717 non-null object\n",
      "Job Code                    713717 non-null object\n",
      "Job                         713717 non-null object\n",
      "Employee Identifier         713717 non-null int64\n",
      "Salaries                    713717 non-null float64\n",
      "Overtime                    713717 non-null float64\n",
      "Other Salaries              713717 non-null float64\n",
      "Total Salary                713717 non-null float64\n",
      "Retirement                  713717 non-null float64\n",
      "Health and Dental           713717 non-null float64\n",
      "Other Benefits              713717 non-null float64\n",
      "Total Benefits              713717 non-null float64\n",
      "Total Compensation          713717 non-null float64\n",
      "Guaranteed Compensations    713717 non-null float64\n",
      "dtypes: float64(11), int64(3), object(9)\n",
      "memory usage: 130.7+ MB\n",
      "None\n"
     ]
    }
   ],
   "source": [
    "print(df.info())"
   ]
  },
  {
   "cell_type": "markdown",
   "metadata": {},
   "source": [
    "### Data Cleanup to address null values"
   ]
  },
  {
   "cell_type": "code",
   "execution_count": 5,
   "metadata": {},
   "outputs": [
    {
     "name": "stdout",
     "output_type": "stream",
     "text": [
      "  Year Type  Year  Organization Group Code             Organization Group  \\\n",
      "0  Calendar  2028                        7  General City Responsibilities   \n",
      "1  Calendar  2028                        1              Public Protection   \n",
      "2    Fiscal  2028                        1              Public Protection   \n",
      "3  Calendar  2019                        7  General City Responsibilities   \n",
      "4  Calendar  2019                        1              Public Protection   \n",
      "\n",
      "  Department Code Department  Union Code                           Union  \\\n",
      "0          229259        NaN       792.0  Utd Pub EmpL790 SEIU-Crt Clrks   \n",
      "1             CRT        NaN       792.0  Utd Pub EmpL790 SEIU-Crt Clrks   \n",
      "2             CRT        NaN       792.0  Utd Pub EmpL790 SEIU-Crt Clrks   \n",
      "3          232108        NaN       911.0                             POA   \n",
      "4             DAT        NaN       311.0       Municipal Attorneys Assoc   \n",
      "\n",
      "  Job Family Code       Job Family  ...   Salaries   Overtime  Other Salaries  \\\n",
      "0            0000         Untitled  ...     674.28       0.00            5.76   \n",
      "1            0000         Untitled  ...     674.28       0.00            5.76   \n",
      "2            0000         Untitled  ...     674.28       0.00            5.76   \n",
      "3            Q000  Police Services  ...  124709.01  100499.62         5501.78   \n",
      "4            8100    Legal & Court  ...  155489.01       0.00         1500.00   \n",
      "\n",
      "   Total Salary  Retirement  Health and Dental  Other Benefits  \\\n",
      "0        680.04      130.91               0.00           53.86   \n",
      "1        680.04      130.91               0.00           53.86   \n",
      "2        680.04      130.91               0.00           53.86   \n",
      "3     230710.41    23271.86           14293.60         3934.00   \n",
      "4     156989.01    29239.75           14308.46        11100.60   \n",
      "\n",
      "   Total Benefits  Total Compensation  Guaranteed Compensations  \n",
      "0          184.77              864.81                    859.05  \n",
      "1          184.77              864.81                    859.05  \n",
      "2          184.77              864.81                    859.05  \n",
      "3        55975.56           286685.97                 180684.57  \n",
      "4        69326.83           226315.84                 224815.84  \n",
      "\n",
      "[5 rows x 23 columns]\n",
      "<class 'pandas.core.frame.DataFrame'>\n",
      "Int64Index: 713717 entries, 0 to 835306\n",
      "Data columns (total 23 columns):\n",
      "Year Type                   713717 non-null object\n",
      "Year                        713717 non-null int64\n",
      "Organization Group Code     713717 non-null int64\n",
      "Organization Group          713717 non-null object\n",
      "Department Code             686417 non-null object\n",
      "Department                  429330 non-null object\n",
      "Union Code                  713156 non-null float64\n",
      "Union                       713156 non-null object\n",
      "Job Family Code             713717 non-null object\n",
      "Job Family                  713717 non-null object\n",
      "Job Code                    713717 non-null object\n",
      "Job                         713717 non-null object\n",
      "Employee Identifier         713717 non-null int64\n",
      "Salaries                    713717 non-null float64\n",
      "Overtime                    713717 non-null float64\n",
      "Other Salaries              713717 non-null float64\n",
      "Total Salary                713717 non-null float64\n",
      "Retirement                  713717 non-null float64\n",
      "Health and Dental           713717 non-null float64\n",
      "Other Benefits              713717 non-null float64\n",
      "Total Benefits              713717 non-null float64\n",
      "Total Compensation          713717 non-null float64\n",
      "Guaranteed Compensations    713717 non-null float64\n",
      "dtypes: float64(11), int64(3), object(9)\n",
      "memory usage: 130.7+ MB\n",
      "None\n"
     ]
    }
   ],
   "source": [
    "#obj_df = df.select_dtypes(include=['object']).copy()\n",
    "obj_df = df.copy(deep= True)\n",
    "## Delete original dataframe to dave on memeory consumption\n",
    "del df\n",
    "print(obj_df.head())\n",
    "print(obj_df.info())"
   ]
  },
  {
   "cell_type": "code",
   "execution_count": 6,
   "metadata": {},
   "outputs": [
    {
     "data": {
      "text/html": [
       "<div>\n",
       "<style scoped>\n",
       "    .dataframe tbody tr th:only-of-type {\n",
       "        vertical-align: middle;\n",
       "    }\n",
       "\n",
       "    .dataframe tbody tr th {\n",
       "        vertical-align: top;\n",
       "    }\n",
       "\n",
       "    .dataframe thead th {\n",
       "        text-align: right;\n",
       "    }\n",
       "</style>\n",
       "<table border=\"1\" class=\"dataframe\">\n",
       "  <thead>\n",
       "    <tr style=\"text-align: right;\">\n",
       "      <th></th>\n",
       "      <th>Year Type</th>\n",
       "      <th>Year</th>\n",
       "      <th>Organization Group Code</th>\n",
       "      <th>Organization Group</th>\n",
       "      <th>Department Code</th>\n",
       "      <th>Department</th>\n",
       "      <th>Union Code</th>\n",
       "      <th>Union</th>\n",
       "      <th>Job Family Code</th>\n",
       "      <th>Job Family</th>\n",
       "      <th>...</th>\n",
       "      <th>Salaries</th>\n",
       "      <th>Overtime</th>\n",
       "      <th>Other Salaries</th>\n",
       "      <th>Total Salary</th>\n",
       "      <th>Retirement</th>\n",
       "      <th>Health and Dental</th>\n",
       "      <th>Other Benefits</th>\n",
       "      <th>Total Benefits</th>\n",
       "      <th>Total Compensation</th>\n",
       "      <th>Guaranteed Compensations</th>\n",
       "    </tr>\n",
       "  </thead>\n",
       "  <tbody>\n",
       "    <tr>\n",
       "      <td>0</td>\n",
       "      <td>Calendar</td>\n",
       "      <td>2028</td>\n",
       "      <td>7</td>\n",
       "      <td>General City Responsibilities</td>\n",
       "      <td>229259</td>\n",
       "      <td>NaN</td>\n",
       "      <td>792.0</td>\n",
       "      <td>Utd Pub EmpL790 SEIU-Crt Clrks</td>\n",
       "      <td>0000</td>\n",
       "      <td>Untitled</td>\n",
       "      <td>...</td>\n",
       "      <td>674.28</td>\n",
       "      <td>0.00</td>\n",
       "      <td>5.76</td>\n",
       "      <td>680.04</td>\n",
       "      <td>130.91</td>\n",
       "      <td>0.00</td>\n",
       "      <td>53.86</td>\n",
       "      <td>184.77</td>\n",
       "      <td>864.81</td>\n",
       "      <td>859.05</td>\n",
       "    </tr>\n",
       "    <tr>\n",
       "      <td>1</td>\n",
       "      <td>Calendar</td>\n",
       "      <td>2028</td>\n",
       "      <td>1</td>\n",
       "      <td>Public Protection</td>\n",
       "      <td>CRT</td>\n",
       "      <td>NaN</td>\n",
       "      <td>792.0</td>\n",
       "      <td>Utd Pub EmpL790 SEIU-Crt Clrks</td>\n",
       "      <td>0000</td>\n",
       "      <td>Untitled</td>\n",
       "      <td>...</td>\n",
       "      <td>674.28</td>\n",
       "      <td>0.00</td>\n",
       "      <td>5.76</td>\n",
       "      <td>680.04</td>\n",
       "      <td>130.91</td>\n",
       "      <td>0.00</td>\n",
       "      <td>53.86</td>\n",
       "      <td>184.77</td>\n",
       "      <td>864.81</td>\n",
       "      <td>859.05</td>\n",
       "    </tr>\n",
       "    <tr>\n",
       "      <td>2</td>\n",
       "      <td>Fiscal</td>\n",
       "      <td>2028</td>\n",
       "      <td>1</td>\n",
       "      <td>Public Protection</td>\n",
       "      <td>CRT</td>\n",
       "      <td>NaN</td>\n",
       "      <td>792.0</td>\n",
       "      <td>Utd Pub EmpL790 SEIU-Crt Clrks</td>\n",
       "      <td>0000</td>\n",
       "      <td>Untitled</td>\n",
       "      <td>...</td>\n",
       "      <td>674.28</td>\n",
       "      <td>0.00</td>\n",
       "      <td>5.76</td>\n",
       "      <td>680.04</td>\n",
       "      <td>130.91</td>\n",
       "      <td>0.00</td>\n",
       "      <td>53.86</td>\n",
       "      <td>184.77</td>\n",
       "      <td>864.81</td>\n",
       "      <td>859.05</td>\n",
       "    </tr>\n",
       "    <tr>\n",
       "      <td>3</td>\n",
       "      <td>Calendar</td>\n",
       "      <td>2019</td>\n",
       "      <td>7</td>\n",
       "      <td>General City Responsibilities</td>\n",
       "      <td>232108</td>\n",
       "      <td>NaN</td>\n",
       "      <td>911.0</td>\n",
       "      <td>POA</td>\n",
       "      <td>Q000</td>\n",
       "      <td>Police Services</td>\n",
       "      <td>...</td>\n",
       "      <td>124709.01</td>\n",
       "      <td>100499.62</td>\n",
       "      <td>5501.78</td>\n",
       "      <td>230710.41</td>\n",
       "      <td>23271.86</td>\n",
       "      <td>14293.60</td>\n",
       "      <td>3934.00</td>\n",
       "      <td>55975.56</td>\n",
       "      <td>286685.97</td>\n",
       "      <td>180684.57</td>\n",
       "    </tr>\n",
       "    <tr>\n",
       "      <td>4</td>\n",
       "      <td>Calendar</td>\n",
       "      <td>2019</td>\n",
       "      <td>1</td>\n",
       "      <td>Public Protection</td>\n",
       "      <td>DAT</td>\n",
       "      <td>NaN</td>\n",
       "      <td>311.0</td>\n",
       "      <td>Municipal Attorneys Assoc</td>\n",
       "      <td>8100</td>\n",
       "      <td>Legal &amp; Court</td>\n",
       "      <td>...</td>\n",
       "      <td>155489.01</td>\n",
       "      <td>0.00</td>\n",
       "      <td>1500.00</td>\n",
       "      <td>156989.01</td>\n",
       "      <td>29239.75</td>\n",
       "      <td>14308.46</td>\n",
       "      <td>11100.60</td>\n",
       "      <td>69326.83</td>\n",
       "      <td>226315.84</td>\n",
       "      <td>224815.84</td>\n",
       "    </tr>\n",
       "    <tr>\n",
       "      <td>...</td>\n",
       "      <td>...</td>\n",
       "      <td>...</td>\n",
       "      <td>...</td>\n",
       "      <td>...</td>\n",
       "      <td>...</td>\n",
       "      <td>...</td>\n",
       "      <td>...</td>\n",
       "      <td>...</td>\n",
       "      <td>...</td>\n",
       "      <td>...</td>\n",
       "      <td>...</td>\n",
       "      <td>...</td>\n",
       "      <td>...</td>\n",
       "      <td>...</td>\n",
       "      <td>...</td>\n",
       "      <td>...</td>\n",
       "      <td>...</td>\n",
       "      <td>...</td>\n",
       "      <td>...</td>\n",
       "      <td>...</td>\n",
       "      <td>...</td>\n",
       "    </tr>\n",
       "    <tr>\n",
       "      <td>583458</td>\n",
       "      <td>Fiscal</td>\n",
       "      <td>2016</td>\n",
       "      <td>5</td>\n",
       "      <td>Culture &amp; Recreation</td>\n",
       "      <td>REC</td>\n",
       "      <td>REC Recreation &amp; Park Commsn</td>\n",
       "      <td>NaN</td>\n",
       "      <td>NaN</td>\n",
       "      <td>3200</td>\n",
       "      <td>Recreation</td>\n",
       "      <td>...</td>\n",
       "      <td>1394.40</td>\n",
       "      <td>0.00</td>\n",
       "      <td>32.26</td>\n",
       "      <td>1426.66</td>\n",
       "      <td>313.73</td>\n",
       "      <td>517.48</td>\n",
       "      <td>110.54</td>\n",
       "      <td>941.75</td>\n",
       "      <td>2368.41</td>\n",
       "      <td>2336.15</td>\n",
       "    </tr>\n",
       "    <tr>\n",
       "      <td>584393</td>\n",
       "      <td>Fiscal</td>\n",
       "      <td>2016</td>\n",
       "      <td>2</td>\n",
       "      <td>Public Works, Transportation &amp; Commerce</td>\n",
       "      <td>MTA</td>\n",
       "      <td>MTA Municipal Transprtn Agncy</td>\n",
       "      <td>NaN</td>\n",
       "      <td>NaN</td>\n",
       "      <td>9100</td>\n",
       "      <td>Street Transit</td>\n",
       "      <td>...</td>\n",
       "      <td>32013.30</td>\n",
       "      <td>5983.84</td>\n",
       "      <td>2426.29</td>\n",
       "      <td>40423.43</td>\n",
       "      <td>6324.89</td>\n",
       "      <td>4439.12</td>\n",
       "      <td>3245.97</td>\n",
       "      <td>14009.98</td>\n",
       "      <td>54433.41</td>\n",
       "      <td>46023.28</td>\n",
       "    </tr>\n",
       "    <tr>\n",
       "      <td>586221</td>\n",
       "      <td>Fiscal</td>\n",
       "      <td>2016</td>\n",
       "      <td>5</td>\n",
       "      <td>Culture &amp; Recreation</td>\n",
       "      <td>REC</td>\n",
       "      <td>REC Recreation &amp; Park Commsn</td>\n",
       "      <td>NaN</td>\n",
       "      <td>NaN</td>\n",
       "      <td>3200</td>\n",
       "      <td>Recreation</td>\n",
       "      <td>...</td>\n",
       "      <td>4834.20</td>\n",
       "      <td>0.00</td>\n",
       "      <td>112.23</td>\n",
       "      <td>4946.43</td>\n",
       "      <td>1087.72</td>\n",
       "      <td>1794.04</td>\n",
       "      <td>394.55</td>\n",
       "      <td>3276.31</td>\n",
       "      <td>8222.74</td>\n",
       "      <td>8110.51</td>\n",
       "    </tr>\n",
       "    <tr>\n",
       "      <td>586532</td>\n",
       "      <td>Fiscal</td>\n",
       "      <td>2016</td>\n",
       "      <td>2</td>\n",
       "      <td>Public Works, Transportation &amp; Commerce</td>\n",
       "      <td>MTA</td>\n",
       "      <td>MTA Municipal Transprtn Agncy</td>\n",
       "      <td>NaN</td>\n",
       "      <td>NaN</td>\n",
       "      <td>9100</td>\n",
       "      <td>Street Transit</td>\n",
       "      <td>...</td>\n",
       "      <td>11840.00</td>\n",
       "      <td>476.70</td>\n",
       "      <td>601.99</td>\n",
       "      <td>12918.69</td>\n",
       "      <td>2316.75</td>\n",
       "      <td>1995.11</td>\n",
       "      <td>1058.78</td>\n",
       "      <td>5370.64</td>\n",
       "      <td>18289.33</td>\n",
       "      <td>17210.64</td>\n",
       "    </tr>\n",
       "    <tr>\n",
       "      <td>586897</td>\n",
       "      <td>Fiscal</td>\n",
       "      <td>2016</td>\n",
       "      <td>5</td>\n",
       "      <td>Culture &amp; Recreation</td>\n",
       "      <td>REC</td>\n",
       "      <td>REC Recreation &amp; Park Commsn</td>\n",
       "      <td>NaN</td>\n",
       "      <td>NaN</td>\n",
       "      <td>3200</td>\n",
       "      <td>Recreation</td>\n",
       "      <td>...</td>\n",
       "      <td>3897.60</td>\n",
       "      <td>0.00</td>\n",
       "      <td>36.29</td>\n",
       "      <td>3933.89</td>\n",
       "      <td>865.06</td>\n",
       "      <td>1446.45</td>\n",
       "      <td>310.96</td>\n",
       "      <td>2622.47</td>\n",
       "      <td>6556.36</td>\n",
       "      <td>6520.07</td>\n",
       "    </tr>\n",
       "  </tbody>\n",
       "</table>\n",
       "<p>284948 rows × 23 columns</p>\n",
       "</div>"
      ],
      "text/plain": [
       "       Year Type  Year  Organization Group Code  \\\n",
       "0       Calendar  2028                        7   \n",
       "1       Calendar  2028                        1   \n",
       "2         Fiscal  2028                        1   \n",
       "3       Calendar  2019                        7   \n",
       "4       Calendar  2019                        1   \n",
       "...          ...   ...                      ...   \n",
       "583458    Fiscal  2016                        5   \n",
       "584393    Fiscal  2016                        2   \n",
       "586221    Fiscal  2016                        5   \n",
       "586532    Fiscal  2016                        2   \n",
       "586897    Fiscal  2016                        5   \n",
       "\n",
       "                             Organization Group Department Code  \\\n",
       "0                 General City Responsibilities          229259   \n",
       "1                             Public Protection             CRT   \n",
       "2                             Public Protection             CRT   \n",
       "3                 General City Responsibilities          232108   \n",
       "4                             Public Protection             DAT   \n",
       "...                                         ...             ...   \n",
       "583458                     Culture & Recreation             REC   \n",
       "584393  Public Works, Transportation & Commerce             MTA   \n",
       "586221                     Culture & Recreation             REC   \n",
       "586532  Public Works, Transportation & Commerce             MTA   \n",
       "586897                     Culture & Recreation             REC   \n",
       "\n",
       "                           Department  Union Code  \\\n",
       "0                                 NaN       792.0   \n",
       "1                                 NaN       792.0   \n",
       "2                                 NaN       792.0   \n",
       "3                                 NaN       911.0   \n",
       "4                                 NaN       311.0   \n",
       "...                               ...         ...   \n",
       "583458   REC Recreation & Park Commsn         NaN   \n",
       "584393  MTA Municipal Transprtn Agncy         NaN   \n",
       "586221   REC Recreation & Park Commsn         NaN   \n",
       "586532  MTA Municipal Transprtn Agncy         NaN   \n",
       "586897   REC Recreation & Park Commsn         NaN   \n",
       "\n",
       "                                 Union Job Family Code       Job Family  ...  \\\n",
       "0       Utd Pub EmpL790 SEIU-Crt Clrks            0000         Untitled  ...   \n",
       "1       Utd Pub EmpL790 SEIU-Crt Clrks            0000         Untitled  ...   \n",
       "2       Utd Pub EmpL790 SEIU-Crt Clrks            0000         Untitled  ...   \n",
       "3                                  POA            Q000  Police Services  ...   \n",
       "4            Municipal Attorneys Assoc            8100    Legal & Court  ...   \n",
       "...                                ...             ...              ...  ...   \n",
       "583458                             NaN            3200       Recreation  ...   \n",
       "584393                             NaN            9100   Street Transit  ...   \n",
       "586221                             NaN            3200       Recreation  ...   \n",
       "586532                             NaN            9100   Street Transit  ...   \n",
       "586897                             NaN            3200       Recreation  ...   \n",
       "\n",
       "         Salaries   Overtime  Other Salaries  Total Salary  Retirement  \\\n",
       "0          674.28       0.00            5.76        680.04      130.91   \n",
       "1          674.28       0.00            5.76        680.04      130.91   \n",
       "2          674.28       0.00            5.76        680.04      130.91   \n",
       "3       124709.01  100499.62         5501.78     230710.41    23271.86   \n",
       "4       155489.01       0.00         1500.00     156989.01    29239.75   \n",
       "...           ...        ...             ...           ...         ...   \n",
       "583458    1394.40       0.00           32.26       1426.66      313.73   \n",
       "584393   32013.30    5983.84         2426.29      40423.43     6324.89   \n",
       "586221    4834.20       0.00          112.23       4946.43     1087.72   \n",
       "586532   11840.00     476.70          601.99      12918.69     2316.75   \n",
       "586897    3897.60       0.00           36.29       3933.89      865.06   \n",
       "\n",
       "        Health and Dental  Other Benefits  Total Benefits  Total Compensation  \\\n",
       "0                    0.00           53.86          184.77              864.81   \n",
       "1                    0.00           53.86          184.77              864.81   \n",
       "2                    0.00           53.86          184.77              864.81   \n",
       "3                14293.60         3934.00        55975.56           286685.97   \n",
       "4                14308.46        11100.60        69326.83           226315.84   \n",
       "...                   ...             ...             ...                 ...   \n",
       "583458             517.48          110.54          941.75             2368.41   \n",
       "584393            4439.12         3245.97        14009.98            54433.41   \n",
       "586221            1794.04          394.55         3276.31             8222.74   \n",
       "586532            1995.11         1058.78         5370.64            18289.33   \n",
       "586897            1446.45          310.96         2622.47             6556.36   \n",
       "\n",
       "        Guaranteed Compensations  \n",
       "0                         859.05  \n",
       "1                         859.05  \n",
       "2                         859.05  \n",
       "3                      180684.57  \n",
       "4                      224815.84  \n",
       "...                          ...  \n",
       "583458                   2336.15  \n",
       "584393                  46023.28  \n",
       "586221                   8110.51  \n",
       "586532                  17210.64  \n",
       "586897                   6520.07  \n",
       "\n",
       "[284948 rows x 23 columns]"
      ]
     },
     "execution_count": 6,
     "metadata": {},
     "output_type": "execute_result"
    }
   ],
   "source": [
    "obj_df[obj_df.isnull().any(axis=1)]"
   ]
  },
  {
   "cell_type": "code",
   "execution_count": 7,
   "metadata": {},
   "outputs": [
    {
     "name": "stdout",
     "output_type": "stream",
     "text": [
      "3\n",
      "0\n"
     ]
    }
   ],
   "source": [
    "obj_df[\"Year\"] = obj_df[\"Year\"].astype(int)\n",
    "print(obj_df[obj_df.Year > 2019]['Year'].count())\n",
    "obj_df.drop(obj_df.loc[obj_df.Year > 2019].index, inplace=True)\n",
    "print(obj_df[obj_df.Year > 2019]['Year'].count())"
   ]
  },
  {
   "cell_type": "code",
   "execution_count": 8,
   "metadata": {},
   "outputs": [
    {
     "name": "stdout",
     "output_type": "stream",
     "text": [
      "Number of Nulls:  27300\n",
      "DPH       135700\n",
      "MTA        89283\n",
      "POL        48464\n",
      "DSS        34932\n",
      "REC        34917\n",
      "           ...  \n",
      "232395        21\n",
      "229261        21\n",
      "232076        16\n",
      "229047        14\n",
      "232051         8\n",
      "Name: Department Code, Length: 111, dtype: int64\n",
      "Number of Nulls:  0\n"
     ]
    }
   ],
   "source": [
    "print(\"Number of Nulls: \", obj_df[\"Department Code\"].isnull().sum())\n",
    "print(obj_df[\"Department Code\"].value_counts())\n",
    "obj_df = obj_df.fillna({\"Department Code\": \"DPH\"})\n",
    "print(\"Number of Nulls: \", obj_df[\"Department Code\"].isnull().sum())"
   ]
  },
  {
   "cell_type": "code",
   "execution_count": 9,
   "metadata": {},
   "outputs": [
    {
     "name": "stdout",
     "output_type": "stream",
     "text": [
      "Number of Nulls:  284384\n",
      "Number of Nulls:  0\n",
      "(429330, 23)\n",
      "       Year Type  Year  Organization Group Code  \\\n",
      "300980  Calendar  2017                        2   \n",
      "301255  Calendar  2017                        5   \n",
      "301594  Calendar  2017                        5   \n",
      "303128  Calendar  2017                        5   \n",
      "303132  Calendar  2017                        5   \n",
      "...          ...   ...                      ...   \n",
      "583458    Fiscal  2016                        5   \n",
      "584393    Fiscal  2016                        2   \n",
      "586221    Fiscal  2016                        5   \n",
      "586532    Fiscal  2016                        2   \n",
      "586897    Fiscal  2016                        5   \n",
      "\n",
      "                             Organization Group Department Code  \\\n",
      "300980  Public Works, Transportation & Commerce             MTA   \n",
      "301255                     Culture & Recreation             REC   \n",
      "301594                     Culture & Recreation             REC   \n",
      "303128                     Culture & Recreation             REC   \n",
      "303132                     Culture & Recreation             REC   \n",
      "...                                         ...             ...   \n",
      "583458                     Culture & Recreation             REC   \n",
      "584393  Public Works, Transportation & Commerce             MTA   \n",
      "586221                     Culture & Recreation             REC   \n",
      "586532  Public Works, Transportation & Commerce             MTA   \n",
      "586897                     Culture & Recreation             REC   \n",
      "\n",
      "                           Department  Union Code Union Job Family Code  \\\n",
      "300980  MTA Municipal Transprtn Agncy         NaN   NaN            9100   \n",
      "301255   REC Recreation & Park Commsn         NaN   NaN            3200   \n",
      "301594   REC Recreation & Park Commsn         NaN   NaN            3200   \n",
      "303128   REC Recreation & Park Commsn         NaN   NaN            3200   \n",
      "303132   REC Recreation & Park Commsn         NaN   NaN            3200   \n",
      "...                               ...         ...   ...             ...   \n",
      "583458   REC Recreation & Park Commsn         NaN   NaN            3200   \n",
      "584393  MTA Municipal Transprtn Agncy         NaN   NaN            9100   \n",
      "586221   REC Recreation & Park Commsn         NaN   NaN            3200   \n",
      "586532  MTA Municipal Transprtn Agncy         NaN   NaN            9100   \n",
      "586897   REC Recreation & Park Commsn         NaN   NaN            3200   \n",
      "\n",
      "            Job Family  ...  Salaries Overtime  Other Salaries  Total Salary  \\\n",
      "300980  Street Transit  ...  29643.20   143.25         1796.27      31582.72   \n",
      "301255      Recreation  ...   8996.40     0.00            0.00       8996.40   \n",
      "301594      Recreation  ...   8202.61     0.00          234.16       8436.77   \n",
      "303128      Recreation  ...    673.91     0.00            7.94        681.85   \n",
      "303132      Recreation  ...  16232.17     0.00           42.23      16274.40   \n",
      "...                ...  ...       ...      ...             ...           ...   \n",
      "583458      Recreation  ...   1394.40     0.00           32.26       1426.66   \n",
      "584393  Street Transit  ...  32013.30  5983.84         2426.29      40423.43   \n",
      "586221      Recreation  ...   4834.20     0.00          112.23       4946.43   \n",
      "586532  Street Transit  ...  11840.00   476.70          601.99      12918.69   \n",
      "586897      Recreation  ...   3897.60     0.00           36.29       3933.89   \n",
      "\n",
      "        Retirement  Health and Dental  Other Benefits  Total Benefits  \\\n",
      "300980     5731.40            5242.81         2530.76        13504.97   \n",
      "301255        0.00            3675.38          698.26         4373.64   \n",
      "301594        0.00            3351.07          654.83         4005.90   \n",
      "303128        0.00             275.31           52.90          328.21   \n",
      "303132     3359.04            6188.68         1307.98        10855.70   \n",
      "...            ...                ...             ...             ...   \n",
      "583458      313.73             517.48          110.54          941.75   \n",
      "584393     6324.89            4439.12         3245.97        14009.98   \n",
      "586221     1087.72            1794.04          394.55         3276.31   \n",
      "586532     2316.75            1995.11         1058.78         5370.64   \n",
      "586897      865.06            1446.45          310.96         2622.47   \n",
      "\n",
      "        Total Compensation  Guaranteed Compensations  \n",
      "300980            45087.69                  43148.17  \n",
      "301255            13370.04                  13370.04  \n",
      "301594            12442.67                  12208.51  \n",
      "303128             1010.06                   1002.12  \n",
      "303132            27130.10                  27087.87  \n",
      "...                    ...                       ...  \n",
      "583458             2368.41                   2336.15  \n",
      "584393            54433.41                  46023.28  \n",
      "586221             8222.74                   8110.51  \n",
      "586532            18289.33                  17210.64  \n",
      "586897             6556.36                   6520.07  \n",
      "\n",
      "[561 rows x 23 columns]\n"
     ]
    }
   ],
   "source": [
    "print(\"Number of Nulls: \", obj_df[\"Department\"].isnull().sum())\n",
    "#print(obj_df[obj_df[\"Department\"].isnull()]['Department Code'].notnull().count())\n",
    "#obj_df[obj_df[\"Department\"].isnull()]['Department Code'].notnull()\n",
    "#print(obj_df[\"Department\"].value_counts())\n",
    "#obj_df = obj_df.fillna({\"Department\": \"DPH\"})\n",
    "obj_df.dropna(subset=['Department'], how='all', inplace=True)\n",
    "obj_df.reset_index(drop=True)\n",
    "print(\"Number of Nulls: \", obj_df[\"Department\"].isnull().sum())\n",
    "print(obj_df.shape)\n",
    "print(obj_df[obj_df.isnull().any(axis=1)])"
   ]
  },
  {
   "cell_type": "code",
   "execution_count": 10,
   "metadata": {},
   "outputs": [
    {
     "name": "stdout",
     "output_type": "stream",
     "text": [
      "Number of Nulls:  561\n",
      "Number of Nulls:  0\n",
      "(428769, 23)\n"
     ]
    }
   ],
   "source": [
    "print(\"Number of Nulls: \", obj_df[\"Union\"].isnull().sum())\n",
    "#print(obj_df[\"Union\"].value_counts())\n",
    "obj_df.dropna(subset=['Union'], how='all', inplace=True)\n",
    "obj_df.reset_index(drop=True)\n",
    "print(\"Number of Nulls: \", obj_df[\"Union\"].isnull().sum())\n",
    "print(obj_df.shape)"
   ]
  },
  {
   "cell_type": "code",
   "execution_count": 11,
   "metadata": {},
   "outputs": [
    {
     "data": {
      "text/html": [
       "<div>\n",
       "<style scoped>\n",
       "    .dataframe tbody tr th:only-of-type {\n",
       "        vertical-align: middle;\n",
       "    }\n",
       "\n",
       "    .dataframe tbody tr th {\n",
       "        vertical-align: top;\n",
       "    }\n",
       "\n",
       "    .dataframe thead th {\n",
       "        text-align: right;\n",
       "    }\n",
       "</style>\n",
       "<table border=\"1\" class=\"dataframe\">\n",
       "  <thead>\n",
       "    <tr style=\"text-align: right;\">\n",
       "      <th></th>\n",
       "      <th>Year Type</th>\n",
       "      <th>Year</th>\n",
       "      <th>Organization Group Code</th>\n",
       "      <th>Organization Group</th>\n",
       "      <th>Department Code</th>\n",
       "      <th>Department</th>\n",
       "      <th>Union Code</th>\n",
       "      <th>Union</th>\n",
       "      <th>Job Family Code</th>\n",
       "      <th>Job Family</th>\n",
       "      <th>...</th>\n",
       "      <th>Salaries</th>\n",
       "      <th>Overtime</th>\n",
       "      <th>Other Salaries</th>\n",
       "      <th>Total Salary</th>\n",
       "      <th>Retirement</th>\n",
       "      <th>Health and Dental</th>\n",
       "      <th>Other Benefits</th>\n",
       "      <th>Total Benefits</th>\n",
       "      <th>Total Compensation</th>\n",
       "      <th>Guaranteed Compensations</th>\n",
       "    </tr>\n",
       "  </thead>\n",
       "  <tbody>\n",
       "  </tbody>\n",
       "</table>\n",
       "<p>0 rows × 23 columns</p>\n",
       "</div>"
      ],
      "text/plain": [
       "Empty DataFrame\n",
       "Columns: [Year Type, Year, Organization Group Code, Organization Group, Department Code, Department, Union Code, Union, Job Family Code, Job Family, Job Code, Job, Employee Identifier, Salaries, Overtime, Other Salaries, Total Salary, Retirement, Health and Dental, Other Benefits, Total Benefits, Total Compensation, Guaranteed Compensations]\n",
       "Index: []\n",
       "\n",
       "[0 rows x 23 columns]"
      ]
     },
     "execution_count": 11,
     "metadata": {},
     "output_type": "execute_result"
    }
   ],
   "source": [
    "obj_df[obj_df.isnull().any(axis=1)]"
   ]
  },
  {
   "cell_type": "markdown",
   "metadata": {},
   "source": [
    "obj_df[\"Year Type\"] = obj_df[\"Year Type\"].astype('category').cat.codes\n",
    "obj_df[\"Organization Group\"] = obj_df[\"Organization Group\"].astype('category').cat.codes\n",
    "obj_df[\"Job Family Code\"] = obj_df[\"Job Family Code\"].astype('category').cat.codes\n",
    "obj_df[\"Job Family\"] = obj_df[\"Job Family\"].astype('category').cat.codes\n",
    "obj_df[\"Job Code\"] = obj_df[\"Job Code\"].astype('category').cat.codes\n",
    "obj_df[\"Job\"] = obj_df[\"Job\"].astype('category').cat.codes\n",
    "obj_df[\"Department Code\"] = obj_df[\"Department Code\"].astype('category').cat.codes\n",
    "obj_df[\"Union\"] = obj_df[\"Union\"].astype('category').cat.codes\n",
    "obj_df[\"Department\"] = obj_df[\"Department\"].astype('category').cat.codes\n",
    "#obj_df['Year'] = pd.to_datetime(obj_df.Year, format='%Y')"
   ]
  },
  {
   "cell_type": "markdown",
   "metadata": {},
   "source": [
    "obj_df[\"Year Type\"] = obj_df[\"Year Type\"].astype('str')\n",
    "obj_df[\"Organization Group\"] = obj_df[\"Organization Group\"].astype('str')\n",
    "obj_df[\"Job Family Code\"] = obj_df[\"Job Family Code\"].astype('str')\n",
    "obj_df[\"Job Family\"] = obj_df[\"Job Family\"].astype('str')\n",
    "obj_df[\"Job Code\"] = obj_df[\"Job Code\"].astype('str')\n",
    "obj_df[\"Job\"] = obj_df[\"Job\"].astype('str')\n",
    "obj_df[\"Department Code\"] = obj_df[\"Department Code\"].astype('str')\n",
    "obj_df[\"Union\"] = obj_df[\"Union\"].astype('str')\n",
    "obj_df[\"Department\"] = obj_df[\"Department\"].astype('str')\n",
    "obj_df['Year'] = pd.to_datetime(obj_df.Year, format='%Y')"
   ]
  },
  {
   "cell_type": "code",
   "execution_count": 12,
   "metadata": {},
   "outputs": [
    {
     "name": "stdout",
     "output_type": "stream",
     "text": [
      "<class 'pandas.core.frame.DataFrame'>\n",
      "Int64Index: 428769 entries, 300572 to 835306\n",
      "Data columns (total 23 columns):\n",
      "Year Type                   428769 non-null object\n",
      "Year                        428769 non-null int64\n",
      "Organization Group Code     428769 non-null int64\n",
      "Organization Group          428769 non-null object\n",
      "Department Code             428769 non-null object\n",
      "Department                  428769 non-null object\n",
      "Union Code                  428769 non-null float64\n",
      "Union                       428769 non-null object\n",
      "Job Family Code             428769 non-null object\n",
      "Job Family                  428769 non-null object\n",
      "Job Code                    428769 non-null object\n",
      "Job                         428769 non-null object\n",
      "Employee Identifier         428769 non-null int64\n",
      "Salaries                    428769 non-null float64\n",
      "Overtime                    428769 non-null float64\n",
      "Other Salaries              428769 non-null float64\n",
      "Total Salary                428769 non-null float64\n",
      "Retirement                  428769 non-null float64\n",
      "Health and Dental           428769 non-null float64\n",
      "Other Benefits              428769 non-null float64\n",
      "Total Benefits              428769 non-null float64\n",
      "Total Compensation          428769 non-null float64\n",
      "Guaranteed Compensations    428769 non-null float64\n",
      "dtypes: float64(11), int64(3), object(9)\n",
      "memory usage: 78.5+ MB\n"
     ]
    }
   ],
   "source": [
    "obj_df.info()"
   ]
  },
  {
   "cell_type": "markdown",
   "metadata": {},
   "source": [
    "##Approach 1:\n",
    " ### Convert the \"Total Compensation\" to a Label Column with 10 classes and \n",
    " ### then use other features to classify the test data."
   ]
  },
  {
   "cell_type": "markdown",
   "metadata": {},
   "source": [
    "#obj_df.dropna(subset=['genres', 'directors', 'writers', 'startYear'], inplace = True)"
   ]
  },
  {
   "cell_type": "code",
   "execution_count": 13,
   "metadata": {},
   "outputs": [
    {
     "data": {
      "image/png": "[encoded data removed]",
      "text/plain": [
       "<Figure size 1080x1080 with 1 Axes>"
      ]
     },
     "metadata": {
      "needs_background": "light"
     },
     "output_type": "display_data"
    }
   ],
   "source": [
    "import matplotlib.pyplot as plt\n",
    "%matplotlib inline\n",
    "plt.figure(figsize=(15,15))\n",
    "plt.plot(obj_df['Salaries'])\n",
    "plt.show()"
   ]
  },
  {
   "cell_type": "code",
   "execution_count": 14,
   "metadata": {},
   "outputs": [
    {
     "name": "stdout",
     "output_type": "stream",
     "text": [
      "count    428769.000000\n",
      "mean      62014.660909\n",
      "std       43678.115052\n",
      "min           0.030000\n",
      "25%       25599.810000\n",
      "50%       60050.730000\n",
      "75%       89590.710000\n",
      "max      533985.940000\n",
      "Name: Salaries, dtype: float64\n",
      "0\n"
     ]
    }
   ],
   "source": [
    "total_salary_description = obj_df['Salaries'].describe()\n",
    "print(total_salary_description)\n",
    "print(obj_df['Salaries'].isnull().sum())"
   ]
  },
  {
   "cell_type": "code",
   "execution_count": 15,
   "metadata": {},
   "outputs": [],
   "source": [
    "def convrt_to_cat_val(num):\n",
    "    x = ''\n",
    "    if 0<= num <= 25000:\n",
    "        x = \"Low\"\n",
    "    elif 25000 < num <= 50000:\n",
    "        x = \"Average\"\n",
    "    elif 50000 < num <= 75000:\n",
    "        x = \"Above Average\"\n",
    "    elif 75000 < num <= 100000:\n",
    "        x = \"Good\"\n",
    "    elif 100000 < num <= 150000:\n",
    "        x = \"Very Good\"\n",
    "    elif num > 150000:\n",
    "        x = \"Exceptional\"\n",
    "    else: \n",
    "        x = \"Unknown\"\n",
    "    return x"
   ]
  },
  {
   "cell_type": "code",
   "execution_count": 16,
   "metadata": {},
   "outputs": [
    {
     "name": "stdout",
     "output_type": "stream",
     "text": [
      "(428769, 24)\n"
     ]
    }
   ],
   "source": [
    "# Converting the Average Rating to Bins which are equally distributed. \n",
    "obj_df['Salaries_eq_bin'] = obj_df['Salaries'].apply(lambda x: convrt_to_cat_val(x))\n",
    "print(obj_df.shape)"
   ]
  },
  {
   "cell_type": "code",
   "execution_count": 17,
   "metadata": {},
   "outputs": [
    {
     "name": "stdout",
     "output_type": "stream",
     "text": [
      "['Above Average' 'Average' 'Exceptional' 'Good' 'Low' 'Very Good']\n"
     ]
    }
   ],
   "source": [
    "print(np.unique(obj_df['Salaries_eq_bin']))"
   ]
  },
  {
   "cell_type": "code",
   "execution_count": 18,
   "metadata": {},
   "outputs": [
    {
     "data": {
      "image/png": "[encoded data removed]",
      "text/plain": [
       "<Figure size 432x288 with 1 Axes>"
      ]
     },
     "metadata": {},
     "output_type": "display_data"
    }
   ],
   "source": [
    "import matplotlib.pyplot as plt \n",
    "import seaborn as sns\n",
    "sns.set(style=\"white\")\n",
    "sns.set(style=\"whitegrid\", color_codes=True)\n",
    "\n",
    "#draw histogram plot\n",
    "sns.countplot(obj_df['Salaries_eq_bin'], palette = 'hls')\n",
    "plt.show()"
   ]
  },
  {
   "cell_type": "markdown",
   "metadata": {},
   "source": [
    "library for plots\n",
    "import seaborn as sns\n",
    "import matplotlib.pyplot as plt\n",
    " \n",
    "Basic correlogram\n",
    "sns.pairplot(obj_df)\n",
    "plt.show()\n",
    "\n",
    "corr = obj_df.corr()\n",
    "corr.style.background_gradient(cmap='coolwarm')"
   ]
  },
  {
   "cell_type": "markdown",
   "metadata": {},
   "source": [
    "import pickle\n",
    "obj_df.to_pickle('my_ready_df.pickle')\n",
    "##del obj_df"
   ]
  },
  {
   "cell_type": "markdown",
   "metadata": {},
   "source": [
    "import pandas as pd\n",
    "import pickle\n",
    "from sklearn.model_selection import train_test_split\n",
    "!pip install imblearn\n",
    "from imblearn.over_sampling import SMOTE\n",
    "df = pd.read_pickle('my_ready_df.pickle')"
   ]
  },
  {
   "cell_type": "code",
   "execution_count": 19,
   "metadata": {},
   "outputs": [
    {
     "name": "stdout",
     "output_type": "stream",
     "text": [
      "(428769, 24)\n",
      "(107192, 24)\n"
     ]
    }
   ],
   "source": [
    "#Due to memory limitation, I am slicing the dtaframe to 20% of the data.\n",
    "from sklearn.utils import shuffle\n",
    "#df = shuffle(obj_df)\n",
    "df1 = obj_df.sample(frac=0.25).reset_index(drop=True)\n",
    "print(obj_df.shape)\n",
    "print(df1.shape)"
   ]
  },
  {
   "cell_type": "code",
   "execution_count": 20,
   "metadata": {},
   "outputs": [
    {
     "name": "stdout",
     "output_type": "stream",
     "text": [
      "<class 'pandas.core.frame.DataFrame'>\n",
      "RangeIndex: 107192 entries, 0 to 107191\n",
      "Data columns (total 24 columns):\n",
      "Year Type                   107192 non-null object\n",
      "Year                        107192 non-null int64\n",
      "Organization Group Code     107192 non-null int64\n",
      "Organization Group          107192 non-null object\n",
      "Department Code             107192 non-null object\n",
      "Department                  107192 non-null object\n",
      "Union Code                  107192 non-null float64\n",
      "Union                       107192 non-null object\n",
      "Job Family Code             107192 non-null object\n",
      "Job Family                  107192 non-null object\n",
      "Job Code                    107192 non-null object\n",
      "Job                         107192 non-null object\n",
      "Employee Identifier         107192 non-null int64\n",
      "Salaries                    107192 non-null float64\n",
      "Overtime                    107192 non-null float64\n",
      "Other Salaries              107192 non-null float64\n",
      "Total Salary                107192 non-null float64\n",
      "Retirement                  107192 non-null float64\n",
      "Health and Dental           107192 non-null float64\n",
      "Other Benefits              107192 non-null float64\n",
      "Total Benefits              107192 non-null float64\n",
      "Total Compensation          107192 non-null float64\n",
      "Guaranteed Compensations    107192 non-null float64\n",
      "Salaries_eq_bin             107192 non-null object\n",
      "dtypes: float64(11), int64(3), object(10)\n",
      "memory usage: 19.6+ MB\n",
      "None\n",
      "Index(['Year Type', 'Year', 'Organization Group Code', 'Organization Group',\n",
      "       'Department Code', 'Department', 'Union Code', 'Union',\n",
      "       'Job Family Code', 'Job Family', 'Job Code', 'Job',\n",
      "       'Employee Identifier', 'Salaries', 'Overtime', 'Other Salaries',\n",
      "       'Total Salary', 'Retirement', 'Health and Dental', 'Other Benefits',\n",
      "       'Total Benefits', 'Total Compensation', 'Guaranteed Compensations',\n",
      "       'Salaries_eq_bin'],\n",
      "      dtype='object')\n"
     ]
    }
   ],
   "source": [
    "print(df1.info())\n",
    "print(df1.columns)"
   ]
  },
  {
   "cell_type": "code",
   "execution_count": 21,
   "metadata": {},
   "outputs": [
    {
     "name": "stdout",
     "output_type": "stream",
     "text": [
      "<class 'pandas.core.frame.DataFrame'>\n",
      "RangeIndex: 107192 entries, 0 to 107191\n",
      "Data columns (total 19 columns):\n",
      "Year Type                   107192 non-null object\n",
      "Year                        107192 non-null int64\n",
      "Organization Group Code     107192 non-null int64\n",
      "Organization Group          107192 non-null object\n",
      "Department Code             107192 non-null object\n",
      "Department                  107192 non-null object\n",
      "Union Code                  107192 non-null float64\n",
      "Union                       107192 non-null object\n",
      "Job Family Code             107192 non-null object\n",
      "Job Family                  107192 non-null object\n",
      "Job Code                    107192 non-null object\n",
      "Job                         107192 non-null object\n",
      "Overtime                    107192 non-null float64\n",
      "Other Salaries              107192 non-null float64\n",
      "Retirement                  107192 non-null float64\n",
      "Health and Dental           107192 non-null float64\n",
      "Other Benefits              107192 non-null float64\n",
      "Total Benefits              107192 non-null float64\n",
      "Guaranteed Compensations    107192 non-null float64\n",
      "dtypes: float64(8), int64(2), object(9)\n",
      "memory usage: 15.5+ MB\n",
      "None\n",
      "Salaries_eq_bin    0\n",
      "dtype: int64\n",
      "['Above Average' 'Average' 'Exceptional' 'Good' 'Low' 'Very Good']\n"
     ]
    }
   ],
   "source": [
    "#X = df1.drop(columns=['Salaries_eq_bin'])\n",
    "X = df1[['Year Type', 'Year', 'Organization Group Code', 'Organization Group',\n",
    "       'Department Code', 'Department', 'Union Code', 'Union',\n",
    "       'Job Family Code', 'Job Family', 'Job Code', 'Job', 'Overtime', 'Other Salaries', 'Retirement', 'Health and Dental', 'Other Benefits',\n",
    "       'Total Benefits', 'Guaranteed Compensations']].copy(deep=True)\n",
    "print(X.info())\n",
    "y = df1[['Salaries_eq_bin']].copy(deep=True)\n",
    "print(y.isnull().sum())\n",
    "print(np.unique(df1[['Salaries_eq_bin']]))"
   ]
  },
  {
   "cell_type": "code",
   "execution_count": 22,
   "metadata": {},
   "outputs": [
    {
     "data": {
      "text/html": [
       "<div>\n",
       "<style scoped>\n",
       "    .dataframe tbody tr th:only-of-type {\n",
       "        vertical-align: middle;\n",
       "    }\n",
       "\n",
       "    .dataframe tbody tr th {\n",
       "        vertical-align: top;\n",
       "    }\n",
       "\n",
       "    .dataframe thead th {\n",
       "        text-align: right;\n",
       "    }\n",
       "</style>\n",
       "<table border=\"1\" class=\"dataframe\">\n",
       "  <thead>\n",
       "    <tr style=\"text-align: right;\">\n",
       "      <th></th>\n",
       "      <th>Year Type</th>\n",
       "      <th>Year</th>\n",
       "      <th>Organization Group Code</th>\n",
       "      <th>Organization Group</th>\n",
       "      <th>Department Code</th>\n",
       "      <th>Department</th>\n",
       "      <th>Union Code</th>\n",
       "      <th>Union</th>\n",
       "      <th>Job Family Code</th>\n",
       "      <th>Job Family</th>\n",
       "      <th>...</th>\n",
       "      <th>Overtime</th>\n",
       "      <th>Other Salaries</th>\n",
       "      <th>Total Salary</th>\n",
       "      <th>Retirement</th>\n",
       "      <th>Health and Dental</th>\n",
       "      <th>Other Benefits</th>\n",
       "      <th>Total Benefits</th>\n",
       "      <th>Total Compensation</th>\n",
       "      <th>Guaranteed Compensations</th>\n",
       "      <th>Salaries_eq_bin</th>\n",
       "    </tr>\n",
       "  </thead>\n",
       "  <tbody>\n",
       "  </tbody>\n",
       "</table>\n",
       "<p>0 rows × 24 columns</p>\n",
       "</div>"
      ],
      "text/plain": [
       "Empty DataFrame\n",
       "Columns: [Year Type, Year, Organization Group Code, Organization Group, Department Code, Department, Union Code, Union, Job Family Code, Job Family, Job Code, Job, Employee Identifier, Salaries, Overtime, Other Salaries, Total Salary, Retirement, Health and Dental, Other Benefits, Total Benefits, Total Compensation, Guaranteed Compensations, Salaries_eq_bin]\n",
       "Index: []\n",
       "\n",
       "[0 rows x 24 columns]"
      ]
     },
     "execution_count": 22,
     "metadata": {},
     "output_type": "execute_result"
    }
   ],
   "source": [
    "df1[df1.isnull().any(axis=1)]"
   ]
  },
  {
   "cell_type": "code",
   "execution_count": 23,
   "metadata": {},
   "outputs": [],
   "source": [
    "from sklearn.model_selection import train_test_split\n",
    "\n",
    "## Feature Selection\n",
    "ratio_train = 0.8\n",
    "ratio_val = 0.1\n",
    "ratio_test = 0.1\n",
    "\n",
    "# Produces test split.\n",
    "x_remaining, X_test, y_remaining, y_test = train_test_split(X, y, test_size=ratio_test)\n",
    "\n",
    "# Adjusts val ratio, w.r.t. remaining dataset.\n",
    "ratio_remaining = 1 - ratio_test\n",
    "ratio_val_adjusted = ratio_val / ratio_remaining\n",
    "\n",
    "# Produces train and val splits.\n",
    "X_train, X_val, y_train, y_val = train_test_split(\n",
    "    x_remaining, y_remaining, test_size=ratio_val_adjusted)\n",
    "\n",
    "#X_train, X_test, y_train, y_test = train_test_split(X, y, test_size=0.80, random_state=42)"
   ]
  },
  {
   "cell_type": "code",
   "execution_count": 24,
   "metadata": {},
   "outputs": [
    {
     "name": "stdout",
     "output_type": "stream",
     "text": [
      "['Year Type', 'Organization Group', 'Department Code', 'Department', 'Union', 'Job Family Code', 'Job Family', 'Job Code', 'Job']\n"
     ]
    }
   ],
   "source": [
    "# Categorical boolean mask\n",
    "categorical_feature_mask = X.dtypes==object\n",
    "# filter categorical columns using mask and turn it into a list\n",
    "categorical_cols = X.columns[categorical_feature_mask].tolist()\n",
    "print(categorical_cols)"
   ]
  },
  {
   "cell_type": "code",
   "execution_count": 25,
   "metadata": {},
   "outputs": [],
   "source": [
    "# import labelencoder\n",
    "from sklearn.preprocessing import LabelEncoder# instantiate labelencoder object\n",
    "le = LabelEncoder()"
   ]
  },
  {
   "cell_type": "code",
   "execution_count": 26,
   "metadata": {},
   "outputs": [
    {
     "name": "stdout",
     "output_type": "stream",
     "text": [
      "        Year Type  Organization Group  Department Code  Department  Union  \\\n",
      "12941           1                   6               37          39     73   \n",
      "24150           1                   0               20          20     61   \n",
      "56346           0                   0               20          20     60   \n",
      "50474           0                   1               35          37     36   \n",
      "101142          1                   5               14          14     52   \n",
      "70605           1                   5               41          42     47   \n",
      "85842           0                   4               22          34     54   \n",
      "47953           1                   5               28          27     18   \n",
      "30390           0                   6               29          30     36   \n",
      "56126           0                   2                7           8     32   \n",
      "\n",
      "        Job Family Code  Job Family  Job Code   Job  \n",
      "12941                47          52       964  1038  \n",
      "24150                13          31      1074   931  \n",
      "56346                 7          33       188   449  \n",
      "50474                 0          27        46   302  \n",
      "101142               54          49       554   268  \n",
      "70605                53          35      1077   737  \n",
      "85842                 3          34       114   874  \n",
      "47953                52          17      1046   350  \n",
      "30390                 0          27        38   578  \n",
      "56126                42          25       851    71  \n",
      "12941     0\n",
      "24150     0\n",
      "56346     0\n",
      "50474     4\n",
      "101142    5\n",
      "70605     1\n",
      "85842     0\n",
      "47953     0\n",
      "30390     5\n",
      "56126     2\n",
      "Name: Salaries_eq_bin, dtype: int64\n"
     ]
    },
    {
     "name": "stderr",
     "output_type": "stream",
     "text": [
      "/Applications/anaconda3/lib/python3.7/site-packages/pandas/core/frame.py:3494: SettingWithCopyWarning: \n",
      "A value is trying to be set on a copy of a slice from a DataFrame.\n",
      "Try using .loc[row_indexer,col_indexer] = value instead\n",
      "\n",
      "See the caveats in the documentation: http://pandas.pydata.org/pandas-docs/stable/user_guide/indexing.html#returning-a-view-versus-a-copy\n",
      "  self[k1] = value[k2]\n",
      "/Applications/anaconda3/lib/python3.7/site-packages/ipykernel_launcher.py:6: SettingWithCopyWarning: \n",
      "A value is trying to be set on a copy of a slice from a DataFrame.\n",
      "Try using .loc[row_indexer,col_indexer] = value instead\n",
      "\n",
      "See the caveats in the documentation: http://pandas.pydata.org/pandas-docs/stable/user_guide/indexing.html#returning-a-view-versus-a-copy\n",
      "  \n",
      "/Applications/anaconda3/lib/python3.7/site-packages/ipykernel_launcher.py:7: SettingWithCopyWarning: \n",
      "A value is trying to be set on a copy of a slice from a DataFrame.\n",
      "Try using .loc[row_indexer,col_indexer] = value instead\n",
      "\n",
      "See the caveats in the documentation: http://pandas.pydata.org/pandas-docs/stable/user_guide/indexing.html#returning-a-view-versus-a-copy\n",
      "  import sys\n",
      "/Applications/anaconda3/lib/python3.7/site-packages/ipykernel_launcher.py:8: SettingWithCopyWarning: \n",
      "A value is trying to be set on a copy of a slice from a DataFrame.\n",
      "Try using .loc[row_indexer,col_indexer] = value instead\n",
      "\n",
      "See the caveats in the documentation: http://pandas.pydata.org/pandas-docs/stable/user_guide/indexing.html#returning-a-view-versus-a-copy\n",
      "  \n"
     ]
    }
   ],
   "source": [
    "# apply le on categorical feature columns\n",
    "X_train[categorical_cols] = X_train[categorical_cols].apply(lambda col: le.fit_transform(col))\n",
    "X_test[categorical_cols] = X_test[categorical_cols].apply(lambda col: le.fit_transform(col))\n",
    "X_val[categorical_cols] = X_val[categorical_cols].apply(lambda col: le.fit_transform(col))\n",
    "\n",
    "y_train['Salaries_eq_bin'] = le.fit_transform(y_train['Salaries_eq_bin'])\n",
    "y_test['Salaries_eq_bin'] = le.fit_transform(y_test['Salaries_eq_bin'])\n",
    "y_val['Salaries_eq_bin'] = le.fit_transform(y_val['Salaries_eq_bin'])\n",
    "\n",
    "print(X_train[categorical_cols].head(10))\n",
    "print(y_train['Salaries_eq_bin'].head(10))"
   ]
  },
  {
   "cell_type": "code",
   "execution_count": 27,
   "metadata": {},
   "outputs": [
    {
     "name": "stderr",
     "output_type": "stream",
     "text": [
      "/Applications/anaconda3/lib/python3.7/site-packages/sklearn/preprocessing/_encoders.py:451: DeprecationWarning: The 'categorical_features' keyword is deprecated in version 0.20 and will be removed in 0.22. You can use the ColumnTransformer instead.\n",
      "  \"use the ColumnTransformer instead.\", DeprecationWarning)\n"
     ]
    },
    {
     "name": "stdout",
     "output_type": "stream",
     "text": [
      "categories:  OneHotEncoder(categorical_features=Year Type                    True\n",
      "Year                        False\n",
      "Organization Group Code     False\n",
      "Organization Group           True\n",
      "Department Code              True\n",
      "Department                   True\n",
      "Union Code                  False\n",
      "Union                        True\n",
      "Job Family Code              True\n",
      "Job Family                   True\n",
      "Job Code                     True\n",
      "Job                          True\n",
      "Overtime                    False\n",
      "Other Salaries              False\n",
      "Retirement                  False\n",
      "Health and Dental           False\n",
      "Other Benefits              False\n",
      "Total Benefits              False\n",
      "Guaranteed Compensations    False\n",
      "dtype: bool,\n",
      "              categories=None, drop=None, dtype=<class 'numpy.float64'>,\n",
      "              handle_unknown='ignore', n_values=None, sparse=True)\n"
     ]
    }
   ],
   "source": [
    "from sklearn.preprocessing import OneHotEncoder\n",
    "ohe = OneHotEncoder(sparse=True, categorical_features = categorical_feature_mask, handle_unknown='ignore', drop=None)\n",
    "print(\"categories: \" , ohe)\n",
    "X_train_ohe = ohe.fit_transform(X_train)\n",
    "#print(X_train_ohe)"
   ]
  },
  {
   "cell_type": "code",
   "execution_count": 28,
   "metadata": {},
   "outputs": [],
   "source": [
    "X_test_ohe = ohe.transform(X_test)\n",
    "#print(X_test_ohe)"
   ]
  },
  {
   "cell_type": "code",
   "execution_count": 29,
   "metadata": {},
   "outputs": [],
   "source": [
    "X_val_ohe = ohe.transform(X_val)\n",
    "#print(X_val_ohe)"
   ]
  },
  {
   "cell_type": "code",
   "execution_count": 30,
   "metadata": {},
   "outputs": [
    {
     "name": "stdout",
     "output_type": "stream",
     "text": [
      "There are 85752 rows and 2498 columns\n",
      "There are 10720 rows and 2498 columns\n",
      "There are 10720 rows and 2498 columns\n",
      "There are 85752 rows and 1 columns\n",
      "There are 10720 rows and 1 columns\n",
      "There are 10720 rows and 1 columns\n"
     ]
    }
   ],
   "source": [
    "def display_shape(dframe):\n",
    "    nRow, nCol = dframe.shape\n",
    "    print(f'There are {nRow} rows and {nCol} columns')\n",
    "\n",
    "#print(X_train_ohe.shape)\n",
    "#print(X_test_ohe.shape)\n",
    "#print(X_val_ohe.shape)\n",
    "#print(y_train.shape)\n",
    "#print(y_test.shape)\n",
    "#print(y_val.shape)\n",
    "display_shape(X_train_ohe)\n",
    "display_shape(X_test_ohe)\n",
    "display_shape(X_val_ohe)\n",
    "display_shape(y_train)\n",
    "display_shape(y_test)\n",
    "display_shape(y_val)"
   ]
  },
  {
   "cell_type": "markdown",
   "metadata": {},
   "source": [
    "column_name = ohe.get_feature_names(['Overtime', \n",
    "         'Other Salaries','Health and Dental', 'Other Benefits',\n",
    "       'Total Benefits', 'Total Compensation', 'Guaranteed Compensations'])\n",
    "one_hot_encoded_frame =  pd.DataFrame(X_train_ohe, columns= column_name)\n",
    "print(one_hot_encoded_frame.head)"
   ]
  },
  {
   "cell_type": "code",
   "execution_count": 31,
   "metadata": {},
   "outputs": [],
   "source": [
    "import numpy as np\n",
    "import matplotlib.pyplot as plt\n",
    "from matplotlib.colors import ListedColormap\n",
    "from sklearn.model_selection import train_test_split\n",
    "from sklearn.preprocessing import StandardScaler\n",
    "from sklearn.datasets import fetch_20newsgroups_vectorized \n",
    "from sklearn.neural_network import MLPClassifier\n",
    "from sklearn.neighbors import KNeighborsClassifier\n",
    "from sklearn.svm import LinearSVC, SVC\n",
    "from sklearn.gaussian_process import GaussianProcessClassifier\n",
    "from sklearn.gaussian_process.kernels import RBF\n",
    "from sklearn.tree import DecisionTreeClassifier\n",
    "from sklearn.ensemble import RandomForestClassifier, AdaBoostClassifier\n",
    "from sklearn.naive_bayes import GaussianNB\n",
    "from sklearn.discriminant_analysis import QuadraticDiscriminantAnalysis\n",
    "import pandas as pd\n",
    "from sklearn.model_selection import cross_validate\n",
    "from sklearn.metrics import recall_score\n",
    "from sklearn.utils import class_weight\n",
    "h = .02  # step size in the mesh"
   ]
  },
  {
   "cell_type": "code",
   "execution_count": 32,
   "metadata": {},
   "outputs": [],
   "source": [
    "from sklearn.metrics import confusion_matrix\n",
    "def execute_model(names,classifiers):\n",
    "    i = 1\n",
    "    # iterate over datasets\n",
    "    results = {}\n",
    "    #class_weights = class_weight.compute_class_weight('balanced',np.unique(y_train), y_train)\n",
    "    for name, clf in zip(names, classifiers):\n",
    "        import time        \n",
    "        cur_time = time.time()\n",
    "        clf.fit(X_train_ohe, y_train.values.ravel())\n",
    "        #clf.fit(X_train_ohe, y_train, sample_weight = class_weights)\n",
    "        training_time = time.time() - cur_time\n",
    "        cur_time = time.time()\n",
    "        score = clf.score(X_test_ohe, y_test.values.ravel())\n",
    "        testing_time = time.time() - cur_time\n",
    "        \n",
    "        cur_time = time.time()\n",
    "        train_accuracy = clf.score(X_train_ohe, y_train.values.ravel())\n",
    "        scoring = ['precision_macro', 'recall_macro']\n",
    "        scores = cross_validate(clf, X_val_ohe, y_val.values.ravel(), scoring = scoring, cv=2)\n",
    "        sorted(scores.keys())\n",
    "        score_time = time.time() - cur_time\n",
    "        print(name)\n",
    "        print(scores)\n",
    "        #print(\"Cross Validation Accuracy: %0.2f (+/- %0.2f)\" % (scores.mean(), scores.std() * 2))\n",
    "        results[name] = [training_time, testing_time, score_time, train_accuracy, score]\n",
    "        i += 1\n",
    "        print('executing: ' + name)\n",
    "        dfk = pd.DataFrame.from_dict(\n",
    "            results, orient='index',\n",
    "            columns=['Train Time', 'Test Time', 'Cross validation Time','Train Acc', 'Test Acc'])\n",
    "    display(dfk)"
   ]
  },
  {
   "cell_type": "code",
   "execution_count": 33,
   "metadata": {},
   "outputs": [
    {
     "name": "stdout",
     "output_type": "stream",
     "text": [
      "XGBClassifier\n",
      "{'fit_time': array([20.56941414, 20.42533398]), 'score_time': array([0.22425604, 0.17624426]), 'test_precision_macro': array([0.95488035, 0.96120974]), 'test_recall_macro': array([0.95261916, 0.96301077])}\n",
      "executing: XGBClassifier\n"
     ]
    },
    {
     "data": {
      "text/html": [
       "<div>\n",
       "<style scoped>\n",
       "    .dataframe tbody tr th:only-of-type {\n",
       "        vertical-align: middle;\n",
       "    }\n",
       "\n",
       "    .dataframe tbody tr th {\n",
       "        vertical-align: top;\n",
       "    }\n",
       "\n",
       "    .dataframe thead th {\n",
       "        text-align: right;\n",
       "    }\n",
       "</style>\n",
       "<table border=\"1\" class=\"dataframe\">\n",
       "  <thead>\n",
       "    <tr style=\"text-align: right;\">\n",
       "      <th></th>\n",
       "      <th>Train Time</th>\n",
       "      <th>Test Time</th>\n",
       "      <th>Cross validation Time</th>\n",
       "      <th>Train Acc</th>\n",
       "      <th>Test Acc</th>\n",
       "    </tr>\n",
       "  </thead>\n",
       "  <tbody>\n",
       "    <tr>\n",
       "      <td>XGBClassifier</td>\n",
       "      <td>297.717277</td>\n",
       "      <td>0.212527</td>\n",
       "      <td>43.112667</td>\n",
       "      <td>0.995464</td>\n",
       "      <td>0.991325</td>\n",
       "    </tr>\n",
       "  </tbody>\n",
       "</table>\n",
       "</div>"
      ],
      "text/plain": [
       "               Train Time  Test Time  Cross validation Time  Train Acc  \\\n",
       "XGBClassifier  297.717277   0.212527              43.112667   0.995464   \n",
       "\n",
       "               Test Acc  \n",
       "XGBClassifier  0.991325  "
      ]
     },
     "metadata": {},
     "output_type": "display_data"
    }
   ],
   "source": [
    "import random\n",
    "#XGBClassifier\n",
    "#https://www.kaggle.com/stuarthallows/using-xgboost-with-scikit-learn\n",
    "#!pip install xgboost\n",
    "from xgboost import XGBClassifier as xgb\n",
    "names = [\"XGBClassifier\"]\n",
    "xgb_params = {'learning_rate': 0.25, \n",
    "              'max_depth': 15,\n",
    "              'subsample': 0.5,        \n",
    "              'colsample_bytree': 0.9,\n",
    "              'objective': 'multi:softmax',\n",
    "              'silent': 1, \n",
    "              'n_estimators':190,\n",
    "              'scale_pos_weight': 0.8,\n",
    "              'gamma':6,         \n",
    "              'min_child_weight':8,\n",
    "              \"subsample\": random.uniform(0.6, 0.4),\n",
    "              'eta':1\n",
    "            }   \n",
    "\n",
    "classifiers = [xgb(**xgb_params, seed = 10, num_boost_round=10, nfold=5,\n",
    "             metrics={'error'})]\n",
    "execute_model(names,classifiers)"
   ]
  },
  {
   "cell_type": "code",
   "execution_count": 34,
   "metadata": {},
   "outputs": [],
   "source": [
    "namesAll = [\"Decision Tree\", \n",
    "            \"Random Forest\", \n",
    "            \"Neural Net\", \n",
    "            \"AdaBoost\",\n",
    "            \"Nearest Neighbors\",\n",
    "            \"RBF SVM\", \n",
    "            \"Linear SVM\"]\n",
    "            \n",
    "\n",
    "classifiersAll = [DecisionTreeClassifier(max_depth=5),\n",
    "    RandomForestClassifier(max_depth=5, n_estimators=10, max_features=1),\n",
    "    MLPClassifier(alpha=1, max_iter=1000),\n",
    "    AdaBoostClassifier(),\n",
    "    KNeighborsClassifier(3),\n",
    "    SVC(gamma=1, C=0.8, class_weight=\"balanced\"),\n",
    "    SVC(kernel=\"linear\", C=0.25, class_weight=\"balanced\", random_state=0)]"
   ]
  },
  {
   "cell_type": "code",
   "execution_count": 35,
   "metadata": {},
   "outputs": [
    {
     "name": "stdout",
     "output_type": "stream",
     "text": [
      "Decision Tree\n",
      "{'fit_time': array([0.04305792, 0.04152203]), 'score_time': array([0.00693703, 0.00748205]), 'test_precision_macro': array([0.9477451 , 0.94634365]), 'test_recall_macro': array([0.94364373, 0.95145523])}\n",
      "executing: Decision Tree\n"
     ]
    },
    {
     "name": "stderr",
     "output_type": "stream",
     "text": [
      "/Applications/anaconda3/lib/python3.7/site-packages/sklearn/metrics/classification.py:1437: UndefinedMetricWarning: Precision is ill-defined and being set to 0.0 in labels with no predicted samples.\n",
      "  'precision', 'predicted', average, warn_for)\n",
      "/Applications/anaconda3/lib/python3.7/site-packages/sklearn/metrics/classification.py:1437: UndefinedMetricWarning: Precision is ill-defined and being set to 0.0 in labels with no predicted samples.\n",
      "  'precision', 'predicted', average, warn_for)\n"
     ]
    },
    {
     "name": "stdout",
     "output_type": "stream",
     "text": [
      "Random Forest\n",
      "{'fit_time': array([0.02686524, 0.02423286]), 'score_time': array([0.02254581, 0.01987004]), 'test_precision_macro': array([0.48739044, 0.48703082]), 'test_recall_macro': array([0.33014037, 0.2098799 ])}\n",
      "executing: Random Forest\n",
      "Neural Net\n",
      "{'fit_time': array([7.70464396, 4.49593806]), 'score_time': array([0.0271821 , 0.02722406]), 'test_precision_macro': array([0.85401308, 0.75735726]), 'test_recall_macro': array([0.84082658, 0.7085275 ])}\n",
      "executing: Neural Net\n"
     ]
    },
    {
     "name": "stderr",
     "output_type": "stream",
     "text": [
      "/Applications/anaconda3/lib/python3.7/site-packages/sklearn/metrics/classification.py:1437: UndefinedMetricWarning: Precision is ill-defined and being set to 0.0 in labels with no predicted samples.\n",
      "  'precision', 'predicted', average, warn_for)\n",
      "/Applications/anaconda3/lib/python3.7/site-packages/sklearn/metrics/classification.py:1437: UndefinedMetricWarning: Precision is ill-defined and being set to 0.0 in labels with no predicted samples.\n",
      "  'precision', 'predicted', average, warn_for)\n"
     ]
    },
    {
     "name": "stdout",
     "output_type": "stream",
     "text": [
      "AdaBoost\n",
      "{'fit_time': array([0.78522873, 0.74697804]), 'score_time': array([0.12772512, 0.13401604]), 'test_precision_macro': array([0.4295607 , 0.54074823]), 'test_recall_macro': array([0.62755611, 0.63105737])}\n",
      "executing: AdaBoost\n",
      "Nearest Neighbors\n",
      "{'fit_time': array([0.00251198, 0.00175428]), 'score_time': array([3.11642408, 3.10862374]), 'test_precision_macro': array([0.96917392, 0.97001444]), 'test_recall_macro': array([0.96433017, 0.97109196])}\n",
      "executing: Nearest Neighbors\n",
      "RBF SVM\n",
      "{'fit_time': array([4.58242106, 4.04844522]), 'score_time': array([4.51832604, 4.53855896]), 'test_precision_macro': array([0.87370989, 0.87538327]), 'test_recall_macro': array([0.17367034, 0.1737384 ])}\n",
      "executing: RBF SVM\n",
      "Linear SVM\n",
      "{'fit_time': array([0.12290001, 0.23503709]), 'score_time': array([0.06363583, 0.09222388]), 'test_precision_macro': array([0.99325992, 0.99630056]), 'test_recall_macro': array([0.98972672, 0.99535306])}\n",
      "executing: Linear SVM\n"
     ]
    },
    {
     "data": {
      "text/html": [
       "<div>\n",
       "<style scoped>\n",
       "    .dataframe tbody tr th:only-of-type {\n",
       "        vertical-align: middle;\n",
       "    }\n",
       "\n",
       "    .dataframe tbody tr th {\n",
       "        vertical-align: top;\n",
       "    }\n",
       "\n",
       "    .dataframe thead th {\n",
       "        text-align: right;\n",
       "    }\n",
       "</style>\n",
       "<table border=\"1\" class=\"dataframe\">\n",
       "  <thead>\n",
       "    <tr style=\"text-align: right;\">\n",
       "      <th></th>\n",
       "      <th>Train Time</th>\n",
       "      <th>Test Time</th>\n",
       "      <th>Cross validation Time</th>\n",
       "      <th>Train Acc</th>\n",
       "      <th>Test Acc</th>\n",
       "    </tr>\n",
       "  </thead>\n",
       "  <tbody>\n",
       "    <tr>\n",
       "      <td>Decision Tree</td>\n",
       "      <td>0.655684</td>\n",
       "      <td>0.004436</td>\n",
       "      <td>0.132986</td>\n",
       "      <td>0.957365</td>\n",
       "      <td>0.950653</td>\n",
       "    </tr>\n",
       "    <tr>\n",
       "      <td>Random Forest</td>\n",
       "      <td>0.157632</td>\n",
       "      <td>0.016901</td>\n",
       "      <td>0.216051</td>\n",
       "      <td>0.256146</td>\n",
       "      <td>0.234049</td>\n",
       "    </tr>\n",
       "    <tr>\n",
       "      <td>Neural Net</td>\n",
       "      <td>183.240459</td>\n",
       "      <td>0.071461</td>\n",
       "      <td>12.702081</td>\n",
       "      <td>0.991487</td>\n",
       "      <td>0.993937</td>\n",
       "    </tr>\n",
       "    <tr>\n",
       "      <td>AdaBoost</td>\n",
       "      <td>8.279554</td>\n",
       "      <td>0.119834</td>\n",
       "      <td>2.657209</td>\n",
       "      <td>0.537503</td>\n",
       "      <td>0.549907</td>\n",
       "    </tr>\n",
       "    <tr>\n",
       "      <td>Nearest Neighbors</td>\n",
       "      <td>0.027761</td>\n",
       "      <td>49.486523</td>\n",
       "      <td>410.157930</td>\n",
       "      <td>0.994437</td>\n",
       "      <td>0.986474</td>\n",
       "    </tr>\n",
       "    <tr>\n",
       "      <td>RBF SVM</td>\n",
       "      <td>3730.064405</td>\n",
       "      <td>78.545982</td>\n",
       "      <td>639.264606</td>\n",
       "      <td>1.000000</td>\n",
       "      <td>0.252146</td>\n",
       "    </tr>\n",
       "    <tr>\n",
       "      <td>Linear SVM</td>\n",
       "      <td>6.696111</td>\n",
       "      <td>0.092639</td>\n",
       "      <td>1.287315</td>\n",
       "      <td>0.999883</td>\n",
       "      <td>0.999907</td>\n",
       "    </tr>\n",
       "  </tbody>\n",
       "</table>\n",
       "</div>"
      ],
      "text/plain": [
       "                    Train Time  Test Time  Cross validation Time  Train Acc  \\\n",
       "Decision Tree         0.655684   0.004436               0.132986   0.957365   \n",
       "Random Forest         0.157632   0.016901               0.216051   0.256146   \n",
       "Neural Net          183.240459   0.071461              12.702081   0.991487   \n",
       "AdaBoost              8.279554   0.119834               2.657209   0.537503   \n",
       "Nearest Neighbors     0.027761  49.486523             410.157930   0.994437   \n",
       "RBF SVM            3730.064405  78.545982             639.264606   1.000000   \n",
       "Linear SVM            6.696111   0.092639               1.287315   0.999883   \n",
       "\n",
       "                   Test Acc  \n",
       "Decision Tree      0.950653  \n",
       "Random Forest      0.234049  \n",
       "Neural Net         0.993937  \n",
       "AdaBoost           0.549907  \n",
       "Nearest Neighbors  0.986474  \n",
       "RBF SVM            0.252146  \n",
       "Linear SVM         0.999907  "
      ]
     },
     "metadata": {},
     "output_type": "display_data"
    }
   ],
   "source": [
    "execute_model(namesAll,classifiersAll)"
   ]
  },
  {
   "cell_type": "markdown",
   "metadata": {},
   "source": [
    "### Trying PCA on the Data and Then Use the Model Training"
   ]
  },
  {
   "cell_type": "code",
   "execution_count": 36,
   "metadata": {},
   "outputs": [
    {
     "name": "stdout",
     "output_type": "stream",
     "text": [
      "<class 'pandas.core.frame.DataFrame'>\n",
      "RangeIndex: 107192 entries, 0 to 107191\n",
      "Data columns (total 19 columns):\n",
      "Year Type                   107192 non-null object\n",
      "Year                        107192 non-null int64\n",
      "Organization Group Code     107192 non-null int64\n",
      "Organization Group          107192 non-null object\n",
      "Department Code             107192 non-null object\n",
      "Department                  107192 non-null object\n",
      "Union Code                  107192 non-null float64\n",
      "Union                       107192 non-null object\n",
      "Job Family Code             107192 non-null object\n",
      "Job Family                  107192 non-null object\n",
      "Job Code                    107192 non-null object\n",
      "Job                         107192 non-null object\n",
      "Overtime                    107192 non-null float64\n",
      "Other Salaries              107192 non-null float64\n",
      "Retirement                  107192 non-null float64\n",
      "Health and Dental           107192 non-null float64\n",
      "Other Benefits              107192 non-null float64\n",
      "Total Benefits              107192 non-null float64\n",
      "Guaranteed Compensations    107192 non-null float64\n",
      "dtypes: float64(8), int64(2), object(9)\n",
      "memory usage: 15.5+ MB\n",
      "None\n"
     ]
    }
   ],
   "source": [
    "#X = df1.drop(columns=['Salaries_eq_bin'])\n",
    "X1 = df1[['Year Type', 'Year', 'Organization Group Code', 'Organization Group',\n",
    "       'Department Code', 'Department', 'Union Code', 'Union',\n",
    "       'Job Family Code', 'Job Family', 'Job Code', 'Job', 'Overtime', 'Other Salaries', 'Retirement', 'Health and Dental', 'Other Benefits',\n",
    "       'Total Benefits', 'Guaranteed Compensations']].copy(deep=True)\n",
    "print(X.info())\n",
    "y1 = df1[['Salaries_eq_bin']].copy(deep=True)"
   ]
  },
  {
   "cell_type": "code",
   "execution_count": 37,
   "metadata": {},
   "outputs": [
    {
     "name": "stdout",
     "output_type": "stream",
     "text": [
      "['Year Type', 'Organization Group', 'Department Code', 'Department', 'Union', 'Job Family Code', 'Job Family', 'Job Code', 'Job']\n",
      "   Year Type  Organization Group  Department Code  Department  Union  \\\n",
      "0          0                   1               44          45     25   \n",
      "1          0                   0               20          20     62   \n",
      "2          0                   5               34          36     11   \n",
      "3          1                   2               33          35     37   \n",
      "4          0                   2                7           8     33   \n",
      "5          0                   6               21          21     25   \n",
      "6          0                   5               41          42     48   \n",
      "7          0                   1                4           4     61   \n",
      "8          1                   0               20          20     62   \n",
      "9          0                   1               44          45     61   \n",
      "\n",
      "   Job Family Code  Job Family  Job Code  Job  \n",
      "0               22           4       476  439  \n",
      "1               13          31      1090  945  \n",
      "2               45          37       926  323  \n",
      "3                0          27        44  601  \n",
      "4               42          25       862   72  \n",
      "5               41          50       825  440  \n",
      "6               53          35      1091  744  \n",
      "7               23          30       502   62  \n",
      "8               13          31       290  822  \n",
      "9               20          46       460  774  \n",
      "0    0\n",
      "1    4\n",
      "2    0\n",
      "3    4\n",
      "4    5\n",
      "5    0\n",
      "6    5\n",
      "7    0\n",
      "8    5\n",
      "9    4\n",
      "Name: Salaries_eq_bin, dtype: int64\n"
     ]
    }
   ],
   "source": [
    "# Categorical boolean mask\n",
    "categorical_feature_mask = X1.dtypes==object\n",
    "# filter categorical columns using mask and turn it into a list\n",
    "categorical_cols = X1.columns[categorical_feature_mask].tolist()\n",
    "print(categorical_cols)\n",
    "# import labelencoder\n",
    "from sklearn.preprocessing import LabelEncoder# instantiate labelencoder object\n",
    "le = LabelEncoder()\n",
    "# apply le on categorical feature columns\n",
    "X1[categorical_cols] = X1[categorical_cols].apply(lambda col: le.fit_transform(col))\n",
    "\n",
    "y1['Salaries_eq_bin'] = le.fit_transform(y1['Salaries_eq_bin'])\n",
    "\n",
    "\n",
    "print(X1[categorical_cols].head(10))\n",
    "print(y1['Salaries_eq_bin'].head(10))"
   ]
  },
  {
   "cell_type": "code",
   "execution_count": 38,
   "metadata": {},
   "outputs": [],
   "source": [
    "from sklearn.model_selection import train_test_split\n",
    "\n",
    "X1_train, X1_test, y1_train, y1_test = train_test_split(X1, y1, test_size=0.20, random_state=42)"
   ]
  },
  {
   "cell_type": "code",
   "execution_count": 39,
   "metadata": {},
   "outputs": [],
   "source": [
    "from sklearn.preprocessing import StandardScaler\n",
    "scaler = StandardScaler()\n",
    "# Fit on training set only.\n",
    "scaler.fit(X1_train)\n",
    "# Apply transform to both the training set and the test set.\n",
    "X1_train = scaler.transform(X1_train)\n",
    "X1_test = scaler.transform(X1_test)"
   ]
  },
  {
   "cell_type": "code",
   "execution_count": 40,
   "metadata": {},
   "outputs": [],
   "source": [
    "from sklearn.decomposition import PCA\n",
    "# Make an instance of the Model\n",
    "pca = PCA(.95)"
   ]
  },
  {
   "cell_type": "code",
   "execution_count": 41,
   "metadata": {},
   "outputs": [
    {
     "name": "stdout",
     "output_type": "stream",
     "text": [
      "12\n"
     ]
    }
   ],
   "source": [
    "pca.fit(X1_train)\n",
    "print(pca.n_components_)"
   ]
  },
  {
   "cell_type": "markdown",
   "metadata": {},
   "source": [
    "#### Important measure\n",
    "\n",
    "Explained variance tells us how much inofrmation (variance) \n",
    "can be attributed to each principal component."
   ]
  },
  {
   "cell_type": "code",
   "execution_count": 42,
   "metadata": {},
   "outputs": [
    {
     "data": {
      "text/plain": [
       "array([0.2537441 , 0.18897699, 0.08635808, 0.07704082, 0.07468936,\n",
       "       0.05299173, 0.05166655, 0.04591835, 0.03952677, 0.03249153,\n",
       "       0.02905687, 0.02149257])"
      ]
     },
     "execution_count": 42,
     "metadata": {},
     "output_type": "execute_result"
    }
   ],
   "source": [
    "pca.explained_variance_ratio_"
   ]
  },
  {
   "cell_type": "code",
   "execution_count": 43,
   "metadata": {},
   "outputs": [
    {
     "name": "stdout",
     "output_type": "stream",
     "text": [
      "There are 85753 rows and 12 columns\n",
      "There are 21439 rows and 12 columns\n"
     ]
    }
   ],
   "source": [
    "X1_train = pca.transform(X1_train)\n",
    "display_shape(X1_train)\n",
    "X1_test = pca.transform(X1_test)\n",
    "display_shape(X1_test)"
   ]
  },
  {
   "cell_type": "code",
   "execution_count": 44,
   "metadata": {},
   "outputs": [],
   "source": [
    "from sklearn.metrics import confusion_matrix\n",
    "def execute_model_new(names,classifiers):\n",
    "    i = 1\n",
    "    # iterate over datasets\n",
    "    results = {}\n",
    "    #class_weights = class_weight.compute_class_weight('balanced',np.unique(y_train), y_train)\n",
    "    for name, clf in zip(names, classifiers):\n",
    "        import time        \n",
    "        cur_time = time.time()\n",
    "        clf.fit(X1_train, y1_train.values.ravel())\n",
    "        #clf.fit(X_train_ohe, y_train, sample_weight = class_weights)\n",
    "        training_time = time.time() - cur_time\n",
    "        cur_time = time.time()\n",
    "        score = clf.score(X1_test, y1_test.values.ravel())\n",
    "        testing_time = time.time() - cur_time\n",
    "        \n",
    "        cur_time = time.time()\n",
    "        train_accuracy = clf.score(X1_train, y1_train.values.ravel())\n",
    "        scoring = ['precision_macro', 'recall_macro']\n",
    "        results[name] = [training_time, testing_time, train_accuracy, score]\n",
    "        i += 1\n",
    "        print('executing: ' + name)\n",
    "        dfk = pd.DataFrame.from_dict(\n",
    "            results, orient='index',\n",
    "            columns=['Train Time', 'Test Time', 'Train Acc', 'Test Acc'])\n",
    "    display(dfk)"
   ]
  },
  {
   "cell_type": "code",
   "execution_count": 45,
   "metadata": {},
   "outputs": [
    {
     "name": "stdout",
     "output_type": "stream",
     "text": [
      "executing: XGBClassifier\n"
     ]
    },
    {
     "data": {
      "text/html": [
       "<div>\n",
       "<style scoped>\n",
       "    .dataframe tbody tr th:only-of-type {\n",
       "        vertical-align: middle;\n",
       "    }\n",
       "\n",
       "    .dataframe tbody tr th {\n",
       "        vertical-align: top;\n",
       "    }\n",
       "\n",
       "    .dataframe thead th {\n",
       "        text-align: right;\n",
       "    }\n",
       "</style>\n",
       "<table border=\"1\" class=\"dataframe\">\n",
       "  <thead>\n",
       "    <tr style=\"text-align: right;\">\n",
       "      <th></th>\n",
       "      <th>Train Time</th>\n",
       "      <th>Test Time</th>\n",
       "      <th>Train Acc</th>\n",
       "      <th>Test Acc</th>\n",
       "    </tr>\n",
       "  </thead>\n",
       "  <tbody>\n",
       "    <tr>\n",
       "      <td>XGBClassifier</td>\n",
       "      <td>401.574578</td>\n",
       "      <td>1.446255</td>\n",
       "      <td>0.938883</td>\n",
       "      <td>0.915761</td>\n",
       "    </tr>\n",
       "  </tbody>\n",
       "</table>\n",
       "</div>"
      ],
      "text/plain": [
       "               Train Time  Test Time  Train Acc  Test Acc\n",
       "XGBClassifier  401.574578   1.446255   0.938883  0.915761"
      ]
     },
     "metadata": {},
     "output_type": "display_data"
    }
   ],
   "source": [
    "import random\n",
    "#XGBClassifier\n",
    "#https://www.kaggle.com/stuarthallows/using-xgboost-with-scikit-learn\n",
    "#!pip install xgboost\n",
    "from xgboost import XGBClassifier as xgb\n",
    "names = [\"XGBClassifier\"]\n",
    "xgb_params = {'learning_rate': 0.25, \n",
    "              'max_depth': 15,\n",
    "              'subsample': 0.5,        \n",
    "              'colsample_bytree': 0.9,\n",
    "              'objective': 'multi:softmax',\n",
    "              'silent': 1, \n",
    "              'n_estimators':190,\n",
    "              'scale_pos_weight': 0.8,\n",
    "              'gamma':6,         \n",
    "              'min_child_weight':8,\n",
    "              \"subsample\": random.uniform(0.6, 0.4),\n",
    "              'eta':1\n",
    "            }   \n",
    "\n",
    "classifiers = [xgb(**xgb_params, seed = 10, num_boost_round=10, nfold=5,\n",
    "             metrics={'error'})]\n",
    "execute_model_new(names,classifiers)"
   ]
  },
  {
   "cell_type": "code",
   "execution_count": 46,
   "metadata": {},
   "outputs": [],
   "source": [
    "namesAll = [\"RBF SVM\", \n",
    "            \"Linear SVM\", \n",
    "            \"Decision Tree\", \n",
    "            \"Random Forest\", \n",
    "            \"Neural Net\", \n",
    "            \"AdaBoost\",\n",
    "            \"Nearest Neighbors\"]\n",
    "\n",
    "classifiersAll = [\n",
    "    SVC(gamma=1, C=0.8, class_weight=\"balanced\"),\n",
    "    SVC(kernel=\"linear\", C=0.25, class_weight=\"balanced\", random_state=0),\n",
    "    DecisionTreeClassifier(max_depth=5),\n",
    "    RandomForestClassifier(max_depth=5, n_estimators=10, max_features=1),\n",
    "    MLPClassifier(alpha=1, max_iter=1000),\n",
    "    AdaBoostClassifier(),\n",
    "    KNeighborsClassifier(3)]"
   ]
  },
  {
   "cell_type": "code",
   "execution_count": 47,
   "metadata": {},
   "outputs": [
    {
     "name": "stdout",
     "output_type": "stream",
     "text": [
      "executing: RBF SVM\n",
      "executing: Linear SVM\n",
      "executing: Decision Tree\n",
      "executing: Random Forest\n",
      "executing: Neural Net\n",
      "executing: AdaBoost\n",
      "executing: Nearest Neighbors\n"
     ]
    },
    {
     "data": {
      "text/html": [
       "<div>\n",
       "<style scoped>\n",
       "    .dataframe tbody tr th:only-of-type {\n",
       "        vertical-align: middle;\n",
       "    }\n",
       "\n",
       "    .dataframe tbody tr th {\n",
       "        vertical-align: top;\n",
       "    }\n",
       "\n",
       "    .dataframe thead th {\n",
       "        text-align: right;\n",
       "    }\n",
       "</style>\n",
       "<table border=\"1\" class=\"dataframe\">\n",
       "  <thead>\n",
       "    <tr style=\"text-align: right;\">\n",
       "      <th></th>\n",
       "      <th>Train Time</th>\n",
       "      <th>Test Time</th>\n",
       "      <th>Train Acc</th>\n",
       "      <th>Test Acc</th>\n",
       "    </tr>\n",
       "  </thead>\n",
       "  <tbody>\n",
       "    <tr>\n",
       "      <td>RBF SVM</td>\n",
       "      <td>820.977278</td>\n",
       "      <td>36.792579</td>\n",
       "      <td>0.952643</td>\n",
       "      <td>0.903260</td>\n",
       "    </tr>\n",
       "    <tr>\n",
       "      <td>Linear SVM</td>\n",
       "      <td>107.239194</td>\n",
       "      <td>17.579831</td>\n",
       "      <td>0.799132</td>\n",
       "      <td>0.805028</td>\n",
       "    </tr>\n",
       "    <tr>\n",
       "      <td>Decision Tree</td>\n",
       "      <td>0.799893</td>\n",
       "      <td>0.003158</td>\n",
       "      <td>0.741047</td>\n",
       "      <td>0.747050</td>\n",
       "    </tr>\n",
       "    <tr>\n",
       "      <td>Random Forest</td>\n",
       "      <td>0.560919</td>\n",
       "      <td>0.023653</td>\n",
       "      <td>0.536518</td>\n",
       "      <td>0.539671</td>\n",
       "    </tr>\n",
       "    <tr>\n",
       "      <td>Neural Net</td>\n",
       "      <td>68.885626</td>\n",
       "      <td>0.051792</td>\n",
       "      <td>0.855632</td>\n",
       "      <td>0.856803</td>\n",
       "    </tr>\n",
       "    <tr>\n",
       "      <td>AdaBoost</td>\n",
       "      <td>16.896211</td>\n",
       "      <td>0.211870</td>\n",
       "      <td>0.597635</td>\n",
       "      <td>0.603806</td>\n",
       "    </tr>\n",
       "    <tr>\n",
       "      <td>Nearest Neighbors</td>\n",
       "      <td>0.136507</td>\n",
       "      <td>3.145154</td>\n",
       "      <td>0.946194</td>\n",
       "      <td>0.891833</td>\n",
       "    </tr>\n",
       "  </tbody>\n",
       "</table>\n",
       "</div>"
      ],
      "text/plain": [
       "                   Train Time  Test Time  Train Acc  Test Acc\n",
       "RBF SVM            820.977278  36.792579   0.952643  0.903260\n",
       "Linear SVM         107.239194  17.579831   0.799132  0.805028\n",
       "Decision Tree        0.799893   0.003158   0.741047  0.747050\n",
       "Random Forest        0.560919   0.023653   0.536518  0.539671\n",
       "Neural Net          68.885626   0.051792   0.855632  0.856803\n",
       "AdaBoost            16.896211   0.211870   0.597635  0.603806\n",
       "Nearest Neighbors    0.136507   3.145154   0.946194  0.891833"
      ]
     },
     "metadata": {},
     "output_type": "display_data"
    }
   ],
   "source": [
    "execute_model_new(namesAll,classifiersAll)"
   ]
  }
 ],
 "metadata": {
  "kernelspec": {
   "display_name": "Python 3",
   "language": "python",
   "name": "python3"
  },
  "language_info": {
   "codemirror_mode": {
    "name": "ipython",
    "version": 3
   },
   "file_extension": ".py",
   "mimetype": "text/x-python",
   "name": "python",
   "nbconvert_exporter": "python",
   "pygments_lexer": "ipython3",
   "version": "3.7.3"
  }
 },
 "nbformat": 4,
 "nbformat_minor": 2
}

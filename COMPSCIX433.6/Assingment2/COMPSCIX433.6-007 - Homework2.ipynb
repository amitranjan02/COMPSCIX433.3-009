{
 "cells": [
  {
   "cell_type": "markdown",
   "metadata": {},
   "source": [
    "### Instructions: Have all the code for all the questions in one Jupyter notebook and upload\n",
    "the file at the time of submission. I will only consider these this file format for grading.\n",
    "So, after you uploaded the file, check the file extension and if it is not an ipynb,\n",
    "then upload the right file.\n",
    "\n",
    "\n",
    "Way to present:\n",
    "### Solution 1 to indicate solution to question 1. Please submit original work.\n",
    "\n",
    " \n",
    "\n",
    "For this assignment, use the population.csv file, which is in the files section of the class portal. The column headings are not there, so you have to give names to the columns.\n",
    "\n",
    "Perform the following:\n",
    "\n",
    "1) Give column headings. Use this list of names to accomplish this task\n",
    "\n",
    "\"age\", \"emp_type\", \"number\", \"education\", \"ed_num\",\n",
    "\"marital_status\", \"occupation\", \"relationship\",\n",
    "\"race\", \"gender\", \"capital_gain\",\"capital_loss\",\"hours_per_week\",\n",
    "\"native_country\", \"income\"\n",
    "\n",
    "The y variable is income. The cut off value for the income is $50,000. We want to know how age, employment type, education, marital status etc. influence income.\n",
    "\n",
    "2) Print the names of the columns.\n",
    "\n",
    "3) Print the number of rows and columns.\n",
    "\n",
    "4) Change string categorical variables to numbers.\n",
    "\n",
    "5) Check if there are any NaN values. If yes, replace them with appropriate value or values.\n",
    "\n",
    "6) Run SVM and Logistic Regression and compute accuracy for each model."
   ]
  },
  {
   "cell_type": "code",
   "execution_count": 1,
   "metadata": {},
   "outputs": [],
   "source": [
    "import numpy as np\n",
    "import matplotlib.pyplot as plt\n",
    "from matplotlib.colors import ListedColormap\n",
    "from sklearn.model_selection import train_test_split\n",
    "from sklearn.preprocessing import StandardScaler\n",
    "from sklearn.svm import LinearSVC, SVC\n",
    "from sklearn.gaussian_process import GaussianProcessClassifier\n",
    "from sklearn.gaussian_process.kernels import RBF\n",
    "from sklearn.tree import DecisionTreeClassifier\n",
    "from sklearn.ensemble import RandomForestClassifier, AdaBoostClassifier\n",
    "from sklearn.naive_bayes import GaussianNB\n",
    "from sklearn.discriminant_analysis import QuadraticDiscriminantAnalysis\n",
    "import pandas as pd\n",
    "from sklearn.model_selection import cross_validate\n",
    "from sklearn.metrics import recall_score\n",
    "from sklearn.utils import class_weight"
   ]
  },
  {
   "cell_type": "markdown",
   "metadata": {},
   "source": [
    "### Question 1: Give column headings. Use this list of names to accomplish this task"
   ]
  },
  {
   "cell_type": "code",
   "execution_count": 2,
   "metadata": {},
   "outputs": [],
   "source": [
    "### The dataset is using ' ?' as Nulls, so while importing I am replacing them as NaN."
   ]
  },
  {
   "cell_type": "code",
   "execution_count": 3,
   "metadata": {},
   "outputs": [
    {
     "name": "stdout",
     "output_type": "stream",
     "text": [
      "   age           emp_type  number   education  ed_num       marital_status  \\\n",
      "0   39          State-gov   77516   Bachelors      13        Never-married   \n",
      "1   50   Self-emp-not-inc   83311   Bachelors      13   Married-civ-spouse   \n",
      "2   38            Private  215646     HS-grad       9             Divorced   \n",
      "3   53            Private  234721        11th       7   Married-civ-spouse   \n",
      "4   28            Private  338409   Bachelors      13   Married-civ-spouse   \n",
      "\n",
      "           occupation    relationship    race   gender  capital_gain  \\\n",
      "0        Adm-clerical   Not-in-family   White     Male          2174   \n",
      "1     Exec-managerial         Husband   White     Male             0   \n",
      "2   Handlers-cleaners   Not-in-family   White     Male             0   \n",
      "3   Handlers-cleaners         Husband   Black     Male             0   \n",
      "4      Prof-specialty            Wife   Black   Female             0   \n",
      "\n",
      "   capital_loss  hours_per_week  native_country  income  \n",
      "0             0              40   United-States   <=50K  \n",
      "1             0              13   United-States   <=50K  \n",
      "2             0              40   United-States   <=50K  \n",
      "3             0              40   United-States   <=50K  \n",
      "4             0              40            Cuba   <=50K  \n"
     ]
    }
   ],
   "source": [
    "col_names = [\"age\", \"emp_type\", \"number\", \"education\", \"ed_num\", \\\n",
    "\"marital_status\", \"occupation\", \"relationship\", \\\n",
    "\"race\", \"gender\", \"capital_gain\",\"capital_loss\",\"hours_per_week\", \\\n",
    "\"native_country\", \"income\"]\n",
    "df =  pd.read_csv(\"population.csv\", delimiter=',', names=col_names, header=None, date_parser = 'python', keep_default_na = True, na_values = [' ?'])\n",
    "print(df.head())"
   ]
  },
  {
   "cell_type": "code",
   "execution_count": 4,
   "metadata": {},
   "outputs": [
    {
     "data": {
      "text/plain": [
       " <=50K    24720\n",
       " >50K      7841\n",
       "Name: income, dtype: int64"
      ]
     },
     "execution_count": 4,
     "metadata": {},
     "output_type": "execute_result"
    }
   ],
   "source": [
    "df['income'].value_counts()"
   ]
  },
  {
   "cell_type": "markdown",
   "metadata": {},
   "source": [
    "### Question 2: Print the names of the columns."
   ]
  },
  {
   "cell_type": "code",
   "execution_count": 5,
   "metadata": {},
   "outputs": [
    {
     "name": "stdout",
     "output_type": "stream",
     "text": [
      "Index(['age', 'emp_type', 'number', 'education', 'ed_num', 'marital_status',\n",
      "       'occupation', 'relationship', 'race', 'gender', 'capital_gain',\n",
      "       'capital_loss', 'hours_per_week', 'native_country', 'income'],\n",
      "      dtype='object')\n"
     ]
    }
   ],
   "source": [
    "print(df.columns)"
   ]
  },
  {
   "cell_type": "markdown",
   "metadata": {},
   "source": [
    "### Question 3: Print the number of rows and columns."
   ]
  },
  {
   "cell_type": "code",
   "execution_count": 6,
   "metadata": {},
   "outputs": [
    {
     "name": "stdout",
     "output_type": "stream",
     "text": [
      "Number of Rows:- 32561\n",
      "Number of Columns:- 15\n"
     ]
    }
   ],
   "source": [
    "xdim, ydim = df.shape\n",
    "print('Number of Rows:-', xdim)\n",
    "print('Number of Columns:-', ydim)"
   ]
  },
  {
   "cell_type": "markdown",
   "metadata": {},
   "source": [
    "### Question 4: Change string categorical variables to numbers.\n",
    "### Question 5: Check if there are any NaN values. If yes, replace them with appropriate value or values."
   ]
  },
  {
   "cell_type": "code",
   "execution_count": 7,
   "metadata": {},
   "outputs": [],
   "source": [
    "### Since I am using Multilabel Encoder, I am replacing nulls with Unspecified."
   ]
  },
  {
   "cell_type": "code",
   "execution_count": 8,
   "metadata": {},
   "outputs": [
    {
     "name": "stdout",
     "output_type": "stream",
     "text": [
      "   age           emp_type  number   education  ed_num       marital_status  \\\n",
      "0   39          State-gov   77516   Bachelors      13        Never-married   \n",
      "1   50   Self-emp-not-inc   83311   Bachelors      13   Married-civ-spouse   \n",
      "2   38            Private  215646     HS-grad       9             Divorced   \n",
      "3   53            Private  234721        11th       7   Married-civ-spouse   \n",
      "4   28            Private  338409   Bachelors      13   Married-civ-spouse   \n",
      "\n",
      "           occupation    relationship    race   gender  capital_gain  \\\n",
      "0        Adm-clerical   Not-in-family   White     Male          2174   \n",
      "1     Exec-managerial         Husband   White     Male             0   \n",
      "2   Handlers-cleaners   Not-in-family   White     Male             0   \n",
      "3   Handlers-cleaners         Husband   Black     Male             0   \n",
      "4      Prof-specialty            Wife   Black   Female             0   \n",
      "\n",
      "   capital_loss  hours_per_week  native_country  income  \n",
      "0             0              40   United-States   <=50K  \n",
      "1             0              13   United-States   <=50K  \n",
      "2             0              40   United-States   <=50K  \n",
      "3             0              40   United-States   <=50K  \n",
      "4             0              40            Cuba   <=50K  \n"
     ]
    }
   ],
   "source": [
    "print(df.head())\n",
    "#From below information seems like following columns are catogerical. lets verify\n",
    "# emp_type, education, marital_status, occupation, relationship, race, gender, native_country, income"
   ]
  },
  {
   "cell_type": "code",
   "execution_count": 9,
   "metadata": {},
   "outputs": [
    {
     "name": "stdout",
     "output_type": "stream",
     "text": [
      "<class 'pandas.core.frame.DataFrame'>\n",
      "RangeIndex: 32561 entries, 0 to 32560\n",
      "Data columns (total 15 columns):\n",
      "age               32561 non-null int64\n",
      "emp_type          30725 non-null object\n",
      "number            32561 non-null int64\n",
      "education         32561 non-null object\n",
      "ed_num            32561 non-null int64\n",
      "marital_status    32561 non-null object\n",
      "occupation        30718 non-null object\n",
      "relationship      32561 non-null object\n",
      "race              32561 non-null object\n",
      "gender            32561 non-null object\n",
      "capital_gain      32561 non-null int64\n",
      "capital_loss      32561 non-null int64\n",
      "hours_per_week    32561 non-null int64\n",
      "native_country    31978 non-null object\n",
      "income            32561 non-null object\n",
      "dtypes: int64(6), object(9)\n",
      "memory usage: 3.7+ MB\n",
      "None\n"
     ]
    }
   ],
   "source": [
    "print(df.info())"
   ]
  },
  {
   "cell_type": "code",
   "execution_count": 10,
   "metadata": {},
   "outputs": [
    {
     "data": {
      "text/plain": [
       "0"
      ]
     },
     "execution_count": 10,
     "metadata": {},
     "output_type": "execute_result"
    }
   ],
   "source": [
    "df['income'].isna().sum()"
   ]
  },
  {
   "cell_type": "code",
   "execution_count": 11,
   "metadata": {},
   "outputs": [],
   "source": [
    "# emp_type, education, marital_status, occupation, relationship, race, gender, native_country, income"
   ]
  },
  {
   "cell_type": "code",
   "execution_count": 12,
   "metadata": {},
   "outputs": [
    {
     "name": "stdout",
     "output_type": "stream",
     "text": [
      " Private             22696\n",
      " Self-emp-not-inc     2541\n",
      " Local-gov            2093\n",
      " State-gov            1298\n",
      " Self-emp-inc         1116\n",
      " Federal-gov           960\n",
      " Without-pay            14\n",
      " Never-worked            7\n",
      "Name: emp_type, dtype: int64\n",
      "Number of Nulls 1836\n",
      "       age emp_type  number      education  ed_num          marital_status  \\\n",
      "27      54      NaN  180211   Some-college      10      Married-civ-spouse   \n",
      "61      32      NaN  293936        7th-8th       4   Married-spouse-absent   \n",
      "69      25      NaN  200681   Some-college      10           Never-married   \n",
      "77      67      NaN  212759           10th       6      Married-civ-spouse   \n",
      "106     17      NaN  304873           10th       6           Never-married   \n",
      "...    ...      ...     ...            ...     ...                     ...   \n",
      "32530   35      NaN  320084      Bachelors      13      Married-civ-spouse   \n",
      "32531   30      NaN   33811      Bachelors      13           Never-married   \n",
      "32539   71      NaN  287372      Doctorate      16      Married-civ-spouse   \n",
      "32541   41      NaN  202822        HS-grad       9               Separated   \n",
      "32542   72      NaN  129912        HS-grad       9      Married-civ-spouse   \n",
      "\n",
      "      occupation    relationship                 race   gender  capital_gain  \\\n",
      "27           NaN         Husband   Asian-Pac-Islander     Male             0   \n",
      "61           NaN   Not-in-family                White     Male             0   \n",
      "69           NaN       Own-child                White     Male             0   \n",
      "77           NaN         Husband                White     Male             0   \n",
      "106          NaN       Own-child                White   Female         34095   \n",
      "...          ...             ...                  ...      ...           ...   \n",
      "32530        NaN            Wife                White   Female             0   \n",
      "32531        NaN   Not-in-family   Asian-Pac-Islander   Female             0   \n",
      "32539        NaN         Husband                White     Male             0   \n",
      "32541        NaN   Not-in-family                Black   Female             0   \n",
      "32542        NaN         Husband                White     Male             0   \n",
      "\n",
      "       capital_loss  hours_per_week  native_country  income  \n",
      "27                0              60           South    >50K  \n",
      "61                0              40             NaN   <=50K  \n",
      "69                0              40   United-States   <=50K  \n",
      "77                0               2   United-States   <=50K  \n",
      "106               0              32   United-States   <=50K  \n",
      "...             ...             ...             ...     ...  \n",
      "32530             0              55   United-States    >50K  \n",
      "32531             0              99   United-States   <=50K  \n",
      "32539             0              10   United-States    >50K  \n",
      "32541             0              32   United-States   <=50K  \n",
      "32542             0              25   United-States   <=50K  \n",
      "\n",
      "[1836 rows x 15 columns]\n",
      "Empty DataFrame\n",
      "Columns: [age, emp_type, number, education, ed_num, marital_status, occupation, relationship, race, gender, capital_gain, capital_loss, hours_per_week, native_country, income]\n",
      "Index: []\n"
     ]
    }
   ],
   "source": [
    "print(df['emp_type'].value_counts())\n",
    "print(\"Number of Nulls\", df['emp_type'].isna().sum())\n",
    "print(df[df['emp_type'].isna()])\n",
    "#whenever emplouyment type is missig, occuption is missing too\n",
    "df['emp_type'] = df['emp_type'].replace(np.nan, 'Unspecified')\n",
    "print(df[df['emp_type'].isna()])"
   ]
  },
  {
   "cell_type": "code",
   "execution_count": 13,
   "metadata": {},
   "outputs": [
    {
     "name": "stdout",
     "output_type": "stream",
     "text": [
      "Number of Nulls 0\n"
     ]
    }
   ],
   "source": [
    "df['education'].value_counts()\n",
    "print(\"Number of Nulls\", df['education'].isna().sum())"
   ]
  },
  {
   "cell_type": "code",
   "execution_count": 14,
   "metadata": {},
   "outputs": [
    {
     "name": "stdout",
     "output_type": "stream",
     "text": [
      "Number of Nulls 0\n"
     ]
    }
   ],
   "source": [
    "df['marital_status'].value_counts()\n",
    "print(\"Number of Nulls\", df['marital_status'].isna().sum())"
   ]
  },
  {
   "cell_type": "code",
   "execution_count": 15,
   "metadata": {},
   "outputs": [
    {
     "name": "stdout",
     "output_type": "stream",
     "text": [
      "Number of Nulls 1843\n",
      "       age     emp_type  number      education  ed_num  \\\n",
      "27      54  Unspecified  180211   Some-college      10   \n",
      "61      32  Unspecified  293936        7th-8th       4   \n",
      "69      25  Unspecified  200681   Some-college      10   \n",
      "77      67  Unspecified  212759           10th       6   \n",
      "106     17  Unspecified  304873           10th       6   \n",
      "...    ...          ...     ...            ...     ...   \n",
      "32530   35  Unspecified  320084      Bachelors      13   \n",
      "32531   30  Unspecified   33811      Bachelors      13   \n",
      "32539   71  Unspecified  287372      Doctorate      16   \n",
      "32541   41  Unspecified  202822        HS-grad       9   \n",
      "32542   72  Unspecified  129912        HS-grad       9   \n",
      "\n",
      "               marital_status occupation    relationship                 race  \\\n",
      "27         Married-civ-spouse        NaN         Husband   Asian-Pac-Islander   \n",
      "61      Married-spouse-absent        NaN   Not-in-family                White   \n",
      "69              Never-married        NaN       Own-child                White   \n",
      "77         Married-civ-spouse        NaN         Husband                White   \n",
      "106             Never-married        NaN       Own-child                White   \n",
      "...                       ...        ...             ...                  ...   \n",
      "32530      Married-civ-spouse        NaN            Wife                White   \n",
      "32531           Never-married        NaN   Not-in-family   Asian-Pac-Islander   \n",
      "32539      Married-civ-spouse        NaN         Husband                White   \n",
      "32541               Separated        NaN   Not-in-family                Black   \n",
      "32542      Married-civ-spouse        NaN         Husband                White   \n",
      "\n",
      "        gender  capital_gain  capital_loss  hours_per_week  native_country  \\\n",
      "27        Male             0             0              60           South   \n",
      "61        Male             0             0              40             NaN   \n",
      "69        Male             0             0              40   United-States   \n",
      "77        Male             0             0               2   United-States   \n",
      "106     Female         34095             0              32   United-States   \n",
      "...        ...           ...           ...             ...             ...   \n",
      "32530   Female             0             0              55   United-States   \n",
      "32531   Female             0             0              99   United-States   \n",
      "32539     Male             0             0              10   United-States   \n",
      "32541   Female             0             0              32   United-States   \n",
      "32542     Male             0             0              25   United-States   \n",
      "\n",
      "       income  \n",
      "27       >50K  \n",
      "61      <=50K  \n",
      "69      <=50K  \n",
      "77      <=50K  \n",
      "106     <=50K  \n",
      "...       ...  \n",
      "32530    >50K  \n",
      "32531   <=50K  \n",
      "32539    >50K  \n",
      "32541   <=50K  \n",
      "32542   <=50K  \n",
      "\n",
      "[1843 rows x 15 columns]\n",
      "Empty DataFrame\n",
      "Columns: [age, emp_type, number, education, ed_num, marital_status, occupation, relationship, race, gender, capital_gain, capital_loss, hours_per_week, native_country, income]\n",
      "Index: []\n"
     ]
    }
   ],
   "source": [
    "df['occupation'].value_counts()\n",
    "print(\"Number of Nulls\", df['occupation'].isna().sum())\n",
    "print(df[df['occupation'].isna()])\n",
    "#whenever emplouyment type is missig, occuption is missing too\n",
    "df['occupation'] = df['occupation'].replace(np.nan, 'Unspecified')\n",
    "print(df[df['occupation'].isna()])"
   ]
  },
  {
   "cell_type": "code",
   "execution_count": 16,
   "metadata": {},
   "outputs": [
    {
     "name": "stdout",
     "output_type": "stream",
     "text": [
      "Number of Nulls 0\n"
     ]
    }
   ],
   "source": [
    "df['relationship'].value_counts()\n",
    "print(\"Number of Nulls\", df['relationship'].isna().sum())"
   ]
  },
  {
   "cell_type": "code",
   "execution_count": 17,
   "metadata": {},
   "outputs": [
    {
     "name": "stdout",
     "output_type": "stream",
     "text": [
      "Number of Nulls 0\n"
     ]
    }
   ],
   "source": [
    "df['race'].value_counts()\n",
    "print(\"Number of Nulls\", df['race'].isna().sum())"
   ]
  },
  {
   "cell_type": "code",
   "execution_count": 18,
   "metadata": {},
   "outputs": [
    {
     "name": "stdout",
     "output_type": "stream",
     "text": [
      "Number of Nulls 0\n"
     ]
    }
   ],
   "source": [
    "df['gender'].value_counts()\n",
    "print(\"Number of Nulls\", df['gender'].isna().sum())"
   ]
  },
  {
   "cell_type": "code",
   "execution_count": 19,
   "metadata": {},
   "outputs": [
    {
     "name": "stdout",
     "output_type": "stream",
     "text": [
      "Number of Nulls 583\n",
      "       age           emp_type  number      education  ed_num  \\\n",
      "14      40            Private  121772      Assoc-voc      11   \n",
      "38      31            Private   84154   Some-college      10   \n",
      "51      18            Private  226956        HS-grad       9   \n",
      "61      32        Unspecified  293936        7th-8th       4   \n",
      "93      30            Private  117747        HS-grad       9   \n",
      "...    ...                ...     ...            ...     ...   \n",
      "32449   44       Self-emp-inc   71556        Masters      14   \n",
      "32469   58       Self-emp-inc  181974      Doctorate      16   \n",
      "32492   42   Self-emp-not-inc  217597        HS-grad       9   \n",
      "32510   39            Private  107302        HS-grad       9   \n",
      "32525   81        Unspecified  120478      Assoc-voc      11   \n",
      "\n",
      "               marital_status       occupation    relationship  \\\n",
      "14         Married-civ-spouse     Craft-repair         Husband   \n",
      "38         Married-civ-spouse            Sales         Husband   \n",
      "51              Never-married    Other-service       Own-child   \n",
      "61      Married-spouse-absent      Unspecified   Not-in-family   \n",
      "93         Married-civ-spouse            Sales            Wife   \n",
      "...                       ...              ...             ...   \n",
      "32449      Married-civ-spouse            Sales         Husband   \n",
      "32469           Never-married   Prof-specialty   Not-in-family   \n",
      "32492                Divorced            Sales       Own-child   \n",
      "32510      Married-civ-spouse   Prof-specialty         Husband   \n",
      "32525                Divorced      Unspecified       Unmarried   \n",
      "\n",
      "                      race   gender  capital_gain  capital_loss  \\\n",
      "14      Asian-Pac-Islander     Male             0             0   \n",
      "38                   White     Male             0             0   \n",
      "51                   White   Female             0             0   \n",
      "61                   White     Male             0             0   \n",
      "93      Asian-Pac-Islander   Female             0          1573   \n",
      "...                    ...      ...           ...           ...   \n",
      "32449                White     Male             0             0   \n",
      "32469                White   Female             0             0   \n",
      "32492                White     Male             0             0   \n",
      "32510                White     Male             0             0   \n",
      "32525                White   Female             0             0   \n",
      "\n",
      "       hours_per_week native_country  income  \n",
      "14                 40            NaN    >50K  \n",
      "38                 38            NaN    >50K  \n",
      "51                 30            NaN   <=50K  \n",
      "61                 40            NaN   <=50K  \n",
      "93                 35            NaN   <=50K  \n",
      "...               ...            ...     ...  \n",
      "32449              50            NaN    >50K  \n",
      "32469              99            NaN   <=50K  \n",
      "32492              50            NaN   <=50K  \n",
      "32510              45            NaN    >50K  \n",
      "32525               1            NaN   <=50K  \n",
      "\n",
      "[583 rows x 15 columns]\n",
      "Empty DataFrame\n",
      "Columns: [age, emp_type, number, education, ed_num, marital_status, occupation, relationship, race, gender, capital_gain, capital_loss, hours_per_week, native_country, income]\n",
      "Index: []\n"
     ]
    }
   ],
   "source": [
    "df['native_country'].value_counts()\n",
    "print(\"Number of Nulls\", df['native_country'].isna().sum())\n",
    "print(df[df['native_country'].isna()])\n",
    "df['native_country'] = df['native_country'].replace(np.nan, 'Unspecified')\n",
    "print(df[df['native_country'].isna()])"
   ]
  },
  {
   "cell_type": "code",
   "execution_count": 20,
   "metadata": {},
   "outputs": [
    {
     "name": "stdout",
     "output_type": "stream",
     "text": [
      "Number of Nulls 0\n"
     ]
    }
   ],
   "source": [
    "df['income'].value_counts()\n",
    "print(\"Number of Nulls\", df['income'].isna().sum())\n"
   ]
  },
  {
   "cell_type": "code",
   "execution_count": 21,
   "metadata": {},
   "outputs": [
    {
     "data": {
      "text/plain": [
       "False"
      ]
     },
     "execution_count": 21,
     "metadata": {},
     "output_type": "execute_result"
    }
   ],
   "source": [
    "df.isnull().values.any()"
   ]
  },
  {
   "cell_type": "code",
   "execution_count": 22,
   "metadata": {},
   "outputs": [],
   "source": [
    "from sklearn import preprocessing \n",
    "df = df.apply(preprocessing.LabelEncoder().fit_transform)"
   ]
  },
  {
   "cell_type": "code",
   "execution_count": 23,
   "metadata": {},
   "outputs": [
    {
     "name": "stdout",
     "output_type": "stream",
     "text": [
      "   age  emp_type  number  education  ed_num  marital_status  occupation  \\\n",
      "0   22         6    2671          9      12               4           0   \n",
      "1   33         5    2926          9      12               2           3   \n",
      "2   21         3   14086         11       8               0           5   \n",
      "3   36         3   15336          1       6               2           5   \n",
      "4   11         3   19355          9      12               2           9   \n",
      "\n",
      "   relationship  race  gender  capital_gain  capital_loss  hours_per_week  \\\n",
      "0             1     4       1            25             0              39   \n",
      "1             0     4       1             0             0              12   \n",
      "2             1     4       1             0             0              39   \n",
      "3             0     2       1             0             0              39   \n",
      "4             5     2       0             0             0              39   \n",
      "\n",
      "   native_country  income  \n",
      "0              38       0  \n",
      "1              38       0  \n",
      "2              38       0  \n",
      "3              38       0  \n",
      "4               4       0  \n"
     ]
    }
   ],
   "source": [
    "print(df.head())"
   ]
  },
  {
   "cell_type": "code",
   "execution_count": 24,
   "metadata": {},
   "outputs": [
    {
     "data": {
      "text/plain": [
       "False"
      ]
     },
     "execution_count": 24,
     "metadata": {},
     "output_type": "execute_result"
    }
   ],
   "source": [
    "df.isnull().values.any()"
   ]
  },
  {
   "cell_type": "code",
   "execution_count": 25,
   "metadata": {},
   "outputs": [],
   "source": [
    "### Question 6: Run SVM and Logistic Regression and compute accuracy for each model."
   ]
  },
  {
   "cell_type": "code",
   "execution_count": 26,
   "metadata": {},
   "outputs": [
    {
     "data": {
      "text/plain": [
       "Index(['age', 'emp_type', 'number', 'education', 'ed_num', 'marital_status',\n",
       "       'occupation', 'relationship', 'race', 'gender', 'capital_gain',\n",
       "       'capital_loss', 'hours_per_week', 'native_country', 'income'],\n",
       "      dtype='object')"
      ]
     },
     "execution_count": 26,
     "metadata": {},
     "output_type": "execute_result"
    }
   ],
   "source": [
    "df.columns"
   ]
  },
  {
   "cell_type": "code",
   "execution_count": 27,
   "metadata": {},
   "outputs": [],
   "source": [
    "dfx = df[['age', 'emp_type', 'number', 'education', 'ed_num', 'marital_status',\n",
    "       'occupation', 'relationship', 'race', 'gender', 'capital_gain',\n",
    "       'capital_loss', 'hours_per_week', 'native_country']].copy(deep=True)\n",
    "dfy = df[[\"income\"]].copy(deep=True)"
   ]
  },
  {
   "cell_type": "code",
   "execution_count": 28,
   "metadata": {},
   "outputs": [],
   "source": [
    "### Logistic regression"
   ]
  },
  {
   "cell_type": "code",
   "execution_count": 29,
   "metadata": {},
   "outputs": [],
   "source": [
    "from sklearn.model_selection import train_test_split\n",
    "from sklearn.preprocessing import StandardScaler\n",
    "import numpy as np\n",
    "scaler = StandardScaler()\n",
    "x = scaler.fit_transform(dfx)"
   ]
  },
  {
   "cell_type": "code",
   "execution_count": 30,
   "metadata": {},
   "outputs": [],
   "source": [
    "x_train, x_test, y_train, y_test = train_test_split(dfx, dfy, test_size = 0.2, random_state=42)"
   ]
  },
  {
   "cell_type": "code",
   "execution_count": 31,
   "metadata": {},
   "outputs": [],
   "source": [
    "from sklearn.linear_model import LogisticRegression\n",
    "model = LogisticRegression(penalty='l2', C=1)"
   ]
  },
  {
   "cell_type": "code",
   "execution_count": 32,
   "metadata": {},
   "outputs": [
    {
     "name": "stdout",
     "output_type": "stream",
     "text": [
      "(26048, 1)\n",
      "(26048,)\n"
     ]
    }
   ],
   "source": [
    "print(y_train.shape)\n",
    "y_train = np.array(y_train).flatten()\n",
    "print(y_train.shape)"
   ]
  },
  {
   "cell_type": "code",
   "execution_count": 33,
   "metadata": {},
   "outputs": [
    {
     "name": "stderr",
     "output_type": "stream",
     "text": [
      "/Applications/anaconda3/lib/python3.7/site-packages/sklearn/linear_model/logistic.py:432: FutureWarning: Default solver will be changed to 'lbfgs' in 0.22. Specify a solver to silence this warning.\n",
      "  FutureWarning)\n"
     ]
    },
    {
     "data": {
      "text/plain": [
       "LogisticRegression(C=1, class_weight=None, dual=False, fit_intercept=True,\n",
       "                   intercept_scaling=1, l1_ratio=None, max_iter=100,\n",
       "                   multi_class='warn', n_jobs=None, penalty='l2',\n",
       "                   random_state=None, solver='warn', tol=0.0001, verbose=0,\n",
       "                   warm_start=False)"
      ]
     },
     "execution_count": 33,
     "metadata": {},
     "output_type": "execute_result"
    }
   ],
   "source": [
    "model.fit(x_train, y_train)"
   ]
  },
  {
   "cell_type": "code",
   "execution_count": 34,
   "metadata": {},
   "outputs": [],
   "source": [
    "ypred = model.predict(x_test)"
   ]
  },
  {
   "cell_type": "code",
   "execution_count": 35,
   "metadata": {},
   "outputs": [
    {
     "data": {
      "text/plain": [
       "array([[4653,  289],\n",
       "       [ 898,  673]])"
      ]
     },
     "execution_count": 35,
     "metadata": {},
     "output_type": "execute_result"
    }
   ],
   "source": [
    "from sklearn.metrics import confusion_matrix\n",
    "confusion_matrix(y_test, ypred)"
   ]
  },
  {
   "cell_type": "code",
   "execution_count": 36,
   "metadata": {},
   "outputs": [
    {
     "name": "stdout",
     "output_type": "stream",
     "text": [
      "Base rate accuracy is: 0.82\n"
     ]
    }
   ],
   "source": [
    "from sklearn.metrics import accuracy_score\n",
    "print(\"Base rate accuracy is: %0.2f\" %(accuracy_score(y_test, ypred)))"
   ]
  },
  {
   "cell_type": "code",
   "execution_count": 37,
   "metadata": {},
   "outputs": [],
   "source": [
    "from sklearn.metrics import roc_auc_score\n",
    "from sklearn.metrics import classification_report"
   ]
  },
  {
   "cell_type": "code",
   "execution_count": 38,
   "metadata": {},
   "outputs": [
    {
     "name": "stdout",
     "output_type": "stream",
     "text": [
      "Logistic AUC = 0.68\n",
      "              precision    recall  f1-score   support\n",
      "\n",
      "           0       0.84      0.94      0.89      4942\n",
      "           1       0.70      0.43      0.53      1571\n",
      "\n",
      "    accuracy                           0.82      6513\n",
      "   macro avg       0.77      0.68      0.71      6513\n",
      "weighted avg       0.80      0.82      0.80      6513\n",
      "\n"
     ]
    }
   ],
   "source": [
    "logit_roc_auc = roc_auc_score(y_test, ypred)\n",
    "print(\"Logistic AUC = %0.2f\" %logit_roc_auc)\n",
    "print(classification_report(y_test, ypred))"
   ]
  },
  {
   "cell_type": "code",
   "execution_count": 39,
   "metadata": {},
   "outputs": [
    {
     "name": "stdout",
     "output_type": "stream",
     "text": [
      "[0.23369659 0.02501796 0.52097005 0.14234326 0.38592994]\n"
     ]
    }
   ],
   "source": [
    "from sklearn.metrics import roc_curve\n",
    "b = model.predict_proba(x_test)[:,1]\n",
    "print(b[0:5])\n",
    "fpr, tpr, threshold = roc_curve(y_test, b)"
   ]
  },
  {
   "cell_type": "code",
   "execution_count": 40,
   "metadata": {},
   "outputs": [
    {
     "data": {
      "image/png": "[encoded data removed]",
      "text/plain": [
       "<Figure size 432x288 with 1 Axes>"
      ]
     },
     "metadata": {
      "needs_background": "light"
     },
     "output_type": "display_data"
    }
   ],
   "source": [
    "# plotting ROC curve\n",
    "import matplotlib.pyplot as plt\n",
    "plt.figure()\n",
    "plt.plot(fpr, tpr, label='ROC curve (area = %0.2f)' %logit_roc_auc)\n",
    "plt.plot([0,1], [0,1], 'k--')\n",
    "plt.xlim([0.0, 1.0])\n",
    "plt.ylim([0.0, 1.0])\n",
    "plt.xlabel('False Positive Rate')\n",
    "plt.ylabel('True Positive Rate')\n",
    "plt.title('Receiver operating characteristic example')\n",
    "plt.legend(loc=\"lower right\")\n",
    "plt.show()"
   ]
  },
  {
   "cell_type": "code",
   "execution_count": 41,
   "metadata": {},
   "outputs": [],
   "source": [
    "#### SVM"
   ]
  },
  {
   "cell_type": "code",
   "execution_count": 42,
   "metadata": {},
   "outputs": [],
   "source": [
    "import pandas as pd\n",
    "import numpy as np\n",
    "import matplotlib.pyplot as plt\n",
    "%matplotlib inline"
   ]
  },
  {
   "cell_type": "code",
   "execution_count": 43,
   "metadata": {},
   "outputs": [],
   "source": [
    "from sklearn.model_selection import train_test_split\n",
    "X_train, X_test, y_train, y_test = train_test_split(dfx, dfy, test_size = 0.20)"
   ]
  },
  {
   "cell_type": "code",
   "execution_count": 44,
   "metadata": {},
   "outputs": [
    {
     "name": "stderr",
     "output_type": "stream",
     "text": [
      "/Applications/anaconda3/lib/python3.7/site-packages/sklearn/utils/validation.py:724: DataConversionWarning: A column-vector y was passed when a 1d array was expected. Please change the shape of y to (n_samples, ), for example using ravel().\n",
      "  y = column_or_1d(y, warn=True)\n"
     ]
    },
    {
     "data": {
      "text/plain": [
       "SVC(C=1.2, cache_size=200, class_weight='balanced', coef0=0.0,\n",
       "    decision_function_shape='ovr', degree=3, gamma='scale', kernel='linear',\n",
       "    max_iter=-1, probability=False, random_state=0, shrinking=True, tol=0.001,\n",
       "    verbose=False)"
      ]
     },
     "execution_count": 44,
     "metadata": {},
     "output_type": "execute_result"
    }
   ],
   "source": [
    "from sklearn.svm import SVC\n",
    "svclassifier = SVC(kernel='linear', gamma = 'scale', class_weight='balanced', C=1.2, random_state=0)\n",
    "svclassifier.fit(X_train, y_train)"
   ]
  },
  {
   "cell_type": "code",
   "execution_count": 45,
   "metadata": {},
   "outputs": [],
   "source": [
    "y_pred = svclassifier.predict(X_test)"
   ]
  },
  {
   "cell_type": "code",
   "execution_count": 46,
   "metadata": {},
   "outputs": [
    {
     "name": "stdout",
     "output_type": "stream",
     "text": [
      "[[3610 1358]\n",
      " [ 293 1252]]\n",
      "              precision    recall  f1-score   support\n",
      "\n",
      "           0       0.92      0.73      0.81      4968\n",
      "           1       0.48      0.81      0.60      1545\n",
      "\n",
      "    accuracy                           0.75      6513\n",
      "   macro avg       0.70      0.77      0.71      6513\n",
      "weighted avg       0.82      0.75      0.76      6513\n",
      "\n"
     ]
    }
   ],
   "source": [
    "from sklearn.metrics import classification_report, confusion_matrix\n",
    "print(confusion_matrix(y_test,y_pred))\n",
    "print(classification_report(y_test,y_pred))"
   ]
  },
  {
   "cell_type": "code",
   "execution_count": 47,
   "metadata": {},
   "outputs": [
    {
     "name": "stderr",
     "output_type": "stream",
     "text": [
      "/Applications/anaconda3/lib/python3.7/site-packages/sklearn/utils/validation.py:724: DataConversionWarning: A column-vector y was passed when a 1d array was expected. Please change the shape of y to (n_samples, ), for example using ravel().\n",
      "  y = column_or_1d(y, warn=True)\n"
     ]
    },
    {
     "data": {
      "text/plain": [
       "SVC(C=1.2, cache_size=200, class_weight='balanced', coef0=0.0,\n",
       "    decision_function_shape='ovr', degree=8, gamma='scale', kernel='poly',\n",
       "    max_iter=-1, probability=False, random_state=0, shrinking=True, tol=0.001,\n",
       "    verbose=False)"
      ]
     },
     "execution_count": 47,
     "metadata": {},
     "output_type": "execute_result"
    }
   ],
   "source": [
    "# polynomial kernel\n",
    "\n",
    "from sklearn.svm import SVC\n",
    "svclassifier = SVC(kernel='poly', degree=8, gamma = 'scale', class_weight='balanced', C=1.2, random_state=0)\n",
    "svclassifier.fit(X_train, y_train)"
   ]
  },
  {
   "cell_type": "code",
   "execution_count": 48,
   "metadata": {},
   "outputs": [],
   "source": [
    "y_pred = svclassifier.predict(X_test)"
   ]
  },
  {
   "cell_type": "code",
   "execution_count": 49,
   "metadata": {},
   "outputs": [
    {
     "name": "stdout",
     "output_type": "stream",
     "text": [
      "[[4685  283]\n",
      " [1249  296]]\n",
      "              precision    recall  f1-score   support\n",
      "\n",
      "           0       0.79      0.94      0.86      4968\n",
      "           1       0.51      0.19      0.28      1545\n",
      "\n",
      "    accuracy                           0.76      6513\n",
      "   macro avg       0.65      0.57      0.57      6513\n",
      "weighted avg       0.72      0.76      0.72      6513\n",
      "\n"
     ]
    }
   ],
   "source": [
    "from sklearn.metrics import classification_report, confusion_matrix\n",
    "print(confusion_matrix(y_test, y_pred))\n",
    "print(classification_report(y_test, y_pred))"
   ]
  },
  {
   "cell_type": "code",
   "execution_count": 50,
   "metadata": {},
   "outputs": [
    {
     "name": "stderr",
     "output_type": "stream",
     "text": [
      "/Applications/anaconda3/lib/python3.7/site-packages/sklearn/utils/validation.py:724: DataConversionWarning: A column-vector y was passed when a 1d array was expected. Please change the shape of y to (n_samples, ), for example using ravel().\n",
      "  y = column_or_1d(y, warn=True)\n"
     ]
    },
    {
     "data": {
      "text/plain": [
       "SVC(C=0.8, cache_size=200, class_weight='balanced', coef0=0.0,\n",
       "    decision_function_shape='ovr', degree=3, gamma='scale', kernel='rbf',\n",
       "    max_iter=-1, probability=False, random_state=10, shrinking=True, tol=0.001,\n",
       "    verbose=False)"
      ]
     },
     "execution_count": 50,
     "metadata": {},
     "output_type": "execute_result"
    }
   ],
   "source": [
    "# Guassian kernel\n",
    "\n",
    "from sklearn.svm import SVC\n",
    "svclassifier = SVC(kernel='rbf', gamma = 'scale', class_weight='balanced', C=0.8, random_state=10)\n",
    "svclassifier.fit(X_train, y_train)"
   ]
  },
  {
   "cell_type": "code",
   "execution_count": 51,
   "metadata": {},
   "outputs": [],
   "source": [
    "y_pred = svclassifier.predict(X_test)"
   ]
  },
  {
   "cell_type": "code",
   "execution_count": 52,
   "metadata": {},
   "outputs": [
    {
     "name": "stdout",
     "output_type": "stream",
     "text": [
      "[[2776 2192]\n",
      " [ 791  754]]\n",
      "              precision    recall  f1-score   support\n",
      "\n",
      "           0       0.78      0.56      0.65      4968\n",
      "           1       0.26      0.49      0.34      1545\n",
      "\n",
      "    accuracy                           0.54      6513\n",
      "   macro avg       0.52      0.52      0.49      6513\n",
      "weighted avg       0.65      0.54      0.58      6513\n",
      "\n"
     ]
    }
   ],
   "source": [
    "from sklearn.metrics import classification_report, confusion_matrix\n",
    "print(confusion_matrix(y_test, y_pred))\n",
    "print(classification_report(y_test, y_pred))"
   ]
  },
  {
   "cell_type": "code",
   "execution_count": 53,
   "metadata": {},
   "outputs": [
    {
     "name": "stderr",
     "output_type": "stream",
     "text": [
      "/Applications/anaconda3/lib/python3.7/site-packages/sklearn/utils/validation.py:724: DataConversionWarning: A column-vector y was passed when a 1d array was expected. Please change the shape of y to (n_samples, ), for example using ravel().\n",
      "  y = column_or_1d(y, warn=True)\n"
     ]
    },
    {
     "data": {
      "text/plain": [
       "SVC(C=1.2, cache_size=200, class_weight='balanced', coef0=0.0,\n",
       "    decision_function_shape='ovr', degree=3, gamma='scale', kernel='sigmoid',\n",
       "    max_iter=-1, probability=False, random_state=0, shrinking=True, tol=0.001,\n",
       "    verbose=False)"
      ]
     },
     "execution_count": 53,
     "metadata": {},
     "output_type": "execute_result"
    }
   ],
   "source": [
    "# sigmoid kernel\n",
    "\n",
    "from sklearn.svm import SVC\n",
    "svclassifier = SVC(kernel='sigmoid', gamma = 'scale', class_weight='balanced', C=1.2, random_state=0)\n",
    "svclassifier.fit(X_train, y_train)"
   ]
  },
  {
   "cell_type": "code",
   "execution_count": 54,
   "metadata": {},
   "outputs": [],
   "source": [
    "y_pred = svclassifier.predict(X_test)"
   ]
  },
  {
   "cell_type": "code",
   "execution_count": 55,
   "metadata": {},
   "outputs": [
    {
     "name": "stdout",
     "output_type": "stream",
     "text": [
      "[[2359 2609]\n",
      " [ 780  765]]\n",
      "              precision    recall  f1-score   support\n",
      "\n",
      "           0       0.75      0.47      0.58      4968\n",
      "           1       0.23      0.50      0.31      1545\n",
      "\n",
      "    accuracy                           0.48      6513\n",
      "   macro avg       0.49      0.48      0.45      6513\n",
      "weighted avg       0.63      0.48      0.52      6513\n",
      "\n"
     ]
    }
   ],
   "source": [
    "from sklearn.metrics import classification_report, confusion_matrix\n",
    "print(confusion_matrix(y_test, y_pred))\n",
    "print(classification_report(y_test, y_pred))"
   ]
  }
 ],
 "metadata": {
  "kernelspec": {
   "display_name": "Python 3",
   "language": "python",
   "name": "python3"
  },
  "language_info": {
   "codemirror_mode": {
    "name": "ipython",
    "version": 3
   },
   "file_extension": ".py",
   "mimetype": "text/x-python",
   "name": "python",
   "nbconvert_exporter": "python",
   "pygments_lexer": "ipython3",
   "version": "3.7.3"
  }
 },
 "nbformat": 4,
 "nbformat_minor": 2
}
